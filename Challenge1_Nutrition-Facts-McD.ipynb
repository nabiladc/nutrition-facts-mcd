{
  "nbformat": 4,
  "nbformat_minor": 0,
  "metadata": {
    "colab": {
      "name": "Revisi_Challenge1_0151425120-34_Nabila Dwi Cahyani.ipynb",
      "provenance": [],
      "toc_visible": true
    },
    "kernelspec": {
      "name": "python3",
      "display_name": "Python 3"
    }
  },
  "cells": [
    {
      "cell_type": "markdown",
      "metadata": {
        "id": "Pc5UVwEBEUx8"
      },
      "source": [
        "# **Challenge 1**<br>\n",
        "**Data Science B**<br>\n",
        "Nabila Dwi Cahyani - 0151425120-34",
        "\n",
        "\n",
        "\n"
      ]
    },
    {
      "cell_type": "code",
      "metadata": {
        "id": "7I0LkAQwf3Ko",
        "outputId": "1ee5c7a2-440f-4b31-be97-7e86a80c6675",
        "colab": {
          "base_uri": "https://localhost:8080/",
          "height": 17
        }
      },
      "source": [
        "import pandas as pd\n",
        "import numpy as np\n",
        "import matplotlib.pyplot as plt\n",
        "import seaborn as sns\n",
        "from pulp import *\n",
        "from tabulate import tabulate\n",
        "import plotly.figure_factory as ff\n",
        "from plotly.offline import init_notebook_mode, iplot\n",
        "init_notebook_mode(connected=True)\n",
        "import plotly.graph_objs as go\n",
        "import warnings\n",
        "warnings.filterwarnings('ignore')\n",
        "\n",
        "%matplotlib inline"
      ],
      "execution_count": 1,
      "outputs": [
        {
          "output_type": "display_data",
          "data": {
            "text/html": [
              "        <script type=\"text/javascript\">\n",
              "        window.PlotlyConfig = {MathJaxConfig: 'local'};\n",
              "        if (window.MathJax) {MathJax.Hub.Config({SVG: {font: \"STIX-Web\"}});}\n",
              "        if (typeof require !== 'undefined') {\n",
              "        require.undef(\"plotly\");\n",
              "        requirejs.config({\n",
              "            paths: {\n",
              "                'plotly': ['https://cdn.plot.ly/plotly-latest.min']\n",
              "            }\n",
              "        });\n",
              "        require(['plotly'], function(Plotly) {\n",
              "            window._Plotly = Plotly;\n",
              "        });\n",
              "        }\n",
              "        </script>\n",
              "        "
            ]
          },
          "metadata": {
            "tags": []
          }
        }
      ]
    },
    {
      "cell_type": "code",
      "metadata": {
        "id": "tbt0KJQ2gXNd",
        "outputId": "2d22d744-375b-4d0f-eadd-41e92d851136",
        "colab": {
          "base_uri": "https://localhost:8080/",
          "height": 445
        }
      },
      "source": [
        "df = pd.read_csv('menu.csv')\n",
        "df.head()"
      ],
      "execution_count": 2,
      "outputs": [
        {
          "output_type": "execute_result",
          "data": {
            "text/html": [
              "<div>\n",
              "<style scoped>\n",
              "    .dataframe tbody tr th:only-of-type {\n",
              "        vertical-align: middle;\n",
              "    }\n",
              "\n",
              "    .dataframe tbody tr th {\n",
              "        vertical-align: top;\n",
              "    }\n",
              "\n",
              "    .dataframe thead th {\n",
              "        text-align: right;\n",
              "    }\n",
              "</style>\n",
              "<table border=\"1\" class=\"dataframe\">\n",
              "  <thead>\n",
              "    <tr style=\"text-align: right;\">\n",
              "      <th></th>\n",
              "      <th>Category</th>\n",
              "      <th>Item</th>\n",
              "      <th>Serving Size</th>\n",
              "      <th>Calories</th>\n",
              "      <th>Calories from Fat</th>\n",
              "      <th>Total Fat</th>\n",
              "      <th>Total Fat (% Daily Value)</th>\n",
              "      <th>Saturated Fat</th>\n",
              "      <th>Saturated Fat (% Daily Value)</th>\n",
              "      <th>Trans Fat</th>\n",
              "      <th>Cholesterol</th>\n",
              "      <th>Cholesterol (% Daily Value)</th>\n",
              "      <th>Sodium</th>\n",
              "      <th>Sodium (% Daily Value)</th>\n",
              "      <th>Carbohydrates</th>\n",
              "      <th>Carbohydrates (% Daily Value)</th>\n",
              "      <th>Dietary Fiber</th>\n",
              "      <th>Dietary Fiber (% Daily Value)</th>\n",
              "      <th>Sugars</th>\n",
              "      <th>Protein</th>\n",
              "      <th>Vitamin A (% Daily Value)</th>\n",
              "      <th>Vitamin C (% Daily Value)</th>\n",
              "      <th>Calcium (% Daily Value)</th>\n",
              "      <th>Iron (% Daily Value)</th>\n",
              "    </tr>\n",
              "  </thead>\n",
              "  <tbody>\n",
              "    <tr>\n",
              "      <th>0</th>\n",
              "      <td>Breakfast</td>\n",
              "      <td>Egg McMuffin</td>\n",
              "      <td>4.8 oz (136 g)</td>\n",
              "      <td>300</td>\n",
              "      <td>120</td>\n",
              "      <td>13.0</td>\n",
              "      <td>20</td>\n",
              "      <td>5.0</td>\n",
              "      <td>25</td>\n",
              "      <td>0.0</td>\n",
              "      <td>260</td>\n",
              "      <td>87</td>\n",
              "      <td>750</td>\n",
              "      <td>31</td>\n",
              "      <td>31</td>\n",
              "      <td>10</td>\n",
              "      <td>4</td>\n",
              "      <td>17</td>\n",
              "      <td>3</td>\n",
              "      <td>17</td>\n",
              "      <td>10</td>\n",
              "      <td>0</td>\n",
              "      <td>25</td>\n",
              "      <td>15</td>\n",
              "    </tr>\n",
              "    <tr>\n",
              "      <th>1</th>\n",
              "      <td>Breakfast</td>\n",
              "      <td>Egg White Delight</td>\n",
              "      <td>4.8 oz (135 g)</td>\n",
              "      <td>250</td>\n",
              "      <td>70</td>\n",
              "      <td>8.0</td>\n",
              "      <td>12</td>\n",
              "      <td>3.0</td>\n",
              "      <td>15</td>\n",
              "      <td>0.0</td>\n",
              "      <td>25</td>\n",
              "      <td>8</td>\n",
              "      <td>770</td>\n",
              "      <td>32</td>\n",
              "      <td>30</td>\n",
              "      <td>10</td>\n",
              "      <td>4</td>\n",
              "      <td>17</td>\n",
              "      <td>3</td>\n",
              "      <td>18</td>\n",
              "      <td>6</td>\n",
              "      <td>0</td>\n",
              "      <td>25</td>\n",
              "      <td>8</td>\n",
              "    </tr>\n",
              "    <tr>\n",
              "      <th>2</th>\n",
              "      <td>Breakfast</td>\n",
              "      <td>Sausage McMuffin</td>\n",
              "      <td>3.9 oz (111 g)</td>\n",
              "      <td>370</td>\n",
              "      <td>200</td>\n",
              "      <td>23.0</td>\n",
              "      <td>35</td>\n",
              "      <td>8.0</td>\n",
              "      <td>42</td>\n",
              "      <td>0.0</td>\n",
              "      <td>45</td>\n",
              "      <td>15</td>\n",
              "      <td>780</td>\n",
              "      <td>33</td>\n",
              "      <td>29</td>\n",
              "      <td>10</td>\n",
              "      <td>4</td>\n",
              "      <td>17</td>\n",
              "      <td>2</td>\n",
              "      <td>14</td>\n",
              "      <td>8</td>\n",
              "      <td>0</td>\n",
              "      <td>25</td>\n",
              "      <td>10</td>\n",
              "    </tr>\n",
              "    <tr>\n",
              "      <th>3</th>\n",
              "      <td>Breakfast</td>\n",
              "      <td>Sausage McMuffin with Egg</td>\n",
              "      <td>5.7 oz (161 g)</td>\n",
              "      <td>450</td>\n",
              "      <td>250</td>\n",
              "      <td>28.0</td>\n",
              "      <td>43</td>\n",
              "      <td>10.0</td>\n",
              "      <td>52</td>\n",
              "      <td>0.0</td>\n",
              "      <td>285</td>\n",
              "      <td>95</td>\n",
              "      <td>860</td>\n",
              "      <td>36</td>\n",
              "      <td>30</td>\n",
              "      <td>10</td>\n",
              "      <td>4</td>\n",
              "      <td>17</td>\n",
              "      <td>2</td>\n",
              "      <td>21</td>\n",
              "      <td>15</td>\n",
              "      <td>0</td>\n",
              "      <td>30</td>\n",
              "      <td>15</td>\n",
              "    </tr>\n",
              "    <tr>\n",
              "      <th>4</th>\n",
              "      <td>Breakfast</td>\n",
              "      <td>Sausage McMuffin with Egg Whites</td>\n",
              "      <td>5.7 oz (161 g)</td>\n",
              "      <td>400</td>\n",
              "      <td>210</td>\n",
              "      <td>23.0</td>\n",
              "      <td>35</td>\n",
              "      <td>8.0</td>\n",
              "      <td>42</td>\n",
              "      <td>0.0</td>\n",
              "      <td>50</td>\n",
              "      <td>16</td>\n",
              "      <td>880</td>\n",
              "      <td>37</td>\n",
              "      <td>30</td>\n",
              "      <td>10</td>\n",
              "      <td>4</td>\n",
              "      <td>17</td>\n",
              "      <td>2</td>\n",
              "      <td>21</td>\n",
              "      <td>6</td>\n",
              "      <td>0</td>\n",
              "      <td>25</td>\n",
              "      <td>10</td>\n",
              "    </tr>\n",
              "  </tbody>\n",
              "</table>\n",
              "</div>"
            ],
            "text/plain": [
              "    Category  ... Iron (% Daily Value)\n",
              "0  Breakfast  ...                   15\n",
              "1  Breakfast  ...                    8\n",
              "2  Breakfast  ...                   10\n",
              "3  Breakfast  ...                   15\n",
              "4  Breakfast  ...                   10\n",
              "\n",
              "[5 rows x 24 columns]"
            ]
          },
          "metadata": {
            "tags": []
          },
          "execution_count": 2
        }
      ]
    },
    {
      "cell_type": "code",
      "metadata": {
        "id": "1fs7VmwD-M-0"
      },
      "source": [
        "menu = df.copy()"
      ],
      "execution_count": 3,
      "outputs": []
    },
    {
      "cell_type": "code",
      "metadata": {
        "id": "dtUq7h34gc5v",
        "outputId": "ea932a87-df55-41b6-e056-846957e72082",
        "colab": {
          "base_uri": "https://localhost:8080/",
          "height": 663
        }
      },
      "source": [
        "# Check for Nulls\n",
        "print(df.isnull().any())\n",
        "print(\"--------------------------------------\")\n",
        "# check for numbers\n",
        "print(df.describe())\n",
        "print(\"--------------------------------------\")"
      ],
      "execution_count": 4,
      "outputs": [
        {
          "output_type": "stream",
          "text": [
            "Category                         False\n",
            "Item                             False\n",
            "Serving Size                     False\n",
            "Calories                         False\n",
            "Calories from Fat                False\n",
            "Total Fat                        False\n",
            "Total Fat (% Daily Value)        False\n",
            "Saturated Fat                    False\n",
            "Saturated Fat (% Daily Value)    False\n",
            "Trans Fat                        False\n",
            "Cholesterol                      False\n",
            "Cholesterol (% Daily Value)      False\n",
            "Sodium                           False\n",
            "Sodium (% Daily Value)           False\n",
            "Carbohydrates                    False\n",
            "Carbohydrates (% Daily Value)    False\n",
            "Dietary Fiber                    False\n",
            "Dietary Fiber (% Daily Value)    False\n",
            "Sugars                           False\n",
            "Protein                          False\n",
            "Vitamin A (% Daily Value)        False\n",
            "Vitamin C (% Daily Value)        False\n",
            "Calcium (% Daily Value)          False\n",
            "Iron (% Daily Value)             False\n",
            "dtype: bool\n",
            "--------------------------------------\n",
            "          Calories  ...  Iron (% Daily Value)\n",
            "count   260.000000  ...            260.000000\n",
            "mean    368.269231  ...              7.734615\n",
            "std     240.269886  ...              8.723263\n",
            "min       0.000000  ...              0.000000\n",
            "25%     210.000000  ...              0.000000\n",
            "50%     340.000000  ...              4.000000\n",
            "75%     500.000000  ...             15.000000\n",
            "max    1880.000000  ...             40.000000\n",
            "\n",
            "[8 rows x 21 columns]\n",
            "--------------------------------------\n"
          ],
          "name": "stdout"
        }
      ]
    },
    {
      "cell_type": "code",
      "metadata": {
        "id": "s5re4bufgpnT"
      },
      "source": [
        "df=df[[\"Category\",\"Item\",\"Calories\",\"Total Fat (% Daily Value)\",\"Saturated Fat (% Daily Value)\",\"Cholesterol (% Daily Value)\",\"Sodium (% Daily Value)\",\"Carbohydrates (% Daily Value)\",\"Dietary Fiber (% Daily Value)\",\"Vitamin A (% Daily Value)\",\"Vitamin C (% Daily Value)\",\"Calcium (% Daily Value)\",\"Iron (% Daily Value)\",\"Protein\",\"Sugars\",\"Trans Fat\"]]"
      ],
      "execution_count": 5,
      "outputs": []
    },
    {
      "cell_type": "code",
      "metadata": {
        "id": "VUhBdU7AgtKM",
        "outputId": "91cda2b3-a639-46e3-8377-3bebab746797",
        "colab": {
          "base_uri": "https://localhost:8080/",
          "height": 966
        }
      },
      "source": [
        "df.rename(columns = {\"Total Fat (% Daily Value)\":\"Total Fat\",\"Saturated Fat (% Daily Value)\":\"Saturated Fat\",\"Cholesterol (% Daily Value)\":\"Cholesterol\",\"Sodium (% Daily Value)\":\"Sodium\",\"Carbohydrates (% Daily Value)\":\"Carbohydrates\",\"Dietary Fiber (% Daily Value)\":\"Dietary Fiber\",\"Vitamin A (% Daily Value)\":\"Vitamin A\",\"Vitamin C (% Daily Value)\":\"Vitamin C\",\"Calcium (% Daily Value)\":\"Calcium\",\"Iron (% Daily Value)\":\"Iron\"},inplace=True)\n",
        "df.head(260)"
      ],
      "execution_count": 6,
      "outputs": [
        {
          "output_type": "execute_result",
          "data": {
            "text/html": [
              "<div>\n",
              "<style scoped>\n",
              "    .dataframe tbody tr th:only-of-type {\n",
              "        vertical-align: middle;\n",
              "    }\n",
              "\n",
              "    .dataframe tbody tr th {\n",
              "        vertical-align: top;\n",
              "    }\n",
              "\n",
              "    .dataframe thead th {\n",
              "        text-align: right;\n",
              "    }\n",
              "</style>\n",
              "<table border=\"1\" class=\"dataframe\">\n",
              "  <thead>\n",
              "    <tr style=\"text-align: right;\">\n",
              "      <th></th>\n",
              "      <th>Category</th>\n",
              "      <th>Item</th>\n",
              "      <th>Calories</th>\n",
              "      <th>Total Fat</th>\n",
              "      <th>Saturated Fat</th>\n",
              "      <th>Cholesterol</th>\n",
              "      <th>Sodium</th>\n",
              "      <th>Carbohydrates</th>\n",
              "      <th>Dietary Fiber</th>\n",
              "      <th>Vitamin A</th>\n",
              "      <th>Vitamin C</th>\n",
              "      <th>Calcium</th>\n",
              "      <th>Iron</th>\n",
              "      <th>Protein</th>\n",
              "      <th>Sugars</th>\n",
              "      <th>Trans Fat</th>\n",
              "    </tr>\n",
              "  </thead>\n",
              "  <tbody>\n",
              "    <tr>\n",
              "      <th>0</th>\n",
              "      <td>Breakfast</td>\n",
              "      <td>Egg McMuffin</td>\n",
              "      <td>300</td>\n",
              "      <td>20</td>\n",
              "      <td>25</td>\n",
              "      <td>87</td>\n",
              "      <td>31</td>\n",
              "      <td>10</td>\n",
              "      <td>17</td>\n",
              "      <td>10</td>\n",
              "      <td>0</td>\n",
              "      <td>25</td>\n",
              "      <td>15</td>\n",
              "      <td>17</td>\n",
              "      <td>3</td>\n",
              "      <td>0.0</td>\n",
              "    </tr>\n",
              "    <tr>\n",
              "      <th>1</th>\n",
              "      <td>Breakfast</td>\n",
              "      <td>Egg White Delight</td>\n",
              "      <td>250</td>\n",
              "      <td>12</td>\n",
              "      <td>15</td>\n",
              "      <td>8</td>\n",
              "      <td>32</td>\n",
              "      <td>10</td>\n",
              "      <td>17</td>\n",
              "      <td>6</td>\n",
              "      <td>0</td>\n",
              "      <td>25</td>\n",
              "      <td>8</td>\n",
              "      <td>18</td>\n",
              "      <td>3</td>\n",
              "      <td>0.0</td>\n",
              "    </tr>\n",
              "    <tr>\n",
              "      <th>2</th>\n",
              "      <td>Breakfast</td>\n",
              "      <td>Sausage McMuffin</td>\n",
              "      <td>370</td>\n",
              "      <td>35</td>\n",
              "      <td>42</td>\n",
              "      <td>15</td>\n",
              "      <td>33</td>\n",
              "      <td>10</td>\n",
              "      <td>17</td>\n",
              "      <td>8</td>\n",
              "      <td>0</td>\n",
              "      <td>25</td>\n",
              "      <td>10</td>\n",
              "      <td>14</td>\n",
              "      <td>2</td>\n",
              "      <td>0.0</td>\n",
              "    </tr>\n",
              "    <tr>\n",
              "      <th>3</th>\n",
              "      <td>Breakfast</td>\n",
              "      <td>Sausage McMuffin with Egg</td>\n",
              "      <td>450</td>\n",
              "      <td>43</td>\n",
              "      <td>52</td>\n",
              "      <td>95</td>\n",
              "      <td>36</td>\n",
              "      <td>10</td>\n",
              "      <td>17</td>\n",
              "      <td>15</td>\n",
              "      <td>0</td>\n",
              "      <td>30</td>\n",
              "      <td>15</td>\n",
              "      <td>21</td>\n",
              "      <td>2</td>\n",
              "      <td>0.0</td>\n",
              "    </tr>\n",
              "    <tr>\n",
              "      <th>4</th>\n",
              "      <td>Breakfast</td>\n",
              "      <td>Sausage McMuffin with Egg Whites</td>\n",
              "      <td>400</td>\n",
              "      <td>35</td>\n",
              "      <td>42</td>\n",
              "      <td>16</td>\n",
              "      <td>37</td>\n",
              "      <td>10</td>\n",
              "      <td>17</td>\n",
              "      <td>6</td>\n",
              "      <td>0</td>\n",
              "      <td>25</td>\n",
              "      <td>10</td>\n",
              "      <td>21</td>\n",
              "      <td>2</td>\n",
              "      <td>0.0</td>\n",
              "    </tr>\n",
              "    <tr>\n",
              "      <th>...</th>\n",
              "      <td>...</td>\n",
              "      <td>...</td>\n",
              "      <td>...</td>\n",
              "      <td>...</td>\n",
              "      <td>...</td>\n",
              "      <td>...</td>\n",
              "      <td>...</td>\n",
              "      <td>...</td>\n",
              "      <td>...</td>\n",
              "      <td>...</td>\n",
              "      <td>...</td>\n",
              "      <td>...</td>\n",
              "      <td>...</td>\n",
              "      <td>...</td>\n",
              "      <td>...</td>\n",
              "      <td>...</td>\n",
              "    </tr>\n",
              "    <tr>\n",
              "      <th>255</th>\n",
              "      <td>Smoothies &amp; Shakes</td>\n",
              "      <td>McFlurry with Oreo Cookies (Small)</td>\n",
              "      <td>510</td>\n",
              "      <td>26</td>\n",
              "      <td>44</td>\n",
              "      <td>14</td>\n",
              "      <td>12</td>\n",
              "      <td>27</td>\n",
              "      <td>4</td>\n",
              "      <td>15</td>\n",
              "      <td>0</td>\n",
              "      <td>40</td>\n",
              "      <td>8</td>\n",
              "      <td>12</td>\n",
              "      <td>64</td>\n",
              "      <td>0.5</td>\n",
              "    </tr>\n",
              "    <tr>\n",
              "      <th>256</th>\n",
              "      <td>Smoothies &amp; Shakes</td>\n",
              "      <td>McFlurry with Oreo Cookies (Medium)</td>\n",
              "      <td>690</td>\n",
              "      <td>35</td>\n",
              "      <td>58</td>\n",
              "      <td>19</td>\n",
              "      <td>16</td>\n",
              "      <td>35</td>\n",
              "      <td>5</td>\n",
              "      <td>20</td>\n",
              "      <td>0</td>\n",
              "      <td>50</td>\n",
              "      <td>10</td>\n",
              "      <td>15</td>\n",
              "      <td>85</td>\n",
              "      <td>1.0</td>\n",
              "    </tr>\n",
              "    <tr>\n",
              "      <th>257</th>\n",
              "      <td>Smoothies &amp; Shakes</td>\n",
              "      <td>McFlurry with Oreo Cookies (Snack)</td>\n",
              "      <td>340</td>\n",
              "      <td>17</td>\n",
              "      <td>29</td>\n",
              "      <td>9</td>\n",
              "      <td>8</td>\n",
              "      <td>18</td>\n",
              "      <td>2</td>\n",
              "      <td>10</td>\n",
              "      <td>0</td>\n",
              "      <td>25</td>\n",
              "      <td>6</td>\n",
              "      <td>8</td>\n",
              "      <td>43</td>\n",
              "      <td>0.0</td>\n",
              "    </tr>\n",
              "    <tr>\n",
              "      <th>258</th>\n",
              "      <td>Smoothies &amp; Shakes</td>\n",
              "      <td>McFlurry with Reese's Peanut Butter Cups (Medium)</td>\n",
              "      <td>810</td>\n",
              "      <td>50</td>\n",
              "      <td>76</td>\n",
              "      <td>20</td>\n",
              "      <td>17</td>\n",
              "      <td>38</td>\n",
              "      <td>9</td>\n",
              "      <td>20</td>\n",
              "      <td>0</td>\n",
              "      <td>60</td>\n",
              "      <td>6</td>\n",
              "      <td>21</td>\n",
              "      <td>103</td>\n",
              "      <td>1.0</td>\n",
              "    </tr>\n",
              "    <tr>\n",
              "      <th>259</th>\n",
              "      <td>Smoothies &amp; Shakes</td>\n",
              "      <td>McFlurry with Reese's Peanut Butter Cups (Snack)</td>\n",
              "      <td>410</td>\n",
              "      <td>25</td>\n",
              "      <td>38</td>\n",
              "      <td>10</td>\n",
              "      <td>8</td>\n",
              "      <td>19</td>\n",
              "      <td>5</td>\n",
              "      <td>10</td>\n",
              "      <td>0</td>\n",
              "      <td>30</td>\n",
              "      <td>4</td>\n",
              "      <td>10</td>\n",
              "      <td>51</td>\n",
              "      <td>0.0</td>\n",
              "    </tr>\n",
              "  </tbody>\n",
              "</table>\n",
              "<p>260 rows × 16 columns</p>\n",
              "</div>"
            ],
            "text/plain": [
              "               Category  ... Trans Fat\n",
              "0             Breakfast  ...       0.0\n",
              "1             Breakfast  ...       0.0\n",
              "2             Breakfast  ...       0.0\n",
              "3             Breakfast  ...       0.0\n",
              "4             Breakfast  ...       0.0\n",
              "..                  ...  ...       ...\n",
              "255  Smoothies & Shakes  ...       0.5\n",
              "256  Smoothies & Shakes  ...       1.0\n",
              "257  Smoothies & Shakes  ...       0.0\n",
              "258  Smoothies & Shakes  ...       1.0\n",
              "259  Smoothies & Shakes  ...       0.0\n",
              "\n",
              "[260 rows x 16 columns]"
            ]
          },
          "metadata": {
            "tags": []
          },
          "execution_count": 6
        }
      ]
    },
    {
      "cell_type": "markdown",
      "metadata": {
        "id": "kIwQHOq5gy50"
      },
      "source": [
        "# **A. How many calories does the average McDonald's value meal contain?**"
      ]
    },
    {
      "cell_type": "code",
      "metadata": {
        "id": "2Hj9bW7ZgvMB"
      },
      "source": [
        "a=df.iloc[0:260,:].groupby(\"Category\").Calories.mean().round(2)"
      ],
      "execution_count": 7,
      "outputs": []
    },
    {
      "cell_type": "code",
      "metadata": {
        "id": "HFxyR8XdhDMq",
        "outputId": "b93ba93f-88a7-44e7-bb69-ae915f38df7b",
        "colab": {
          "base_uri": "https://localhost:8080/",
          "height": 499
        }
      },
      "source": [
        "# Define dataframes for each category\n",
        "bp = df.loc[df.Category == 'Beef & Pork']\n",
        "bev = df.loc[df.Category == 'Beverages']\n",
        "bf = df.loc[df.Category == 'Breakfast']\n",
        "cf = df.loc[df.Category == 'Chicken & Fish']\n",
        "ct = df.loc[df.Category == 'Coffee & Tea']\n",
        "ds = df.loc[df.Category == 'Desserts']\n",
        "sld = df.loc[df.Category == 'Salads']\n",
        "smns = df.loc[df.Category == 'Smoothies & Shakes']\n",
        "snack = df.loc[df.Category == 'Snacks & Sides']\n",
        "\n",
        "\n",
        "# Average calories on each categories\n",
        "avg_cat = [round(bp['Calories'].mean(), 2), round(bev['Calories'].mean(),2), round(bf['Calories'].mean(), 2), round(cf['Calories'].mean(), 2), round(ct['Calories'].mean(), 2), round(ds['Calories'].mean(), 2), round(sld['Calories'].mean(), 2), round(smns['Calories'].mean(), 2), round(snack['Calories'].mean(), 2)]\n",
        "index = ['Beef & Pork', 'Beverages', 'Breakfast', 'Chicken & Fish', 'Coffee & Tea', 'Desserts', 'Salads', 'Smoothies & Snakes', 'Snacks & Sides']\n",
        "avg_calat= pd.DataFrame({'Avg Calories': avg_cat}, index=index)\n",
        "ax = avg_calat.plot.bar(rot=0, color=sns.color_palette(\"pink\", n_colors = 5), figsize=(16,8), \n",
        "                       title='Average Calories for Each Menu', legend=True)\n",
        "for p in ax.patches:\n",
        "    ax.annotate(str(p.get_height()), (p.get_x() * 1.005, p.get_height() * 1.005))"
      ],
      "execution_count": 8,
      "outputs": [
        {
          "output_type": "display_data",
          "data": {
            "image/png": "[encoded data removed]",
            "text/plain": [
              "<Figure size 1152x576 with 1 Axes>"
            ]
          },
          "metadata": {
            "tags": [],
            "needs_background": "light"
          }
        }
      ]
    },
    {
      "cell_type": "markdown",
      "metadata": {
        "id": "jV0cHClLlqbm"
      },
      "source": [
        "Chicken & Fish categories has the highest calories"
      ]
    },
    {
      "cell_type": "markdown",
      "metadata": {
        "id": "bn5V7G5SlxJO"
      },
      "source": [
        "# **B. How much do the beverages, like soda or coffee, contribute to the overall caloric intake?**"
      ]
    },
    {
      "cell_type": "markdown",
      "metadata": {
        "id": "9ceFYA4Bo1Hc"
      },
      "source": [
        "For Coffee & Tea"
      ]
    },
    {
      "cell_type": "code",
      "metadata": {
        "id": "Vi8s9RnhjCkG",
        "outputId": "24b7e342-6446-429d-bd10-72585181b753",
        "colab": {
          "base_uri": "https://localhost:8080/",
          "height": 499
        }
      },
      "source": [
        "# Define dataframes for each category\n",
        "bev = df.iloc[110:130]\n",
        "ct = df.loc[df.Category == 'Coffee & Tea']\n",
        "\n",
        "# Average calories on each categories\n",
        "avg_bef = [round(bev['Calories'].mean(), 2), round(ct['Calories'].mean(), 2)]\n",
        "index = ['Soda', 'Coffee & Tea']\n",
        "avg_bev= pd.DataFrame({'Avg Calories': avg_bef}, index=index)\n",
        "ay = avg_bev.plot.bar(rot=0, color=sns.color_palette(\"pink\", n_colors = 5), figsize=(5,8), \n",
        "                       title='Average Calories Beverages, Coffee & Tea', legend=True)\n",
        "for q in ay.patches:\n",
        "    ay.annotate(str(q.get_height()), (q.get_x() * 1.005, q.get_height() * 1.005))"
      ],
      "execution_count": 9,
      "outputs": [
        {
          "output_type": "display_data",
          "data": {
            "image/png": "[encoded data removed]",
            "text/plain": [
              "<Figure size 360x576 with 1 Axes>"
            ]
          },
          "metadata": {
            "tags": [],
            "needs_background": "light"
          }
        }
      ]
    },
    {
      "cell_type": "code",
      "metadata": {
        "id": "hdMa1bfEmRDh",
        "outputId": "2448c198-a0db-4cc2-badf-1117b929e35e",
        "colab": {
          "base_uri": "https://localhost:8080/",
          "height": 204
        }
      },
      "source": [
        "# Define Dataframes for coffetea\n",
        "coffee = df.iloc[137:232]\n",
        "\n",
        "# Generally, the recommended daily calorie intake is 2,000 calories a day for women and 2,500 for men\n",
        "# Get caloric intake contribution from coffee\n",
        "cal_coffee = pd.DataFrame({'Item': coffee.Item, 'Calories': coffee.Calories})\n",
        "cal_coffee['Calories'] = cal_coffee.Calories/2000\n",
        "cal_coffee.head()"
      ],
      "execution_count": 10,
      "outputs": [
        {
          "output_type": "execute_result",
          "data": {
            "text/html": [
              "<div>\n",
              "<style scoped>\n",
              "    .dataframe tbody tr th:only-of-type {\n",
              "        vertical-align: middle;\n",
              "    }\n",
              "\n",
              "    .dataframe tbody tr th {\n",
              "        vertical-align: top;\n",
              "    }\n",
              "\n",
              "    .dataframe thead th {\n",
              "        text-align: right;\n",
              "    }\n",
              "</style>\n",
              "<table border=\"1\" class=\"dataframe\">\n",
              "  <thead>\n",
              "    <tr style=\"text-align: right;\">\n",
              "      <th></th>\n",
              "      <th>Item</th>\n",
              "      <th>Calories</th>\n",
              "    </tr>\n",
              "  </thead>\n",
              "  <tbody>\n",
              "    <tr>\n",
              "      <th>137</th>\n",
              "      <td>Iced Tea (Small)</td>\n",
              "      <td>0.000</td>\n",
              "    </tr>\n",
              "    <tr>\n",
              "      <th>138</th>\n",
              "      <td>Iced Tea (Medium)</td>\n",
              "      <td>0.000</td>\n",
              "    </tr>\n",
              "    <tr>\n",
              "      <th>139</th>\n",
              "      <td>Iced Tea (Large)</td>\n",
              "      <td>0.000</td>\n",
              "    </tr>\n",
              "    <tr>\n",
              "      <th>140</th>\n",
              "      <td>Iced Tea (Child)</td>\n",
              "      <td>0.000</td>\n",
              "    </tr>\n",
              "    <tr>\n",
              "      <th>141</th>\n",
              "      <td>Sweet Tea (Small)</td>\n",
              "      <td>0.075</td>\n",
              "    </tr>\n",
              "  </tbody>\n",
              "</table>\n",
              "</div>"
            ],
            "text/plain": [
              "                  Item  Calories\n",
              "137   Iced Tea (Small)     0.000\n",
              "138  Iced Tea (Medium)     0.000\n",
              "139   Iced Tea (Large)     0.000\n",
              "140   Iced Tea (Child)     0.000\n",
              "141  Sweet Tea (Small)     0.075"
            ]
          },
          "metadata": {
            "tags": []
          },
          "execution_count": 10
        }
      ]
    },
    {
      "cell_type": "code",
      "metadata": {
        "id": "d3rw10UCntNK",
        "outputId": "ff0c030f-7202-4ff7-816b-1b10a708d261",
        "colab": {
          "base_uri": "https://localhost:8080/",
          "height": 51
        }
      },
      "source": [
        "avg_coffee = coffee['Calories'].mean()\n",
        "print(\"Average calories of Coffee & Tea is\", round(avg_coffee, 2))\n",
        "\n",
        "avg_coffee = pd.to_numeric(avg_coffee)\n",
        "coffee_cal = avg_coffee/2000\n",
        "print(\"Average of Coffee & Tea contribute to caloric intake is\", round(coffee_cal, 2))"
      ],
      "execution_count": 11,
      "outputs": [
        {
          "output_type": "stream",
          "text": [
            "Average calories of Coffee & Tea is 283.89\n",
            "Average of Coffee & Tea contribute to caloric intake is 0.14\n"
          ],
          "name": "stdout"
        }
      ]
    },
    {
      "cell_type": "markdown",
      "metadata": {
        "id": "r-ZjxtYso4Na"
      },
      "source": [
        "For Soda"
      ]
    },
    {
      "cell_type": "code",
      "metadata": {
        "id": "3Ix3MRXXmlWe",
        "outputId": "88d9d666-40a7-4d8b-e100-89c61eb52092",
        "colab": {
          "base_uri": "https://localhost:8080/",
          "height": 204
        }
      },
      "source": [
        "# Define Dataframes for Soda\n",
        "soda = df.iloc[110:130]\n",
        "\n",
        "# Generally, the recommended daily calorie intake is 2,000 calories a day for women and 2,500 for men\n",
        "# Get caloric intake contribution from Soda\n",
        "cal_soda = pd.DataFrame({'Item': soda.Item, 'Calories': soda.Calories})\n",
        "cal_soda['Calories'] = cal_soda.Calories/2000\n",
        "cal_soda.head()"
      ],
      "execution_count": 12,
      "outputs": [
        {
          "output_type": "execute_result",
          "data": {
            "text/html": [
              "<div>\n",
              "<style scoped>\n",
              "    .dataframe tbody tr th:only-of-type {\n",
              "        vertical-align: middle;\n",
              "    }\n",
              "\n",
              "    .dataframe tbody tr th {\n",
              "        vertical-align: top;\n",
              "    }\n",
              "\n",
              "    .dataframe thead th {\n",
              "        text-align: right;\n",
              "    }\n",
              "</style>\n",
              "<table border=\"1\" class=\"dataframe\">\n",
              "  <thead>\n",
              "    <tr style=\"text-align: right;\">\n",
              "      <th></th>\n",
              "      <th>Item</th>\n",
              "      <th>Calories</th>\n",
              "    </tr>\n",
              "  </thead>\n",
              "  <tbody>\n",
              "    <tr>\n",
              "      <th>110</th>\n",
              "      <td>Coca-Cola Classic (Small)</td>\n",
              "      <td>0.07</td>\n",
              "    </tr>\n",
              "    <tr>\n",
              "      <th>111</th>\n",
              "      <td>Coca-Cola Classic (Medium)</td>\n",
              "      <td>0.10</td>\n",
              "    </tr>\n",
              "    <tr>\n",
              "      <th>112</th>\n",
              "      <td>Coca-Cola Classic (Large)</td>\n",
              "      <td>0.14</td>\n",
              "    </tr>\n",
              "    <tr>\n",
              "      <th>113</th>\n",
              "      <td>Coca-Cola Classic (Child)</td>\n",
              "      <td>0.05</td>\n",
              "    </tr>\n",
              "    <tr>\n",
              "      <th>114</th>\n",
              "      <td>Diet Coke (Small)</td>\n",
              "      <td>0.00</td>\n",
              "    </tr>\n",
              "  </tbody>\n",
              "</table>\n",
              "</div>"
            ],
            "text/plain": [
              "                           Item  Calories\n",
              "110   Coca-Cola Classic (Small)      0.07\n",
              "111  Coca-Cola Classic (Medium)      0.10\n",
              "112   Coca-Cola Classic (Large)      0.14\n",
              "113   Coca-Cola Classic (Child)      0.05\n",
              "114           Diet Coke (Small)      0.00"
            ]
          },
          "metadata": {
            "tags": []
          },
          "execution_count": 12
        }
      ]
    },
    {
      "cell_type": "code",
      "metadata": {
        "id": "pGRXthOko8kJ",
        "outputId": "5e85e9d0-51fd-4d3e-a28d-d918f50c15e7",
        "colab": {
          "base_uri": "https://localhost:8080/",
          "height": 51
        }
      },
      "source": [
        "# Average Calories in Soda\n",
        "avg_soda = soda['Calories'].mean()\n",
        "print(\"Average calories of Soda is\", round(avg_soda, 2))\n",
        "\n",
        "avg_soda = pd.to_numeric(avg_soda)\n",
        "soda_cal = avg_soda/2000\n",
        "print(\"Average Soda contribute to caloric intake is\", round(soda_cal, 2))"
      ],
      "execution_count": 13,
      "outputs": [
        {
          "output_type": "stream",
          "text": [
            "Average calories of Soda is 107.0\n",
            "Average Soda contribute to caloric intake is 0.05\n"
          ],
          "name": "stdout"
        }
      ]
    },
    {
      "cell_type": "markdown",
      "metadata": {
        "id": "Zyyqwc7Bq87f"
      },
      "source": [
        "# **C. Does ordered grilled chicken instead of crispy increase a sandwich's nutritional value?**"
      ]
    },
    {
      "cell_type": "code",
      "metadata": {
        "id": "z47UQ70dpO1S",
        "outputId": "f32c1b36-58cb-452f-8aef-932b7b441146",
        "colab": {
          "base_uri": "https://localhost:8080/",
          "height": 221
        }
      },
      "source": [
        "df.Item.value_counts()"
      ],
      "execution_count": 14,
      "outputs": [
        {
          "output_type": "execute_result",
          "data": {
            "text/plain": [
              "Nonfat Latte (Small)                                    1\n",
              "Bacon McDouble                                          1\n",
              "Diet Coke (Child)                                       1\n",
              "Bacon, Egg & Cheese McGriddles                          1\n",
              "Iced Tea (Large)                                        1\n",
              "                                                       ..\n",
              "Vanilla Shake (Medium)                                  1\n",
              "Hazelnut Iced Coffee (Small)                            1\n",
              "Steak & Egg McMuffin                                    1\n",
              "Premium McWrap Chicken Sweet Chili (Grilled Chicken)    1\n",
              "Hotcakes and Sausage                                    1\n",
              "Name: Item, Length: 260, dtype: int64"
            ]
          },
          "metadata": {
            "tags": []
          },
          "execution_count": 14
        }
      ]
    },
    {
      "cell_type": "code",
      "metadata": {
        "id": "0Z4Hxz-DrLDJ"
      },
      "source": [
        "grilled = df[df['Item'].str.contains(\"Grilled\")]\n",
        "crispy = df[df['Item'].str.contains(\"Crispy\")]"
      ],
      "execution_count": 15,
      "outputs": []
    },
    {
      "cell_type": "code",
      "metadata": {
        "id": "nVsjOa1CygF2",
        "outputId": "bf9bad18-3987-4dd3-d9f9-d1d1d30fd555",
        "colab": {
          "base_uri": "https://localhost:8080/",
          "height": 493
        }
      },
      "source": [
        "cal_avg_grilled = round(grilled.Calories.mean(),2)\n",
        "ch_avg_grilled = round(grilled.Cholesterol.mean(),2)\n",
        "pro_avg_grilled = round(grilled.Protein.mean(),2)\n",
        "s_avg_grilled = round(grilled.Sodium.mean(),2)\n",
        "carbo_avg_grilled = round(grilled.Carbohydrates.mean(),2)\n",
        "tfat_avg_grilled = round(grilled['Total Fat'].mean(),2)\n",
        "sfat_avg_grilled = round(grilled['Saturated Fat'].mean(),2)\n",
        "df_avg_grilled = round(grilled['Dietary Fiber'].mean(),2)\n",
        "sg_avg_grilled = round(grilled['Sugars'].mean(),2)\n",
        "va_avg_grilled = round(grilled['Vitamin A'].mean(),2)\n",
        "vc_avg_grilled = round(grilled['Vitamin C'].mean(),2)\n",
        "c_avg_grilled = round(grilled['Calcium'].mean(),2)\n",
        "iron_avg_grilled = round(grilled['Iron'].mean(),2)\n",
        "print(\"The average for Grilled Chicken category is: \",\"\\nCalories\\t:\",cal_avg_grilled, \"Cal.\\nCholesterol\\t:\",cal_avg_grilled, \"mg.\\nProtein\\t\\t:\",pro_avg_grilled, \"g.\\nSodium\\t\\t:\", s_avg_grilled,\"mg.\\nCarbohydrates\\t:\", carbo_avg_grilled, \"%DV\\nTotal Fat\\t:\",tfat_avg_grilled,\"%DV\\nSaturated Fat\\t:\",sfat_avg_grilled,\"%DV\\nDietary Fiber\\t:\",df_avg_grilled,\"g.\\nSugars\\t\\t:\",s_avg_grilled, \"g.\\nVitamin A\\t:\", va_avg_grilled, \"%DV\\nVitamin C\\t:\", vc_avg_grilled, \"%DV\\nCalcium\\t\\t:\", c_avg_grilled, \"%DV\\nIron\\t\\t:\", iron_avg_grilled,\"%DV\")\n",
        "cal_avg_crispy = round(crispy.Calories.mean(),2)\n",
        "ch_avg_crispy = crispy.Cholesterol.mean()\n",
        "pro_avg_crispy = round(crispy.Protein.mean(),2)\n",
        "s_avg_crispy = round(crispy.Sodium.mean(), 2)\n",
        "carbo_avg_crispy = round(crispy.Carbohydrates.mean(), 2)\n",
        "tfat_avg_crispy = round(crispy['Total Fat'].mean(),2)\n",
        "sfat_avg_crispy = round(crispy['Saturated Fat'].mean(),2)\n",
        "df_avg_crispy = round(crispy['Dietary Fiber'].mean(),2)\n",
        "sg_avg_crispy = round(crispy['Sugars'].mean(),2)\n",
        "va_avg_crispy = round(crispy['Vitamin A'].mean(),2)\n",
        "vc_avg_crispy = round(crispy['Vitamin C'].mean(),2)\n",
        "c_avg_crispy = round(crispy['Calcium'].mean(),2)\n",
        "iron_avg_crispy = round(crispy['Iron'].mean(),2)\n",
        "print(\"The average for Crispy Chicken category is: \",\"\\nCalories\\t:\",cal_avg_crispy, \"Cal.\\nCholesterol\\t:\",cal_avg_crispy, \"mg.\\nProtein\\t\\t:\",pro_avg_crispy, \"g.\\nSodium\\t\\t:\", s_avg_crispy,\"mg.\\nCarbohydrates\\t:\", carbo_avg_crispy, \"%DV\\nTotal Fat\\t:\",tfat_avg_crispy,\"%DV\\nSaturated Fat\\t:\",sfat_avg_crispy,\"%DV\\nDietary Fiber\\t:\",df_avg_crispy,\"g.\\nSugars\\t\\t:\",s_avg_crispy, \"g.\\nVitamin A\\t:\", va_avg_crispy, \"%DV\\nVitamin C\\t:\", vc_avg_crispy, \"%DV\\nCalcium\\t\\t:\", c_avg_crispy, \"%DV\\nIron\\t\\t:\", iron_avg_crispy, \"%DV\")"
      ],
      "execution_count": 16,
      "outputs": [
        {
          "output_type": "stream",
          "text": [
            "The average for Grilled Chicken category is:  \n",
            "Calories\t: 386.92 Cal.\n",
            "Cholesterol\t: 386.92 mg.\n",
            "Protein\t\t: 28.62 g.\n",
            "Sodium\t\t: 42.38 mg.\n",
            "Carbohydrates\t: 12.38 %DV\n",
            "Total Fat\t: 21.46 %DV\n",
            "Saturated Fat\t: 24.08 %DV\n",
            "Dietary Fiber\t: 12.92 g.\n",
            "Sugars\t\t: 42.38 g.\n",
            "Vitamin A\t: 43.23 %DV\n",
            "Vitamin C\t: 16.46 %DV\n",
            "Calcium\t\t: 16.38 %DV\n",
            "Iron\t\t: 16.0 %DV\n",
            "The average for Crispy Chicken category is:  \n",
            "Calories\t: 520.0 Cal.\n",
            "Cholesterol\t: 520.0 mg.\n",
            "Protein\t\t: 24.93 g.\n",
            "Sodium\t\t: 47.86 mg.\n",
            "Carbohydrates\t: 16.29 %DV\n",
            "Total Fat\t: 38.5 %DV\n",
            "Saturated Fat\t: 30.64 %DV\n",
            "Dietary Fiber\t: 12.5 g.\n",
            "Sugars\t\t: 47.86 g.\n",
            "Vitamin A\t: 39.0 %DV\n",
            "Vitamin C\t: 13.79 %DV\n",
            "Calcium\t\t: 16.64 %DV\n",
            "Iron\t\t: 15.93 %DV\n"
          ],
          "name": "stdout"
        }
      ]
    },
    {
      "cell_type": "markdown",
      "metadata": {
        "id": "-FH7fmtYGkBy"
      },
      "source": [
        "Comparison of Calories, Cholesterol, Carbohydrates, Protein, and Total Fat for Grilled and Crispy menu"
      ]
    },
    {
      "cell_type": "code",
      "metadata": {
        "id": "J3Tl8h5Iyv_1"
      },
      "source": [
        "df['isGrilled'] = df.Item.str.contains(\"Grilled\")\n",
        "df['isCrispy'] = df.Item.str.contains(\"Crispy\")"
      ],
      "execution_count": 17,
      "outputs": []
    },
    {
      "cell_type": "code",
      "metadata": {
        "id": "uwge9tsh3whu"
      },
      "source": [
        "grilled_df = df[df['isGrilled'] == True]\n",
        "crispy_df = df[df['isCrispy'] == True]\n",
        "grilled_df=grilled_df[['Item','Total Fat','Calories','Cholesterol','Carbohydrates','Protein']]\n",
        "crispy_df=crispy_df[['Item','Total Fat','Calories','Cholesterol','Carbohydrates','Protein']]"
      ],
      "execution_count": 18,
      "outputs": []
    },
    {
      "cell_type": "code",
      "metadata": {
        "id": "mT4TEgdx3yje"
      },
      "source": [
        "df1=grilled_df.reset_index(drop=True).merge(crispy_df.reset_index(drop=True),left_index=True,right_index=True)"
      ],
      "execution_count": 19,
      "outputs": []
    },
    {
      "cell_type": "code",
      "metadata": {
        "id": "5vjVvDVm30Zb"
      },
      "source": [
        "df1.columns=['Items-Grilled','TotalFat-Grilled','Calories-Grilled','Cholesterol-Grilled','Carbohydrates-Grilled','Protein-Grilled','Items-Crispy','TotalFat-Crispy','Calories-Crispy','Cholesterol-Crispy','Carbohydrates-Crispy','Protein-Crispy']\n",
        "df1=df1.drop('Items-Crispy',axis=1)"
      ],
      "execution_count": 20,
      "outputs": []
    },
    {
      "cell_type": "code",
      "metadata": {
        "id": "No86_lSL372b"
      },
      "source": [
        "df1['Item']=df1['Items-Grilled'].str.replace(\"Grilled\",\"\")"
      ],
      "execution_count": 21,
      "outputs": []
    },
    {
      "cell_type": "code",
      "metadata": {
        "id": "WlnE97vD3-9W"
      },
      "source": [
        "df1=df1.drop('Items-Grilled',axis=1)"
      ],
      "execution_count": 22,
      "outputs": []
    },
    {
      "cell_type": "code",
      "metadata": {
        "id": "9yJ2rU3d4HWu",
        "outputId": "f700dd39-53ed-4fa0-df9a-df1c914b0c09",
        "colab": {
          "base_uri": "https://localhost:8080/",
          "height": 561
        }
      },
      "source": [
        "df1.index = df1.Item\n",
        "df1.head()"
      ],
      "execution_count": 23,
      "outputs": [
        {
          "output_type": "execute_result",
          "data": {
            "text/html": [
              "<div>\n",
              "<style scoped>\n",
              "    .dataframe tbody tr th:only-of-type {\n",
              "        vertical-align: middle;\n",
              "    }\n",
              "\n",
              "    .dataframe tbody tr th {\n",
              "        vertical-align: top;\n",
              "    }\n",
              "\n",
              "    .dataframe thead th {\n",
              "        text-align: right;\n",
              "    }\n",
              "</style>\n",
              "<table border=\"1\" class=\"dataframe\">\n",
              "  <thead>\n",
              "    <tr style=\"text-align: right;\">\n",
              "      <th></th>\n",
              "      <th>TotalFat-Grilled</th>\n",
              "      <th>Calories-Grilled</th>\n",
              "      <th>Cholesterol-Grilled</th>\n",
              "      <th>Carbohydrates-Grilled</th>\n",
              "      <th>Protein-Grilled</th>\n",
              "      <th>TotalFat-Crispy</th>\n",
              "      <th>Calories-Crispy</th>\n",
              "      <th>Cholesterol-Crispy</th>\n",
              "      <th>Carbohydrates-Crispy</th>\n",
              "      <th>Protein-Crispy</th>\n",
              "      <th>Item</th>\n",
              "    </tr>\n",
              "    <tr>\n",
              "      <th>Item</th>\n",
              "      <th></th>\n",
              "      <th></th>\n",
              "      <th></th>\n",
              "      <th></th>\n",
              "      <th></th>\n",
              "      <th></th>\n",
              "      <th></th>\n",
              "      <th></th>\n",
              "      <th></th>\n",
              "      <th></th>\n",
              "      <th></th>\n",
              "    </tr>\n",
              "  </thead>\n",
              "  <tbody>\n",
              "    <tr>\n",
              "      <th>Premium  Chicken Classic Sandwich</th>\n",
              "      <td>13</td>\n",
              "      <td>350</td>\n",
              "      <td>22</td>\n",
              "      <td>14</td>\n",
              "      <td>28</td>\n",
              "      <td>33</td>\n",
              "      <td>510</td>\n",
              "      <td>16</td>\n",
              "      <td>18</td>\n",
              "      <td>24</td>\n",
              "      <td>Premium  Chicken Classic Sandwich</td>\n",
              "    </tr>\n",
              "    <tr>\n",
              "      <th>Premium  Chicken Club Sandwich</th>\n",
              "      <td>31</td>\n",
              "      <td>510</td>\n",
              "      <td>35</td>\n",
              "      <td>15</td>\n",
              "      <td>40</td>\n",
              "      <td>51</td>\n",
              "      <td>670</td>\n",
              "      <td>29</td>\n",
              "      <td>19</td>\n",
              "      <td>36</td>\n",
              "      <td>Premium  Chicken Club Sandwich</td>\n",
              "    </tr>\n",
              "    <tr>\n",
              "      <th>Premium  Chicken Ranch BLT Sandwich</th>\n",
              "      <td>23</td>\n",
              "      <td>450</td>\n",
              "      <td>30</td>\n",
              "      <td>14</td>\n",
              "      <td>36</td>\n",
              "      <td>43</td>\n",
              "      <td>610</td>\n",
              "      <td>24</td>\n",
              "      <td>19</td>\n",
              "      <td>32</td>\n",
              "      <td>Premium  Chicken Ranch BLT Sandwich</td>\n",
              "    </tr>\n",
              "    <tr>\n",
              "      <th>Bacon Clubhouse  Chicken Sandwich</th>\n",
              "      <td>39</td>\n",
              "      <td>590</td>\n",
              "      <td>37</td>\n",
              "      <td>17</td>\n",
              "      <td>40</td>\n",
              "      <td>59</td>\n",
              "      <td>750</td>\n",
              "      <td>31</td>\n",
              "      <td>22</td>\n",
              "      <td>36</td>\n",
              "      <td>Bacon Clubhouse  Chicken Sandwich</td>\n",
              "    </tr>\n",
              "    <tr>\n",
              "      <th>Premium McWrap Chicken &amp; Bacon ( Chicken)</th>\n",
              "      <td>28</td>\n",
              "      <td>480</td>\n",
              "      <td>32</td>\n",
              "      <td>14</td>\n",
              "      <td>36</td>\n",
              "      <td>29</td>\n",
              "      <td>430</td>\n",
              "      <td>14</td>\n",
              "      <td>14</td>\n",
              "      <td>21</td>\n",
              "      <td>Premium McWrap Chicken &amp; Bacon ( Chicken)</td>\n",
              "    </tr>\n",
              "  </tbody>\n",
              "</table>\n",
              "</div>"
            ],
            "text/plain": [
              "                                           TotalFat-Grilled  ...                                       Item\n",
              "Item                                                         ...                                           \n",
              "Premium  Chicken Classic Sandwich                        13  ...          Premium  Chicken Classic Sandwich\n",
              "Premium  Chicken Club Sandwich                           31  ...             Premium  Chicken Club Sandwich\n",
              "Premium  Chicken Ranch BLT Sandwich                      23  ...        Premium  Chicken Ranch BLT Sandwich\n",
              "Bacon Clubhouse  Chicken Sandwich                        39  ...          Bacon Clubhouse  Chicken Sandwich\n",
              "Premium McWrap Chicken & Bacon ( Chicken)                28  ...  Premium McWrap Chicken & Bacon ( Chicken)\n",
              "\n",
              "[5 rows x 11 columns]"
            ]
          },
          "metadata": {
            "tags": []
          },
          "execution_count": 23
        }
      ]
    },
    {
      "cell_type": "code",
      "metadata": {
        "id": "jP8oQo5d4O6Z"
      },
      "source": [
        "df1.drop(columns=\"Item\", inplace = True)"
      ],
      "execution_count": 24,
      "outputs": []
    },
    {
      "cell_type": "code",
      "metadata": {
        "id": "7woArBHI4VYi",
        "outputId": "64631d03-c95f-4754-b4ef-d393b4d2b5e5",
        "colab": {
          "base_uri": "https://localhost:8080/",
          "height": 298
        }
      },
      "source": [
        "df1[\"TotalFat-Crispy\"].replace({43:33}, inplace = True)\n",
        "df1.iloc[[2,0]]"
      ],
      "execution_count": 25,
      "outputs": [
        {
          "output_type": "execute_result",
          "data": {
            "text/html": [
              "<div>\n",
              "<style scoped>\n",
              "    .dataframe tbody tr th:only-of-type {\n",
              "        vertical-align: middle;\n",
              "    }\n",
              "\n",
              "    .dataframe tbody tr th {\n",
              "        vertical-align: top;\n",
              "    }\n",
              "\n",
              "    .dataframe thead th {\n",
              "        text-align: right;\n",
              "    }\n",
              "</style>\n",
              "<table border=\"1\" class=\"dataframe\">\n",
              "  <thead>\n",
              "    <tr style=\"text-align: right;\">\n",
              "      <th></th>\n",
              "      <th>TotalFat-Grilled</th>\n",
              "      <th>Calories-Grilled</th>\n",
              "      <th>Cholesterol-Grilled</th>\n",
              "      <th>Carbohydrates-Grilled</th>\n",
              "      <th>Protein-Grilled</th>\n",
              "      <th>TotalFat-Crispy</th>\n",
              "      <th>Calories-Crispy</th>\n",
              "      <th>Cholesterol-Crispy</th>\n",
              "      <th>Carbohydrates-Crispy</th>\n",
              "      <th>Protein-Crispy</th>\n",
              "    </tr>\n",
              "    <tr>\n",
              "      <th>Item</th>\n",
              "      <th></th>\n",
              "      <th></th>\n",
              "      <th></th>\n",
              "      <th></th>\n",
              "      <th></th>\n",
              "      <th></th>\n",
              "      <th></th>\n",
              "      <th></th>\n",
              "      <th></th>\n",
              "      <th></th>\n",
              "    </tr>\n",
              "  </thead>\n",
              "  <tbody>\n",
              "    <tr>\n",
              "      <th>Premium  Chicken Ranch BLT Sandwich</th>\n",
              "      <td>23</td>\n",
              "      <td>450</td>\n",
              "      <td>30</td>\n",
              "      <td>14</td>\n",
              "      <td>36</td>\n",
              "      <td>33</td>\n",
              "      <td>610</td>\n",
              "      <td>24</td>\n",
              "      <td>19</td>\n",
              "      <td>32</td>\n",
              "    </tr>\n",
              "    <tr>\n",
              "      <th>Premium  Chicken Classic Sandwich</th>\n",
              "      <td>13</td>\n",
              "      <td>350</td>\n",
              "      <td>22</td>\n",
              "      <td>14</td>\n",
              "      <td>28</td>\n",
              "      <td>33</td>\n",
              "      <td>510</td>\n",
              "      <td>16</td>\n",
              "      <td>18</td>\n",
              "      <td>24</td>\n",
              "    </tr>\n",
              "  </tbody>\n",
              "</table>\n",
              "</div>"
            ],
            "text/plain": [
              "                                     TotalFat-Grilled  ...  Protein-Crispy\n",
              "Item                                                   ...                \n",
              "Premium  Chicken Ranch BLT Sandwich                23  ...              32\n",
              "Premium  Chicken Classic Sandwich                  13  ...              24\n",
              "\n",
              "[2 rows x 10 columns]"
            ]
          },
          "metadata": {
            "tags": []
          },
          "execution_count": 25
        }
      ]
    },
    {
      "cell_type": "code",
      "metadata": {
        "id": "1M-3KZAE5aKv",
        "outputId": "c6cd9863-7dbe-4e31-e8c4-b64e5ef80d0d",
        "colab": {
          "base_uri": "https://localhost:8080/",
          "height": 282
        }
      },
      "source": [
        "df1[[\"TotalFat-Grilled\", \"TotalFat-Crispy\"]].plot(kind = 'barh', color = sns.color_palette(\"hls\"))"
      ],
      "execution_count": 26,
      "outputs": [
        {
          "output_type": "execute_result",
          "data": {
            "text/plain": [
              "<matplotlib.axes._subplots.AxesSubplot at 0x7fb75cae62e8>"
            ]
          },
          "metadata": {
            "tags": []
          },
          "execution_count": 26
        },
        {
          "output_type": "display_data",
          "data": {
            "image/png": "[encoded data removed]",
            "text/plain": [
              "<Figure size 432x288 with 1 Axes>"
            ]
          },
          "metadata": {
            "tags": [],
            "needs_background": "light"
          }
        }
      ]
    },
    {
      "cell_type": "code",
      "metadata": {
        "id": "fNDla9w15uG-",
        "outputId": "64524b2d-51cf-4c61-c110-02dc2dcb92be",
        "colab": {
          "base_uri": "https://localhost:8080/",
          "height": 282
        }
      },
      "source": [
        "df1[[\"Calories-Grilled\", \"Calories-Crispy\"]].plot(kind = 'barh', color = sns.color_palette(\"crest\", n_colors=2))"
      ],
      "execution_count": 27,
      "outputs": [
        {
          "output_type": "execute_result",
          "data": {
            "text/plain": [
              "<matplotlib.axes._subplots.AxesSubplot at 0x7fb75c4f3e80>"
            ]
          },
          "metadata": {
            "tags": []
          },
          "execution_count": 27
        },
        {
          "output_type": "display_data",
          "data": {
            "image/png": "[encoded data removed]",
            "text/plain": [
              "<Figure size 432x288 with 1 Axes>"
            ]
          },
          "metadata": {
            "tags": [],
            "needs_background": "light"
          }
        }
      ]
    },
    {
      "cell_type": "code",
      "metadata": {
        "id": "76pAcXFFrSOA",
        "outputId": "4c020dce-461b-4f56-969e-93b35d91e691",
        "colab": {
          "base_uri": "https://localhost:8080/",
          "height": 282
        }
      },
      "source": [
        "df1[[\"Cholesterol-Grilled\", \"Cholesterol-Crispy\"]].plot(kind = 'barh', color = sns.color_palette(\"Paired\"))"
      ],
      "execution_count": 28,
      "outputs": [
        {
          "output_type": "execute_result",
          "data": {
            "text/plain": [
              "<matplotlib.axes._subplots.AxesSubplot at 0x7fb75b0c7c88>"
            ]
          },
          "metadata": {
            "tags": []
          },
          "execution_count": 28
        },
        {
          "output_type": "display_data",
          "data": {
            "image/png": "[encoded data removed]",
            "text/plain": [
              "<Figure size 432x288 with 1 Axes>"
            ]
          },
          "metadata": {
            "tags": [],
            "needs_background": "light"
          }
        }
      ]
    },
    {
      "cell_type": "code",
      "metadata": {
        "id": "9l2OIW8QrZAY",
        "outputId": "6cb727e7-59e0-4f6c-dc86-8a4d10b38cdf",
        "colab": {
          "base_uri": "https://localhost:8080/",
          "height": 282
        }
      },
      "source": [
        "df1[[\"Carbohydrates-Grilled\", \"Carbohydrates-Crispy\"]].plot(kind = 'barh', color = sns.color_palette(\"Pastel2\"))"
      ],
      "execution_count": 29,
      "outputs": [
        {
          "output_type": "execute_result",
          "data": {
            "text/plain": [
              "<matplotlib.axes._subplots.AxesSubplot at 0x7fb75b144278>"
            ]
          },
          "metadata": {
            "tags": []
          },
          "execution_count": 29
        },
        {
          "output_type": "display_data",
          "data": {
            "image/png": "[encoded data removed]",
            "text/plain": [
              "<Figure size 432x288 with 1 Axes>"
            ]
          },
          "metadata": {
            "tags": [],
            "needs_background": "light"
          }
        }
      ]
    },
    {
      "cell_type": "code",
      "metadata": {
        "id": "xQ6m5UqIrgda",
        "outputId": "3e2fc893-fec4-46dc-989d-e5c3f55d60f5",
        "colab": {
          "base_uri": "https://localhost:8080/",
          "height": 282
        }
      },
      "source": [
        "df1[[\"Protein-Grilled\", \"Protein-Crispy\"]].plot(kind = 'barh', color = sns.color_palette(\"Set2\"))\n"
      ],
      "execution_count": 30,
      "outputs": [
        {
          "output_type": "execute_result",
          "data": {
            "text/plain": [
              "<matplotlib.axes._subplots.AxesSubplot at 0x7fb75b038d30>"
            ]
          },
          "metadata": {
            "tags": []
          },
          "execution_count": 30
        },
        {
          "output_type": "display_data",
          "data": {
            "image/png": "[encoded data removed]",
            "text/plain": [
              "<Figure size 432x288 with 1 Axes>"
            ]
          },
          "metadata": {
            "tags": [],
            "needs_background": "light"
          }
        }
      ]
    },
    {
      "cell_type": "markdown",
      "metadata": {
        "id": "c4XMj1zUCiwE"
      },
      "source": [
        "*   The **Crispy** food items have **higher fat, calories and carbohydrates content** present as compared to **Grilled** food items\n",
        "*   These items (Chicken and Sandwiches) already have a **high calories content** as shown in the previous chart, now we can distinguish them on the basis of **Fat content** as  well\n",
        "*   The **Grilled** food items have the **higher cholesterol and protein** compared to **Crispy** food items\n",
        "\n",
        "\n",
        "\n"
      ]
    },
    {
      "cell_type": "markdown",
      "metadata": {
        "id": "3Yg1eFzM6n3t"
      },
      "source": [
        "# **D. What about ordering egg whites instead of whole eggs?**"
      ]
    },
    {
      "cell_type": "code",
      "metadata": {
        "id": "qJfZ5PUzzcnF"
      },
      "source": [
        "new_df = df.copy()\n",
        "new_df['Item'] = new_df['Item'].str.lower()"
      ],
      "execution_count": 31,
      "outputs": []
    },
    {
      "cell_type": "code",
      "metadata": {
        "id": "LVRXknl_62zF"
      },
      "source": [
        "egg_copy = new_df[new_df['Item'].str.contains('egg')]\n",
        "eggWhite = egg_copy[egg_copy['Item'].str.contains('white')]\n",
        "wholeEgg = egg_copy[~egg_copy['Item'].str.contains('white')]"
      ],
      "execution_count": 32,
      "outputs": []
    },
    {
      "cell_type": "code",
      "metadata": {
        "id": "APrwCqTu7YLj",
        "outputId": "b883da62-ad16-4508-9e70-33167abbf36a",
        "colab": {
          "base_uri": "https://localhost:8080/",
          "height": 493
        }
      },
      "source": [
        "cal_avg_white = round(eggWhite.Calories.mean(),2)\n",
        "ch_avg_white = round(eggWhite.Cholesterol.mean(),2)\n",
        "pro_avg_white = round(eggWhite.Protein.mean(),2)\n",
        "s_avg_white = round(eggWhite.Sodium.mean(),2)\n",
        "carbo_avg_white = round(eggWhite.Carbohydrates.mean(),2)\n",
        "tfat_avg_white = round(eggWhite['Total Fat'].mean(),2)\n",
        "sfat_avg_white = round(eggWhite['Saturated Fat'].mean(),2)\n",
        "df_avg_white = round(eggWhite['Dietary Fiber'].mean(),2)\n",
        "sg_avg_white = round(eggWhite['Sugars'].mean(),2)\n",
        "va_avg_white = round(eggWhite['Vitamin A'].mean(),2)\n",
        "vc_avg_white = round(eggWhite['Vitamin C'].mean(),2)\n",
        "c_avg_white = round(eggWhite['Calcium'].mean(),2)\n",
        "iron_avg_white = round(eggWhite['Iron'].mean(),2)\n",
        "print(\"The average for Egg White category is: \",\"\\nCalories\\t:\",cal_avg_white, \"Cal.\\nCholesterol\\t:\",cal_avg_white, \"mg.\\nProtein\\t\\t:\",pro_avg_white, \"g.\\nSodium\\t\\t:\", s_avg_grilled,\"mg.\\nCarbohydrates\\t:\", carbo_avg_white, \"%DV\\nTotal Fat\\t:\",tfat_avg_white,\"%DV\\nSaturated Fat\\t:\",sfat_avg_white,\"%DV\\nDietary Fiber\\t:\",df_avg_white,\"g.\\nSugars\\t\\t:\",s_avg_white, \"g.\\nVitamin A\\t:\", va_avg_white, \"%DV\\nVitamin C\\t:\", vc_avg_white, \"%DV\\nCalcium\\t\\t:\", c_avg_white, \"%DV\\nIron\\t\\t:\", iron_avg_white,\"%DV\")\n",
        "cal_avg_whole = round(wholeEgg.Calories.mean(),2)\n",
        "ch_avg_whole = wholeEgg.Cholesterol.mean()\n",
        "pro_avg_whole = round(wholeEgg.Protein.mean(),2)\n",
        "s_avg_whole = round(wholeEgg.Sodium.mean(), 2)\n",
        "carbo_avg_whole = round(wholeEgg.Carbohydrates.mean(), 2)\n",
        "tfat_avg_whole = round(wholeEgg['Total Fat'].mean(),2)\n",
        "sfat_avg_whole = round(wholeEgg['Saturated Fat'].mean(),2)\n",
        "df_avg_whole = round(wholeEgg['Dietary Fiber'].mean(),2)\n",
        "sg_avg_whole = round(wholeEgg['Sugars'].mean(),2)\n",
        "va_avg_whole = round(wholeEgg['Vitamin A'].mean(),2)\n",
        "vc_avg_whole = round(wholeEgg['Vitamin C'].mean(),2)\n",
        "c_avg_whole = round(wholeEgg['Calcium'].mean(),2)\n",
        "iron_avg_whole = round(wholeEgg['Iron'].mean(),2)\n",
        "print(\"The average for Whole Egg category is: \",\"\\nCalories\\t:\",cal_avg_whole, \"Cal.\\nCholesterol\\t:\",cal_avg_whole, \"mg.\\nProtein\\t\\t:\",pro_avg_whole, \"g.\\nSodium\\t\\t:\", s_avg_whole,\"mg.\\nCarbohydrates\\t:\", carbo_avg_whole, \"%DV\\nTotal Fat\\t:\",tfat_avg_whole,\"%DV\\nSaturated Fat\\t:\",sfat_avg_whole,\"%DV\\nDietary Fiber\\t:\",df_avg_whole,\"g.\\nSugars\\t\\t:\",s_avg_whole, \"g.\\nVitamin A\\t:\", va_avg_whole, \"%DV\\nVitamin C\\t:\", vc_avg_whole, \"%DV\\nCalcium\\t\\t:\", ch_avg_whole, \"%DV\\nIron\\t\\t:\", iron_avg_whole, \"%DV\")"
      ],
      "execution_count": 33,
      "outputs": [
        {
          "output_type": "stream",
          "text": [
            "The average for Egg White category is:  \n",
            "Calories\t: 565.38 Cal.\n",
            "Cholesterol\t: 565.38 mg.\n",
            "Protein\t\t: 23.69 g.\n",
            "Sodium\t\t: 42.38 mg.\n",
            "Carbohydrates\t: 17.62 %DV\n",
            "Total Fat\t: 44.46 %DV\n",
            "Saturated Fat\t: 56.15 %DV\n",
            "Dietary Fiber\t: 13.85 g.\n",
            "Sugars\t\t: 59.77 g.\n",
            "Vitamin A\t: 3.54 %DV\n",
            "Vitamin C\t: 3.77 %DV\n",
            "Calcium\t\t: 17.0 %DV\n",
            "Iron\t\t: 15.23 %DV\n",
            "The average for Whole Egg category is:  \n",
            "Calories\t: 506.67 Cal.\n",
            "Cholesterol\t: 506.67 mg.\n",
            "Protein\t\t: 22.08 g.\n",
            "Sodium\t\t: 51.25 mg.\n",
            "Carbohydrates\t: 13.83 %DV\n",
            "Total Fat\t: 43.58 %DV\n",
            "Saturated Fat\t: 58.58 %DV\n",
            "Dietary Fiber\t: 11.42 g.\n",
            "Sugars\t\t: 51.25 g.\n",
            "Vitamin A\t: 12.58 %DV\n",
            "Vitamin C\t: 4.08 %DV\n",
            "Calcium\t\t: 89.25 %DV\n",
            "Iron\t\t: 18.75 %DV\n"
          ],
          "name": "stdout"
        }
      ]
    },
    {
      "cell_type": "code",
      "metadata": {
        "id": "QYaYaI4wnoAu",
        "outputId": "caec82c7-5555-407d-bea7-a5cf222b8498",
        "colab": {
          "base_uri": "https://localhost:8080/",
          "height": 233
        }
      },
      "source": [
        "df_1 = pd.DataFrame(new_df.iloc[[3,4],1:])\n",
        "df_1"
      ],
      "execution_count": 34,
      "outputs": [
        {
          "output_type": "execute_result",
          "data": {
            "text/html": [
              "<div>\n",
              "<style scoped>\n",
              "    .dataframe tbody tr th:only-of-type {\n",
              "        vertical-align: middle;\n",
              "    }\n",
              "\n",
              "    .dataframe tbody tr th {\n",
              "        vertical-align: top;\n",
              "    }\n",
              "\n",
              "    .dataframe thead th {\n",
              "        text-align: right;\n",
              "    }\n",
              "</style>\n",
              "<table border=\"1\" class=\"dataframe\">\n",
              "  <thead>\n",
              "    <tr style=\"text-align: right;\">\n",
              "      <th></th>\n",
              "      <th>Item</th>\n",
              "      <th>Calories</th>\n",
              "      <th>Total Fat</th>\n",
              "      <th>Saturated Fat</th>\n",
              "      <th>Cholesterol</th>\n",
              "      <th>Sodium</th>\n",
              "      <th>Carbohydrates</th>\n",
              "      <th>Dietary Fiber</th>\n",
              "      <th>Vitamin A</th>\n",
              "      <th>Vitamin C</th>\n",
              "      <th>Calcium</th>\n",
              "      <th>Iron</th>\n",
              "      <th>Protein</th>\n",
              "      <th>Sugars</th>\n",
              "      <th>Trans Fat</th>\n",
              "      <th>isGrilled</th>\n",
              "      <th>isCrispy</th>\n",
              "    </tr>\n",
              "  </thead>\n",
              "  <tbody>\n",
              "    <tr>\n",
              "      <th>3</th>\n",
              "      <td>sausage mcmuffin with egg</td>\n",
              "      <td>450</td>\n",
              "      <td>43</td>\n",
              "      <td>52</td>\n",
              "      <td>95</td>\n",
              "      <td>36</td>\n",
              "      <td>10</td>\n",
              "      <td>17</td>\n",
              "      <td>15</td>\n",
              "      <td>0</td>\n",
              "      <td>30</td>\n",
              "      <td>15</td>\n",
              "      <td>21</td>\n",
              "      <td>2</td>\n",
              "      <td>0.0</td>\n",
              "      <td>False</td>\n",
              "      <td>False</td>\n",
              "    </tr>\n",
              "    <tr>\n",
              "      <th>4</th>\n",
              "      <td>sausage mcmuffin with egg whites</td>\n",
              "      <td>400</td>\n",
              "      <td>35</td>\n",
              "      <td>42</td>\n",
              "      <td>16</td>\n",
              "      <td>37</td>\n",
              "      <td>10</td>\n",
              "      <td>17</td>\n",
              "      <td>6</td>\n",
              "      <td>0</td>\n",
              "      <td>25</td>\n",
              "      <td>10</td>\n",
              "      <td>21</td>\n",
              "      <td>2</td>\n",
              "      <td>0.0</td>\n",
              "      <td>False</td>\n",
              "      <td>False</td>\n",
              "    </tr>\n",
              "  </tbody>\n",
              "</table>\n",
              "</div>"
            ],
            "text/plain": [
              "                               Item  Calories  ...  isGrilled  isCrispy\n",
              "3         sausage mcmuffin with egg       450  ...      False     False\n",
              "4  sausage mcmuffin with egg whites       400  ...      False     False\n",
              "\n",
              "[2 rows x 17 columns]"
            ]
          },
          "metadata": {
            "tags": []
          },
          "execution_count": 34
        }
      ]
    },
    {
      "cell_type": "code",
      "metadata": {
        "id": "NX4DLOfbn6P3",
        "outputId": "117c21ff-ec7b-4618-8478-e3fa0bb602f1",
        "colab": {
          "base_uri": "https://localhost:8080/",
          "height": 301
        }
      },
      "source": [
        "df_2 = pd.DataFrame(new_df.iloc[[12,14],1:])\n",
        "df_2"
      ],
      "execution_count": 35,
      "outputs": [
        {
          "output_type": "execute_result",
          "data": {
            "text/html": [
              "<div>\n",
              "<style scoped>\n",
              "    .dataframe tbody tr th:only-of-type {\n",
              "        vertical-align: middle;\n",
              "    }\n",
              "\n",
              "    .dataframe tbody tr th {\n",
              "        vertical-align: top;\n",
              "    }\n",
              "\n",
              "    .dataframe thead th {\n",
              "        text-align: right;\n",
              "    }\n",
              "</style>\n",
              "<table border=\"1\" class=\"dataframe\">\n",
              "  <thead>\n",
              "    <tr style=\"text-align: right;\">\n",
              "      <th></th>\n",
              "      <th>Item</th>\n",
              "      <th>Calories</th>\n",
              "      <th>Total Fat</th>\n",
              "      <th>Saturated Fat</th>\n",
              "      <th>Cholesterol</th>\n",
              "      <th>Sodium</th>\n",
              "      <th>Carbohydrates</th>\n",
              "      <th>Dietary Fiber</th>\n",
              "      <th>Vitamin A</th>\n",
              "      <th>Vitamin C</th>\n",
              "      <th>Calcium</th>\n",
              "      <th>Iron</th>\n",
              "      <th>Protein</th>\n",
              "      <th>Sugars</th>\n",
              "      <th>Trans Fat</th>\n",
              "      <th>isGrilled</th>\n",
              "      <th>isCrispy</th>\n",
              "    </tr>\n",
              "  </thead>\n",
              "  <tbody>\n",
              "    <tr>\n",
              "      <th>12</th>\n",
              "      <td>sausage biscuit with egg (regular biscuit)</td>\n",
              "      <td>510</td>\n",
              "      <td>50</td>\n",
              "      <td>71</td>\n",
              "      <td>83</td>\n",
              "      <td>49</td>\n",
              "      <td>12</td>\n",
              "      <td>6</td>\n",
              "      <td>6</td>\n",
              "      <td>0</td>\n",
              "      <td>10</td>\n",
              "      <td>20</td>\n",
              "      <td>18</td>\n",
              "      <td>2</td>\n",
              "      <td>0.0</td>\n",
              "      <td>False</td>\n",
              "      <td>False</td>\n",
              "    </tr>\n",
              "    <tr>\n",
              "      <th>14</th>\n",
              "      <td>sausage biscuit with egg whites (regular biscuit)</td>\n",
              "      <td>460</td>\n",
              "      <td>42</td>\n",
              "      <td>62</td>\n",
              "      <td>11</td>\n",
              "      <td>49</td>\n",
              "      <td>11</td>\n",
              "      <td>6</td>\n",
              "      <td>0</td>\n",
              "      <td>0</td>\n",
              "      <td>8</td>\n",
              "      <td>15</td>\n",
              "      <td>18</td>\n",
              "      <td>3</td>\n",
              "      <td>0.0</td>\n",
              "      <td>False</td>\n",
              "      <td>False</td>\n",
              "    </tr>\n",
              "  </tbody>\n",
              "</table>\n",
              "</div>"
            ],
            "text/plain": [
              "                                                 Item  ...  isCrispy\n",
              "12         sausage biscuit with egg (regular biscuit)  ...     False\n",
              "14  sausage biscuit with egg whites (regular biscuit)  ...     False\n",
              "\n",
              "[2 rows x 17 columns]"
            ]
          },
          "metadata": {
            "tags": []
          },
          "execution_count": 35
        }
      ]
    },
    {
      "cell_type": "code",
      "metadata": {
        "id": "A3kj85bvoCE_",
        "outputId": "d570bc3f-df04-4942-d30f-f3b192473099",
        "colab": {
          "base_uri": "https://localhost:8080/",
          "height": 301
        }
      },
      "source": [
        "df_3 = pd.DataFrame(new_df.iloc[[13,15],1:])\n",
        "df_3"
      ],
      "execution_count": 36,
      "outputs": [
        {
          "output_type": "execute_result",
          "data": {
            "text/html": [
              "<div>\n",
              "<style scoped>\n",
              "    .dataframe tbody tr th:only-of-type {\n",
              "        vertical-align: middle;\n",
              "    }\n",
              "\n",
              "    .dataframe tbody tr th {\n",
              "        vertical-align: top;\n",
              "    }\n",
              "\n",
              "    .dataframe thead th {\n",
              "        text-align: right;\n",
              "    }\n",
              "</style>\n",
              "<table border=\"1\" class=\"dataframe\">\n",
              "  <thead>\n",
              "    <tr style=\"text-align: right;\">\n",
              "      <th></th>\n",
              "      <th>Item</th>\n",
              "      <th>Calories</th>\n",
              "      <th>Total Fat</th>\n",
              "      <th>Saturated Fat</th>\n",
              "      <th>Cholesterol</th>\n",
              "      <th>Sodium</th>\n",
              "      <th>Carbohydrates</th>\n",
              "      <th>Dietary Fiber</th>\n",
              "      <th>Vitamin A</th>\n",
              "      <th>Vitamin C</th>\n",
              "      <th>Calcium</th>\n",
              "      <th>Iron</th>\n",
              "      <th>Protein</th>\n",
              "      <th>Sugars</th>\n",
              "      <th>Trans Fat</th>\n",
              "      <th>isGrilled</th>\n",
              "      <th>isCrispy</th>\n",
              "    </tr>\n",
              "  </thead>\n",
              "  <tbody>\n",
              "    <tr>\n",
              "      <th>13</th>\n",
              "      <td>sausage biscuit with egg (large biscuit)</td>\n",
              "      <td>570</td>\n",
              "      <td>57</td>\n",
              "      <td>74</td>\n",
              "      <td>83</td>\n",
              "      <td>53</td>\n",
              "      <td>14</td>\n",
              "      <td>11</td>\n",
              "      <td>10</td>\n",
              "      <td>0</td>\n",
              "      <td>10</td>\n",
              "      <td>20</td>\n",
              "      <td>18</td>\n",
              "      <td>3</td>\n",
              "      <td>0.0</td>\n",
              "      <td>False</td>\n",
              "      <td>False</td>\n",
              "    </tr>\n",
              "    <tr>\n",
              "      <th>15</th>\n",
              "      <td>sausage biscuit with egg whites (large biscuit)</td>\n",
              "      <td>520</td>\n",
              "      <td>49</td>\n",
              "      <td>65</td>\n",
              "      <td>11</td>\n",
              "      <td>54</td>\n",
              "      <td>13</td>\n",
              "      <td>11</td>\n",
              "      <td>4</td>\n",
              "      <td>0</td>\n",
              "      <td>8</td>\n",
              "      <td>15</td>\n",
              "      <td>18</td>\n",
              "      <td>3</td>\n",
              "      <td>0.0</td>\n",
              "      <td>False</td>\n",
              "      <td>False</td>\n",
              "    </tr>\n",
              "  </tbody>\n",
              "</table>\n",
              "</div>"
            ],
            "text/plain": [
              "                                               Item  ...  isCrispy\n",
              "13         sausage biscuit with egg (large biscuit)  ...     False\n",
              "15  sausage biscuit with egg whites (large biscuit)  ...     False\n",
              "\n",
              "[2 rows x 17 columns]"
            ]
          },
          "metadata": {
            "tags": []
          },
          "execution_count": 36
        }
      ]
    },
    {
      "cell_type": "code",
      "metadata": {
        "id": "GHijU2gR2SCo"
      },
      "source": [
        "frames = [df_1, df_2, df_3]\n",
        "result = pd.concat(frames)"
      ],
      "execution_count": 37,
      "outputs": []
    },
    {
      "cell_type": "code",
      "metadata": {
        "id": "0vUeEtFM2fth",
        "outputId": "d018fb7e-c25f-4072-f83d-b9feb7e52351",
        "colab": {
          "base_uri": "https://localhost:8080/",
          "height": 663
        }
      },
      "source": [
        "result"
      ],
      "execution_count": 38,
      "outputs": [
        {
          "output_type": "execute_result",
          "data": {
            "text/html": [
              "<div>\n",
              "<style scoped>\n",
              "    .dataframe tbody tr th:only-of-type {\n",
              "        vertical-align: middle;\n",
              "    }\n",
              "\n",
              "    .dataframe tbody tr th {\n",
              "        vertical-align: top;\n",
              "    }\n",
              "\n",
              "    .dataframe thead th {\n",
              "        text-align: right;\n",
              "    }\n",
              "</style>\n",
              "<table border=\"1\" class=\"dataframe\">\n",
              "  <thead>\n",
              "    <tr style=\"text-align: right;\">\n",
              "      <th></th>\n",
              "      <th>Item</th>\n",
              "      <th>Calories</th>\n",
              "      <th>Total Fat</th>\n",
              "      <th>Saturated Fat</th>\n",
              "      <th>Cholesterol</th>\n",
              "      <th>Sodium</th>\n",
              "      <th>Carbohydrates</th>\n",
              "      <th>Dietary Fiber</th>\n",
              "      <th>Vitamin A</th>\n",
              "      <th>Vitamin C</th>\n",
              "      <th>Calcium</th>\n",
              "      <th>Iron</th>\n",
              "      <th>Protein</th>\n",
              "      <th>Sugars</th>\n",
              "      <th>Trans Fat</th>\n",
              "      <th>isGrilled</th>\n",
              "      <th>isCrispy</th>\n",
              "    </tr>\n",
              "  </thead>\n",
              "  <tbody>\n",
              "    <tr>\n",
              "      <th>3</th>\n",
              "      <td>sausage mcmuffin with egg</td>\n",
              "      <td>450</td>\n",
              "      <td>43</td>\n",
              "      <td>52</td>\n",
              "      <td>95</td>\n",
              "      <td>36</td>\n",
              "      <td>10</td>\n",
              "      <td>17</td>\n",
              "      <td>15</td>\n",
              "      <td>0</td>\n",
              "      <td>30</td>\n",
              "      <td>15</td>\n",
              "      <td>21</td>\n",
              "      <td>2</td>\n",
              "      <td>0.0</td>\n",
              "      <td>False</td>\n",
              "      <td>False</td>\n",
              "    </tr>\n",
              "    <tr>\n",
              "      <th>4</th>\n",
              "      <td>sausage mcmuffin with egg whites</td>\n",
              "      <td>400</td>\n",
              "      <td>35</td>\n",
              "      <td>42</td>\n",
              "      <td>16</td>\n",
              "      <td>37</td>\n",
              "      <td>10</td>\n",
              "      <td>17</td>\n",
              "      <td>6</td>\n",
              "      <td>0</td>\n",
              "      <td>25</td>\n",
              "      <td>10</td>\n",
              "      <td>21</td>\n",
              "      <td>2</td>\n",
              "      <td>0.0</td>\n",
              "      <td>False</td>\n",
              "      <td>False</td>\n",
              "    </tr>\n",
              "    <tr>\n",
              "      <th>12</th>\n",
              "      <td>sausage biscuit with egg (regular biscuit)</td>\n",
              "      <td>510</td>\n",
              "      <td>50</td>\n",
              "      <td>71</td>\n",
              "      <td>83</td>\n",
              "      <td>49</td>\n",
              "      <td>12</td>\n",
              "      <td>6</td>\n",
              "      <td>6</td>\n",
              "      <td>0</td>\n",
              "      <td>10</td>\n",
              "      <td>20</td>\n",
              "      <td>18</td>\n",
              "      <td>2</td>\n",
              "      <td>0.0</td>\n",
              "      <td>False</td>\n",
              "      <td>False</td>\n",
              "    </tr>\n",
              "    <tr>\n",
              "      <th>14</th>\n",
              "      <td>sausage biscuit with egg whites (regular biscuit)</td>\n",
              "      <td>460</td>\n",
              "      <td>42</td>\n",
              "      <td>62</td>\n",
              "      <td>11</td>\n",
              "      <td>49</td>\n",
              "      <td>11</td>\n",
              "      <td>6</td>\n",
              "      <td>0</td>\n",
              "      <td>0</td>\n",
              "      <td>8</td>\n",
              "      <td>15</td>\n",
              "      <td>18</td>\n",
              "      <td>3</td>\n",
              "      <td>0.0</td>\n",
              "      <td>False</td>\n",
              "      <td>False</td>\n",
              "    </tr>\n",
              "    <tr>\n",
              "      <th>13</th>\n",
              "      <td>sausage biscuit with egg (large biscuit)</td>\n",
              "      <td>570</td>\n",
              "      <td>57</td>\n",
              "      <td>74</td>\n",
              "      <td>83</td>\n",
              "      <td>53</td>\n",
              "      <td>14</td>\n",
              "      <td>11</td>\n",
              "      <td>10</td>\n",
              "      <td>0</td>\n",
              "      <td>10</td>\n",
              "      <td>20</td>\n",
              "      <td>18</td>\n",
              "      <td>3</td>\n",
              "      <td>0.0</td>\n",
              "      <td>False</td>\n",
              "      <td>False</td>\n",
              "    </tr>\n",
              "    <tr>\n",
              "      <th>15</th>\n",
              "      <td>sausage biscuit with egg whites (large biscuit)</td>\n",
              "      <td>520</td>\n",
              "      <td>49</td>\n",
              "      <td>65</td>\n",
              "      <td>11</td>\n",
              "      <td>54</td>\n",
              "      <td>13</td>\n",
              "      <td>11</td>\n",
              "      <td>4</td>\n",
              "      <td>0</td>\n",
              "      <td>8</td>\n",
              "      <td>15</td>\n",
              "      <td>18</td>\n",
              "      <td>3</td>\n",
              "      <td>0.0</td>\n",
              "      <td>False</td>\n",
              "      <td>False</td>\n",
              "    </tr>\n",
              "  </tbody>\n",
              "</table>\n",
              "</div>"
            ],
            "text/plain": [
              "                                                 Item  ...  isCrispy\n",
              "3                           sausage mcmuffin with egg  ...     False\n",
              "4                    sausage mcmuffin with egg whites  ...     False\n",
              "12         sausage biscuit with egg (regular biscuit)  ...     False\n",
              "14  sausage biscuit with egg whites (regular biscuit)  ...     False\n",
              "13           sausage biscuit with egg (large biscuit)  ...     False\n",
              "15    sausage biscuit with egg whites (large biscuit)  ...     False\n",
              "\n",
              "[6 rows x 17 columns]"
            ]
          },
          "metadata": {
            "tags": []
          },
          "execution_count": 38
        }
      ]
    },
    {
      "cell_type": "code",
      "metadata": {
        "id": "Rhr-euZ1OqrA"
      },
      "source": [
        "egg_df = result[result['Item'].str.contains('egg')]\n",
        "# egg_with_white = egg_df[egg_df['Item'].str.contains('white')]\n",
        "# egg_without_white = egg_df[~egg_df['Item'].str.contains('white')]"
      ],
      "execution_count": 39,
      "outputs": []
    },
    {
      "cell_type": "code",
      "metadata": {
        "id": "WgBVYRum4dXg"
      },
      "source": [
        "egg_df['eggWhite'] = egg_df.Item.str.contains('white')\n",
        "egg_df['wholeEgg'] = ~egg_df.Item.str.contains('white')"
      ],
      "execution_count": 40,
      "outputs": []
    },
    {
      "cell_type": "code",
      "metadata": {
        "id": "Jku1wJ6z5oNM"
      },
      "source": [
        "wholeEgg_df = egg_df[egg_df['wholeEgg'] == True]\n",
        "eggWhite_df = egg_df[egg_df['eggWhite'] == True]\n",
        "wholeEgg_df = wholeEgg_df[['Item','Total Fat','Calories','Cholesterol','Carbohydrates','Protein']]\n",
        "eggWhite_df = eggWhite_df[['Item','Total Fat','Calories','Cholesterol','Carbohydrates','Protein']]"
      ],
      "execution_count": 41,
      "outputs": []
    },
    {
      "cell_type": "code",
      "metadata": {
        "id": "eAJDD3GM9SZb",
        "outputId": "dc6a3685-6264-4aff-ba04-ccc4d1e45c30",
        "colab": {
          "base_uri": "https://localhost:8080/",
          "height": 142
        }
      },
      "source": [
        "eggWhite_df"
      ],
      "execution_count": 42,
      "outputs": [
        {
          "output_type": "execute_result",
          "data": {
            "text/html": [
              "<div>\n",
              "<style scoped>\n",
              "    .dataframe tbody tr th:only-of-type {\n",
              "        vertical-align: middle;\n",
              "    }\n",
              "\n",
              "    .dataframe tbody tr th {\n",
              "        vertical-align: top;\n",
              "    }\n",
              "\n",
              "    .dataframe thead th {\n",
              "        text-align: right;\n",
              "    }\n",
              "</style>\n",
              "<table border=\"1\" class=\"dataframe\">\n",
              "  <thead>\n",
              "    <tr style=\"text-align: right;\">\n",
              "      <th></th>\n",
              "      <th>Item</th>\n",
              "      <th>Total Fat</th>\n",
              "      <th>Calories</th>\n",
              "      <th>Cholesterol</th>\n",
              "      <th>Carbohydrates</th>\n",
              "      <th>Protein</th>\n",
              "    </tr>\n",
              "  </thead>\n",
              "  <tbody>\n",
              "    <tr>\n",
              "      <th>4</th>\n",
              "      <td>sausage mcmuffin with egg whites</td>\n",
              "      <td>35</td>\n",
              "      <td>400</td>\n",
              "      <td>16</td>\n",
              "      <td>10</td>\n",
              "      <td>21</td>\n",
              "    </tr>\n",
              "    <tr>\n",
              "      <th>14</th>\n",
              "      <td>sausage biscuit with egg whites (regular biscuit)</td>\n",
              "      <td>42</td>\n",
              "      <td>460</td>\n",
              "      <td>11</td>\n",
              "      <td>11</td>\n",
              "      <td>18</td>\n",
              "    </tr>\n",
              "    <tr>\n",
              "      <th>15</th>\n",
              "      <td>sausage biscuit with egg whites (large biscuit)</td>\n",
              "      <td>49</td>\n",
              "      <td>520</td>\n",
              "      <td>11</td>\n",
              "      <td>13</td>\n",
              "      <td>18</td>\n",
              "    </tr>\n",
              "  </tbody>\n",
              "</table>\n",
              "</div>"
            ],
            "text/plain": [
              "                                                 Item  ...  Protein\n",
              "4                    sausage mcmuffin with egg whites  ...       21\n",
              "14  sausage biscuit with egg whites (regular biscuit)  ...       18\n",
              "15    sausage biscuit with egg whites (large biscuit)  ...       18\n",
              "\n",
              "[3 rows x 6 columns]"
            ]
          },
          "metadata": {
            "tags": []
          },
          "execution_count": 42
        }
      ]
    },
    {
      "cell_type": "code",
      "metadata": {
        "id": "78A5nR8t6Vvv"
      },
      "source": [
        "df_egg=wholeEgg_df.reset_index(drop=True).merge(eggWhite_df.reset_index(drop=True),left_index=True,right_index=True)"
      ],
      "execution_count": 43,
      "outputs": []
    },
    {
      "cell_type": "code",
      "metadata": {
        "id": "9yuqyXr866FU"
      },
      "source": [
        "df_egg.columns=['Items-wholeEgg','TotalFat-wholeEgg','Calories-wholeEgg','Cholesterol-wholeEgg','Carbohydrates-wholeEgg','Protein-wholeEgg','Items-eggWhite','TotalFat-eggWhite','Calories-eggWhite','Cholesterol-eggWhite','Carbohydrates-eggWhite','Protein-eggWhite']\n",
        "df_egg=df_egg.drop('Items-eggWhite',axis=1)"
      ],
      "execution_count": 44,
      "outputs": []
    },
    {
      "cell_type": "code",
      "metadata": {
        "id": "Lgs2Jn5s7XIE",
        "outputId": "f50e3f28-16d0-45aa-8ac2-d1b9912fdc32",
        "colab": {
          "base_uri": "https://localhost:8080/",
          "height": 349
        }
      },
      "source": [
        "df_egg.head()"
      ],
      "execution_count": 45,
      "outputs": [
        {
          "output_type": "execute_result",
          "data": {
            "text/html": [
              "<div>\n",
              "<style scoped>\n",
              "    .dataframe tbody tr th:only-of-type {\n",
              "        vertical-align: middle;\n",
              "    }\n",
              "\n",
              "    .dataframe tbody tr th {\n",
              "        vertical-align: top;\n",
              "    }\n",
              "\n",
              "    .dataframe thead th {\n",
              "        text-align: right;\n",
              "    }\n",
              "</style>\n",
              "<table border=\"1\" class=\"dataframe\">\n",
              "  <thead>\n",
              "    <tr style=\"text-align: right;\">\n",
              "      <th></th>\n",
              "      <th>Items-wholeEgg</th>\n",
              "      <th>TotalFat-wholeEgg</th>\n",
              "      <th>Calories-wholeEgg</th>\n",
              "      <th>Cholesterol-wholeEgg</th>\n",
              "      <th>Carbohydrates-wholeEgg</th>\n",
              "      <th>Protein-wholeEgg</th>\n",
              "      <th>TotalFat-eggWhite</th>\n",
              "      <th>Calories-eggWhite</th>\n",
              "      <th>Cholesterol-eggWhite</th>\n",
              "      <th>Carbohydrates-eggWhite</th>\n",
              "      <th>Protein-eggWhite</th>\n",
              "    </tr>\n",
              "  </thead>\n",
              "  <tbody>\n",
              "    <tr>\n",
              "      <th>0</th>\n",
              "      <td>sausage mcmuffin with egg</td>\n",
              "      <td>43</td>\n",
              "      <td>450</td>\n",
              "      <td>95</td>\n",
              "      <td>10</td>\n",
              "      <td>21</td>\n",
              "      <td>35</td>\n",
              "      <td>400</td>\n",
              "      <td>16</td>\n",
              "      <td>10</td>\n",
              "      <td>21</td>\n",
              "    </tr>\n",
              "    <tr>\n",
              "      <th>1</th>\n",
              "      <td>sausage biscuit with egg (regular biscuit)</td>\n",
              "      <td>50</td>\n",
              "      <td>510</td>\n",
              "      <td>83</td>\n",
              "      <td>12</td>\n",
              "      <td>18</td>\n",
              "      <td>42</td>\n",
              "      <td>460</td>\n",
              "      <td>11</td>\n",
              "      <td>11</td>\n",
              "      <td>18</td>\n",
              "    </tr>\n",
              "    <tr>\n",
              "      <th>2</th>\n",
              "      <td>sausage biscuit with egg (large biscuit)</td>\n",
              "      <td>57</td>\n",
              "      <td>570</td>\n",
              "      <td>83</td>\n",
              "      <td>14</td>\n",
              "      <td>18</td>\n",
              "      <td>49</td>\n",
              "      <td>520</td>\n",
              "      <td>11</td>\n",
              "      <td>13</td>\n",
              "      <td>18</td>\n",
              "    </tr>\n",
              "  </tbody>\n",
              "</table>\n",
              "</div>"
            ],
            "text/plain": [
              "                               Items-wholeEgg  ...  Protein-eggWhite\n",
              "0                   sausage mcmuffin with egg  ...                21\n",
              "1  sausage biscuit with egg (regular biscuit)  ...                18\n",
              "2    sausage biscuit with egg (large biscuit)  ...                18\n",
              "\n",
              "[3 rows x 11 columns]"
            ]
          },
          "metadata": {
            "tags": []
          },
          "execution_count": 45
        }
      ]
    },
    {
      "cell_type": "code",
      "metadata": {
        "id": "z5qictB4_XjD"
      },
      "source": [
        "df_egg['Item'] = df_egg['Items-wholeEgg'].str.replace(\"wholeEgg\",\"\")"
      ],
      "execution_count": 46,
      "outputs": []
    },
    {
      "cell_type": "code",
      "metadata": {
        "id": "kM3mBuow_oK-"
      },
      "source": [
        "df_egg = df_egg.drop('Items-wholeEgg',axis =1)"
      ],
      "execution_count": 47,
      "outputs": []
    },
    {
      "cell_type": "code",
      "metadata": {
        "id": "rzM1RIYC_zdc",
        "outputId": "2c9462a7-0bb5-4c70-c4bd-b0b9cb5ccf42",
        "colab": {
          "base_uri": "https://localhost:8080/",
          "height": 349
        }
      },
      "source": [
        "df_egg.head()"
      ],
      "execution_count": 48,
      "outputs": [
        {
          "output_type": "execute_result",
          "data": {
            "text/html": [
              "<div>\n",
              "<style scoped>\n",
              "    .dataframe tbody tr th:only-of-type {\n",
              "        vertical-align: middle;\n",
              "    }\n",
              "\n",
              "    .dataframe tbody tr th {\n",
              "        vertical-align: top;\n",
              "    }\n",
              "\n",
              "    .dataframe thead th {\n",
              "        text-align: right;\n",
              "    }\n",
              "</style>\n",
              "<table border=\"1\" class=\"dataframe\">\n",
              "  <thead>\n",
              "    <tr style=\"text-align: right;\">\n",
              "      <th></th>\n",
              "      <th>TotalFat-wholeEgg</th>\n",
              "      <th>Calories-wholeEgg</th>\n",
              "      <th>Cholesterol-wholeEgg</th>\n",
              "      <th>Carbohydrates-wholeEgg</th>\n",
              "      <th>Protein-wholeEgg</th>\n",
              "      <th>TotalFat-eggWhite</th>\n",
              "      <th>Calories-eggWhite</th>\n",
              "      <th>Cholesterol-eggWhite</th>\n",
              "      <th>Carbohydrates-eggWhite</th>\n",
              "      <th>Protein-eggWhite</th>\n",
              "      <th>Item</th>\n",
              "    </tr>\n",
              "  </thead>\n",
              "  <tbody>\n",
              "    <tr>\n",
              "      <th>0</th>\n",
              "      <td>43</td>\n",
              "      <td>450</td>\n",
              "      <td>95</td>\n",
              "      <td>10</td>\n",
              "      <td>21</td>\n",
              "      <td>35</td>\n",
              "      <td>400</td>\n",
              "      <td>16</td>\n",
              "      <td>10</td>\n",
              "      <td>21</td>\n",
              "      <td>sausage mcmuffin with egg</td>\n",
              "    </tr>\n",
              "    <tr>\n",
              "      <th>1</th>\n",
              "      <td>50</td>\n",
              "      <td>510</td>\n",
              "      <td>83</td>\n",
              "      <td>12</td>\n",
              "      <td>18</td>\n",
              "      <td>42</td>\n",
              "      <td>460</td>\n",
              "      <td>11</td>\n",
              "      <td>11</td>\n",
              "      <td>18</td>\n",
              "      <td>sausage biscuit with egg (regular biscuit)</td>\n",
              "    </tr>\n",
              "    <tr>\n",
              "      <th>2</th>\n",
              "      <td>57</td>\n",
              "      <td>570</td>\n",
              "      <td>83</td>\n",
              "      <td>14</td>\n",
              "      <td>18</td>\n",
              "      <td>49</td>\n",
              "      <td>520</td>\n",
              "      <td>11</td>\n",
              "      <td>13</td>\n",
              "      <td>18</td>\n",
              "      <td>sausage biscuit with egg (large biscuit)</td>\n",
              "    </tr>\n",
              "  </tbody>\n",
              "</table>\n",
              "</div>"
            ],
            "text/plain": [
              "   TotalFat-wholeEgg  ...                                        Item\n",
              "0                 43  ...                   sausage mcmuffin with egg\n",
              "1                 50  ...  sausage biscuit with egg (regular biscuit)\n",
              "2                 57  ...    sausage biscuit with egg (large biscuit)\n",
              "\n",
              "[3 rows x 11 columns]"
            ]
          },
          "metadata": {
            "tags": []
          },
          "execution_count": 48
        }
      ]
    },
    {
      "cell_type": "code",
      "metadata": {
        "id": "TSLMFQJN_5DZ",
        "outputId": "52606698-c0e8-444d-ed42-b80f9eb47a5c",
        "colab": {
          "base_uri": "https://localhost:8080/",
          "height": 380
        }
      },
      "source": [
        "df_egg.index = df_egg.Item\n",
        "df_egg"
      ],
      "execution_count": 49,
      "outputs": [
        {
          "output_type": "execute_result",
          "data": {
            "text/html": [
              "<div>\n",
              "<style scoped>\n",
              "    .dataframe tbody tr th:only-of-type {\n",
              "        vertical-align: middle;\n",
              "    }\n",
              "\n",
              "    .dataframe tbody tr th {\n",
              "        vertical-align: top;\n",
              "    }\n",
              "\n",
              "    .dataframe thead th {\n",
              "        text-align: right;\n",
              "    }\n",
              "</style>\n",
              "<table border=\"1\" class=\"dataframe\">\n",
              "  <thead>\n",
              "    <tr style=\"text-align: right;\">\n",
              "      <th></th>\n",
              "      <th>TotalFat-wholeEgg</th>\n",
              "      <th>Calories-wholeEgg</th>\n",
              "      <th>Cholesterol-wholeEgg</th>\n",
              "      <th>Carbohydrates-wholeEgg</th>\n",
              "      <th>Protein-wholeEgg</th>\n",
              "      <th>TotalFat-eggWhite</th>\n",
              "      <th>Calories-eggWhite</th>\n",
              "      <th>Cholesterol-eggWhite</th>\n",
              "      <th>Carbohydrates-eggWhite</th>\n",
              "      <th>Protein-eggWhite</th>\n",
              "      <th>Item</th>\n",
              "    </tr>\n",
              "    <tr>\n",
              "      <th>Item</th>\n",
              "      <th></th>\n",
              "      <th></th>\n",
              "      <th></th>\n",
              "      <th></th>\n",
              "      <th></th>\n",
              "      <th></th>\n",
              "      <th></th>\n",
              "      <th></th>\n",
              "      <th></th>\n",
              "      <th></th>\n",
              "      <th></th>\n",
              "    </tr>\n",
              "  </thead>\n",
              "  <tbody>\n",
              "    <tr>\n",
              "      <th>sausage mcmuffin with egg</th>\n",
              "      <td>43</td>\n",
              "      <td>450</td>\n",
              "      <td>95</td>\n",
              "      <td>10</td>\n",
              "      <td>21</td>\n",
              "      <td>35</td>\n",
              "      <td>400</td>\n",
              "      <td>16</td>\n",
              "      <td>10</td>\n",
              "      <td>21</td>\n",
              "      <td>sausage mcmuffin with egg</td>\n",
              "    </tr>\n",
              "    <tr>\n",
              "      <th>sausage biscuit with egg (regular biscuit)</th>\n",
              "      <td>50</td>\n",
              "      <td>510</td>\n",
              "      <td>83</td>\n",
              "      <td>12</td>\n",
              "      <td>18</td>\n",
              "      <td>42</td>\n",
              "      <td>460</td>\n",
              "      <td>11</td>\n",
              "      <td>11</td>\n",
              "      <td>18</td>\n",
              "      <td>sausage biscuit with egg (regular biscuit)</td>\n",
              "    </tr>\n",
              "    <tr>\n",
              "      <th>sausage biscuit with egg (large biscuit)</th>\n",
              "      <td>57</td>\n",
              "      <td>570</td>\n",
              "      <td>83</td>\n",
              "      <td>14</td>\n",
              "      <td>18</td>\n",
              "      <td>49</td>\n",
              "      <td>520</td>\n",
              "      <td>11</td>\n",
              "      <td>13</td>\n",
              "      <td>18</td>\n",
              "      <td>sausage biscuit with egg (large biscuit)</td>\n",
              "    </tr>\n",
              "  </tbody>\n",
              "</table>\n",
              "</div>"
            ],
            "text/plain": [
              "                                            TotalFat-wholeEgg  ...                                        Item\n",
              "Item                                                           ...                                            \n",
              "sausage mcmuffin with egg                                  43  ...                   sausage mcmuffin with egg\n",
              "sausage biscuit with egg (regular biscuit)                 50  ...  sausage biscuit with egg (regular biscuit)\n",
              "sausage biscuit with egg (large biscuit)                   57  ...    sausage biscuit with egg (large biscuit)\n",
              "\n",
              "[3 rows x 11 columns]"
            ]
          },
          "metadata": {
            "tags": []
          },
          "execution_count": 49
        }
      ]
    },
    {
      "cell_type": "code",
      "metadata": {
        "id": "4UfWV8t9-5PJ",
        "outputId": "dc45fb69-abaa-4d0d-decc-81e43f2d7161",
        "colab": {
          "base_uri": "https://localhost:8080/",
          "height": 282
        }
      },
      "source": [
        "df_egg[[\"TotalFat-eggWhite\",\"TotalFat-wholeEgg\"]].plot(kind = 'barh')"
      ],
      "execution_count": 50,
      "outputs": [
        {
          "output_type": "execute_result",
          "data": {
            "text/plain": [
              "<matplotlib.axes._subplots.AxesSubplot at 0x7fb75af76748>"
            ]
          },
          "metadata": {
            "tags": []
          },
          "execution_count": 50
        },
        {
          "output_type": "display_data",
          "data": {
            "image/png": "[encoded data removed]",
            "text/plain": [
              "<Figure size 432x288 with 1 Axes>"
            ]
          },
          "metadata": {
            "tags": [],
            "needs_background": "light"
          }
        }
      ]
    },
    {
      "cell_type": "code",
      "metadata": {
        "id": "_ILXBYdpBBeh",
        "outputId": "24688ed2-0934-4c55-eb8d-0c134ca974ee",
        "colab": {
          "base_uri": "https://localhost:8080/",
          "height": 282
        }
      },
      "source": [
        "df_egg[[\"Calories-eggWhite\",\"Calories-wholeEgg\"]].plot(kind = 'barh')"
      ],
      "execution_count": 51,
      "outputs": [
        {
          "output_type": "execute_result",
          "data": {
            "text/plain": [
              "<matplotlib.axes._subplots.AxesSubplot at 0x7fb75add6b38>"
            ]
          },
          "metadata": {
            "tags": []
          },
          "execution_count": 51
        },
        {
          "output_type": "display_data",
          "data": {
            "image/png": "[encoded data removed]",
            "text/plain": [
              "<Figure size 432x288 with 1 Axes>"
            ]
          },
          "metadata": {
            "tags": [],
            "needs_background": "light"
          }
        }
      ]
    },
    {
      "cell_type": "code",
      "metadata": {
        "id": "PBK9VJfqDqPs",
        "outputId": "d5cbe9ac-0f86-4d7c-ef3e-a1465e3de0ce",
        "colab": {
          "base_uri": "https://localhost:8080/",
          "height": 282
        }
      },
      "source": [
        "df_egg[[\"Cholesterol-eggWhite\",\"Cholesterol-wholeEgg\"]].plot(kind = 'barh')"
      ],
      "execution_count": 52,
      "outputs": [
        {
          "output_type": "execute_result",
          "data": {
            "text/plain": [
              "<matplotlib.axes._subplots.AxesSubplot at 0x7fb75ad50048>"
            ]
          },
          "metadata": {
            "tags": []
          },
          "execution_count": 52
        },
        {
          "output_type": "display_data",
          "data": {
            "image/png": "[encoded data removed]",
            "text/plain": [
              "<Figure size 432x288 with 1 Axes>"
            ]
          },
          "metadata": {
            "tags": [],
            "needs_background": "light"
          }
        }
      ]
    },
    {
      "cell_type": "code",
      "metadata": {
        "id": "Ufc1V4UIDdR0",
        "outputId": "7664ca48-60aa-4c5c-bf8a-ab4e8e4ab54e",
        "colab": {
          "base_uri": "https://localhost:8080/",
          "height": 282
        }
      },
      "source": [
        "df_egg[[\"Carbohydrates-eggWhite\",\"Carbohydrates-wholeEgg\"]].plot(kind = 'barh')"
      ],
      "execution_count": 53,
      "outputs": [
        {
          "output_type": "execute_result",
          "data": {
            "text/plain": [
              "<matplotlib.axes._subplots.AxesSubplot at 0x7fb75ad4b160>"
            ]
          },
          "metadata": {
            "tags": []
          },
          "execution_count": 53
        },
        {
          "output_type": "display_data",
          "data": {
            "image/png": "[encoded data removed]",
            "text/plain": [
              "<Figure size 432x288 with 1 Axes>"
            ]
          },
          "metadata": {
            "tags": [],
            "needs_background": "light"
          }
        }
      ]
    },
    {
      "cell_type": "code",
      "metadata": {
        "id": "JW5X8NPyDXzj",
        "outputId": "690d19e2-2656-4746-9d02-11d872a15601",
        "colab": {
          "base_uri": "https://localhost:8080/",
          "height": 282
        }
      },
      "source": [
        "df_egg[[\"Protein-eggWhite\",\"Protein-wholeEgg\"]].plot(kind = 'barh')"
      ],
      "execution_count": 54,
      "outputs": [
        {
          "output_type": "execute_result",
          "data": {
            "text/plain": [
              "<matplotlib.axes._subplots.AxesSubplot at 0x7fb75ac93b38>"
            ]
          },
          "metadata": {
            "tags": []
          },
          "execution_count": 54
        },
        {
          "output_type": "display_data",
          "data": {
            "image/png": "[encoded data removed]",
            "text/plain": [
              "<Figure size 432x288 with 1 Axes>"
            ]
          },
          "metadata": {
            "tags": [],
            "needs_background": "light"
          }
        }
      ]
    },
    {
      "cell_type": "markdown",
      "metadata": {
        "id": "5VSR6L86BDZt"
      },
      "source": [
        "# **E. What is the least number of items could you order from the menu to meet one day's nutritional requirements?**"
      ]
    },
    {
      "cell_type": "markdown",
      "metadata": {
        "id": "VwMCT11Gwm7P"
      },
      "source": [
        "**Energy**: 8,400kJ/2,000kcal<br>\n",
        "**Total fat**: less than 70g<br>\n",
        "**Saturates**: less than 20g<br>\n",
        "**Carbohydrate**: at least 260g<br>\n",
        "**Total sugars**: 90g<br>\n",
        "**Protein**: 50g<br>\n",
        "**Salt**: less than 6g<br>"
      ]
    },
    {
      "cell_type": "code",
      "metadata": {
        "id": "VAjNwAIVlo8z",
        "outputId": "235049f1-476f-409e-c26a-1b0928d34226",
        "colab": {
          "base_uri": "https://localhost:8080/",
          "height": 85
        }
      },
      "source": [
        "!pip install pulp"
      ],
      "execution_count": 55,
      "outputs": [
        {
          "output_type": "stream",
          "text": [
            "Requirement already satisfied: pulp in /usr/local/lib/python3.6/dist-packages (2.3)\n",
            "Requirement already satisfied: amply>=0.1.2 in /usr/local/lib/python3.6/dist-packages (from pulp) (0.1.4)\n",
            "Requirement already satisfied: pyparsing in /usr/local/lib/python3.6/dist-packages (from amply>=0.1.2->pulp) (2.4.7)\n",
            "Requirement already satisfied: docutils>=0.3 in /usr/local/lib/python3.6/dist-packages (from amply>=0.1.2->pulp) (0.16)\n"
          ],
          "name": "stdout"
        }
      ]
    },
    {
      "cell_type": "code",
      "metadata": {
        "id": "0Qxttjfoh-W4",
        "outputId": "84d65d93-ea68-424b-847b-e28386f50de0",
        "colab": {
          "base_uri": "https://localhost:8080/",
          "height": 860
        }
      },
      "source": [
        "#Convert the item names to a list\n",
        "MenuItems = menu.Item.tolist()\n",
        "\n",
        "#Convert all of the macro nutrients fields to be dictionaries of the item names\n",
        "Calories = menu.set_index('Item')['Calories'].to_dict()\n",
        "TotalFat = menu.set_index('Item')['Total Fat'].to_dict()\n",
        "SaturatedFat = menu.set_index('Item')['Saturated Fat'].to_dict()\n",
        "Carbohydrates = menu.set_index('Item')['Carbohydrates'].to_dict()\n",
        "Sugars = menu.set_index('Item')['Sugars'].to_dict()\n",
        "Protein = menu.set_index('Item')['Protein'].to_dict()\n",
        "Sodium = menu.set_index('Item')['Sodium'].to_dict()\n",
        "\n",
        "#Setting it up as a minimization problem\n",
        "prob = LpProblem(\"McOptimization Problem\", LpMinimize)\n",
        "MenuItems_vars = LpVariable.dicts(\"MenuItems\",MenuItems,lowBound=0, upBound=10,cat='Integer')\n",
        "sum = 0\n",
        "\n",
        "#First entry is the calorie calculation\n",
        "prob += lpSum([Calories[i]*MenuItems_vars[i] for i in MenuItems]), \"Calories\"\n",
        "\n",
        "#Total Fat must be <=70g\n",
        "prob += lpSum([TotalFat[i]*MenuItems_vars[i] for i in MenuItems]) <= 70, \"Total Fat\"\n",
        "\n",
        "# Saturated Fat is <= 20 g\n",
        "prob += lpSum([SaturatedFat[i]*MenuItems_vars[i] for i in MenuItems]) <= 20, \"SaturatedFat\"\n",
        "\n",
        "# Carbohydrate between 255 - 325\n",
        "prob += lpSum([Carbohydrates[i]*MenuItems_vars[i] for i in MenuItems]) >= 255, \"Carbohydrates lower\"\n",
        "prob += lpSum([Carbohydrates[i]*MenuItems_vars[i] for i in MenuItems]) <= 325, \"Carbohydrates upper\"\n",
        "\n",
        "#Sugar between 80-100\n",
        "prob += lpSum([Sugars[i]*MenuItems_vars[i] for i in MenuItems]) >= 80, \"Sugars_lower\"\n",
        "prob += lpSum([Sugars[i]*MenuItems_vars[i] for i in MenuItems]) <= 100, \"Sugars_upper\"\n",
        "\n",
        "#Protein between 45-55g\n",
        "prob += lpSum([Protein[i]*MenuItems_vars[i] for i in MenuItems]) >= 41, \"Protein_lower\"\n",
        "prob += lpSum([Protein[i]*MenuItems_vars[i] for i in MenuItems]) <= 51, \"Protein_upper\"\n",
        "\n",
        "#Sodium <=6000mg\n",
        "prob += lpSum([Sodium[i]*MenuItems_vars[i] for i in MenuItems]) <=6000, \"Sodium\"\n",
        "\n",
        "\n",
        "prob.writeLP(\"McOptimization.lp\")\n",
        "prob.solve()\n",
        "data_matrix = []\n",
        "data_matrix.append(['Item', 'Amount','Calories','Total Fat','Carbohydrates','Protein','Sodium'])\n",
        "\n",
        "print(\"Status:\", LpStatus[prob.status])\n",
        "for v in prob.variables():\n",
        "    if v.varValue > 0:\n",
        "        Item = menu.loc[df['Item'] == v.name.replace('MenuItems_','').replace('_',' ')]\n",
        "        Item_Calories = Item['Calories'].values*v.varValue\n",
        "        Item_TotalFat = Item['Total Fat'].values*v.varValue\n",
        "        Item_Carbohydrates = Item['Carbohydrates'].values*v.varValue\n",
        "        Item_Protein = Item['Protein'].values*v.varValue\n",
        "        Item_Sodium = Item['Sodium'].values*v.varValue\n",
        "\n",
        "\n",
        "        data_matrix.append([v.name.replace('MenuItems_','').replace('_',' '),v.varValue,Item_Calories[0], \\\n",
        "                           Item_TotalFat[0],Item_Carbohydrates[0],Item_Protein[0],Item_Sodium[0]])\n",
        "\n",
        "\n",
        "print(' ')\n",
        "#Get the total calories (minimized)\n",
        "print(\"Total Calories = \", value(prob.objective))\n",
        "\n",
        "#Loop over the constraint set and get the final solution\n",
        "results = {}\n",
        "for constraint in prob.constraints:\n",
        "    s = 0\n",
        "    for var, coefficient in prob.constraints[constraint].items():\n",
        "        sum += var.varValue * coefficient\n",
        "    results[prob.constraints[constraint].name.replace('_lower','').replace('_upper','')] = s  \n",
        "\n",
        "y_data = menu.copy()\n",
        "\n",
        "table = ff.create_table(data_matrix)\n",
        "print(data_matrix)\n",
        "iplot(table, filename='simple_table')\n",
        "fig = go.Figure()\n",
        "fig.add_trace(go.Bar(\n",
        "    name='Nutrition',\n",
        "    x=[\"Total Fat\",\"Saturated Fat\",\"Carbohydrates\",\"Sugars\",\"Protein\",\"Sodium\"],\\\n",
        "    y=[y_data[\"Total Fat\"],y_data[\"Saturated Fat\"],y_data[\"Carbohydrates\"],y_data[\"Sugars\"],y_data[\"Protein\"],y_data[\"Sodium\"]/1000],\n",
        "    error_y=dict(\n",
        "            type='data',\n",
        "            symmetric=False,\n",
        "            array=[70-y_data[\"Total Fat\"], 20-y_data[\"Saturated Fat\"], 0, 100-y_data[\"Sugars\"],55-y_data[\"Protein\"],2-y_data[\"Sodium\"]/1000],\n",
        "            arrayminus=[y_data[\"Total Fat\"]-0,y_data[\"Saturated Fat\"]-0,y_data[\"Carbohydrates\"]-260,y_data[\"Sugars\"]-80,y_data[\"Protein\"]-45,y_data[\"Sodium\"]/1000-0])\n",
        "))\n",
        "\n",
        "fig.layout.update(barmode='group')\n",
        "iplot(fig, filename='r')"
      ],
      "execution_count": 62,
      "outputs": [
        {
          "output_type": "stream",
          "text": [
            "Status: Optimal\n",
            " \n",
            "Total Calories =  1330.0\n",
            "[['Item', 'Amount', 'Calories', 'Total Fat', 'Carbohydrates', 'Protein', 'Sodium'], ['Apple Slices', 8.0, 120.0, 0.0, 32.0, 0.0, 0.0], ['Diet Dr Pepper (Large)', 4.0, 0.0, 0.0, 0.0, 16.0, 560.0], ['Fruit & Maple Oatmeal without Brown Sugar', 3.0, 780.0, 12.0, 147.0, 15.0, 345.0], ['Hotcakes', 1.0, 350.0, 9.0, 60.0, 8.0, 590.0], ['Side Salad', 4.0, 80.0, 0.0, 16.0, 4.0, 40.0]]\n"
          ],
          "name": "stdout"
        },
        {
          "output_type": "display_data",
          "data": {
            "text/html": [
              "<div>\n",
              "        \n",
              "        \n",
              "            <div id=\"448be94b-b818-4d67-b906-d9f855bb3074\" class=\"plotly-graph-div\" style=\"height:230px; width:100%;\"></div>\n",
              "            <script type=\"text/javascript\">\n",
              "                require([\"plotly\"], function(Plotly) {\n",
              "                    window.PLOTLYENV=window.PLOTLYENV || {};\n",
              "                    \n",
              "                if (document.getElementById(\"448be94b-b818-4d67-b906-d9f855bb3074\")) {\n",
              "                    Plotly.newPlot(\n",
              "                        '448be94b-b818-4d67-b906-d9f855bb3074',\n",
              "                        [{\"colorscale\": [[0, \"#00083e\"], [0.5, \"#ededee\"], [1, \"#ffffff\"]], \"hoverinfo\": \"none\", \"opacity\": 0.75, \"showscale\": false, \"type\": \"heatmap\", \"z\": [[0, 0, 0, 0, 0, 0, 0], [0.5, 0.5, 0.5, 0.5, 0.5, 0.5, 0.5], [1, 1, 1, 1, 1, 1, 1], [0.5, 0.5, 0.5, 0.5, 0.5, 0.5, 0.5], [1, 1, 1, 1, 1, 1, 1], [0.5, 0.5, 0.5, 0.5, 0.5, 0.5, 0.5]]}],\n",
              "                        {\"annotations\": [{\"align\": \"left\", \"font\": {\"color\": \"#ffffff\"}, \"showarrow\": false, \"text\": \"<b>Item</b>\", \"x\": -0.45, \"xanchor\": \"left\", \"xref\": \"x\", \"y\": 0, \"yref\": \"y\"}, {\"align\": \"left\", \"font\": {\"color\": \"#ffffff\"}, \"showarrow\": false, \"text\": \"<b>Amount</b>\", \"x\": 0.55, \"xanchor\": \"left\", \"xref\": \"x\", \"y\": 0, \"yref\": \"y\"}, {\"align\": \"left\", \"font\": {\"color\": \"#ffffff\"}, \"showarrow\": false, \"text\": \"<b>Calories</b>\", \"x\": 1.55, \"xanchor\": \"left\", \"xref\": \"x\", \"y\": 0, \"yref\": \"y\"}, {\"align\": \"left\", \"font\": {\"color\": \"#ffffff\"}, \"showarrow\": false, \"text\": \"<b>Total Fat</b>\", \"x\": 2.55, \"xanchor\": \"left\", \"xref\": \"x\", \"y\": 0, \"yref\": \"y\"}, {\"align\": \"left\", \"font\": {\"color\": \"#ffffff\"}, \"showarrow\": false, \"text\": \"<b>Carbohydrates</b>\", \"x\": 3.55, \"xanchor\": \"left\", \"xref\": \"x\", \"y\": 0, \"yref\": \"y\"}, {\"align\": \"left\", \"font\": {\"color\": \"#ffffff\"}, \"showarrow\": false, \"text\": \"<b>Protein</b>\", \"x\": 4.55, \"xanchor\": \"left\", \"xref\": \"x\", \"y\": 0, \"yref\": \"y\"}, {\"align\": \"left\", \"font\": {\"color\": \"#ffffff\"}, \"showarrow\": false, \"text\": \"<b>Sodium</b>\", \"x\": 5.55, \"xanchor\": \"left\", \"xref\": \"x\", \"y\": 0, \"yref\": \"y\"}, {\"align\": \"left\", \"font\": {\"color\": \"#000000\"}, \"showarrow\": false, \"text\": \"Apple Slices\", \"x\": -0.45, \"xanchor\": \"left\", \"xref\": \"x\", \"y\": 1, \"yref\": \"y\"}, {\"align\": \"left\", \"font\": {\"color\": \"#000000\"}, \"showarrow\": false, \"text\": \"8.0\", \"x\": 0.55, \"xanchor\": \"left\", \"xref\": \"x\", \"y\": 1, \"yref\": \"y\"}, {\"align\": \"left\", \"font\": {\"color\": \"#000000\"}, \"showarrow\": false, \"text\": \"120.0\", \"x\": 1.55, \"xanchor\": \"left\", \"xref\": \"x\", \"y\": 1, \"yref\": \"y\"}, {\"align\": \"left\", \"font\": {\"color\": \"#000000\"}, \"showarrow\": false, \"text\": \"0.0\", \"x\": 2.55, \"xanchor\": \"left\", \"xref\": \"x\", \"y\": 1, \"yref\": \"y\"}, {\"align\": \"left\", \"font\": {\"color\": \"#000000\"}, \"showarrow\": false, \"text\": \"32.0\", \"x\": 3.55, \"xanchor\": \"left\", \"xref\": \"x\", \"y\": 1, \"yref\": \"y\"}, {\"align\": \"left\", \"font\": {\"color\": \"#000000\"}, \"showarrow\": false, \"text\": \"0.0\", \"x\": 4.55, \"xanchor\": \"left\", \"xref\": \"x\", \"y\": 1, \"yref\": \"y\"}, {\"align\": \"left\", \"font\": {\"color\": \"#000000\"}, \"showarrow\": false, \"text\": \"0.0\", \"x\": 5.55, \"xanchor\": \"left\", \"xref\": \"x\", \"y\": 1, \"yref\": \"y\"}, {\"align\": \"left\", \"font\": {\"color\": \"#000000\"}, \"showarrow\": false, \"text\": \"Diet Dr Pepper (Large)\", \"x\": -0.45, \"xanchor\": \"left\", \"xref\": \"x\", \"y\": 2, \"yref\": \"y\"}, {\"align\": \"left\", \"font\": {\"color\": \"#000000\"}, \"showarrow\": false, \"text\": \"4.0\", \"x\": 0.55, \"xanchor\": \"left\", \"xref\": \"x\", \"y\": 2, \"yref\": \"y\"}, {\"align\": \"left\", \"font\": {\"color\": \"#000000\"}, \"showarrow\": false, \"text\": \"0.0\", \"x\": 1.55, \"xanchor\": \"left\", \"xref\": \"x\", \"y\": 2, \"yref\": \"y\"}, {\"align\": \"left\", \"font\": {\"color\": \"#000000\"}, \"showarrow\": false, \"text\": \"0.0\", \"x\": 2.55, \"xanchor\": \"left\", \"xref\": \"x\", \"y\": 2, \"yref\": \"y\"}, {\"align\": \"left\", \"font\": {\"color\": \"#000000\"}, \"showarrow\": false, \"text\": \"0.0\", \"x\": 3.55, \"xanchor\": \"left\", \"xref\": \"x\", \"y\": 2, \"yref\": \"y\"}, {\"align\": \"left\", \"font\": {\"color\": \"#000000\"}, \"showarrow\": false, \"text\": \"16.0\", \"x\": 4.55, \"xanchor\": \"left\", \"xref\": \"x\", \"y\": 2, \"yref\": \"y\"}, {\"align\": \"left\", \"font\": {\"color\": \"#000000\"}, \"showarrow\": false, \"text\": \"560.0\", \"x\": 5.55, \"xanchor\": \"left\", \"xref\": \"x\", \"y\": 2, \"yref\": \"y\"}, {\"align\": \"left\", \"font\": {\"color\": \"#000000\"}, \"showarrow\": false, \"text\": \"Fruit & Maple Oatmeal without Brown Sugar\", \"x\": -0.45, \"xanchor\": \"left\", \"xref\": \"x\", \"y\": 3, \"yref\": \"y\"}, {\"align\": \"left\", \"font\": {\"color\": \"#000000\"}, \"showarrow\": false, \"text\": \"3.0\", \"x\": 0.55, \"xanchor\": \"left\", \"xref\": \"x\", \"y\": 3, \"yref\": \"y\"}, {\"align\": \"left\", \"font\": {\"color\": \"#000000\"}, \"showarrow\": false, \"text\": \"780.0\", \"x\": 1.55, \"xanchor\": \"left\", \"xref\": \"x\", \"y\": 3, \"yref\": \"y\"}, {\"align\": \"left\", \"font\": {\"color\": \"#000000\"}, \"showarrow\": false, \"text\": \"12.0\", \"x\": 2.55, \"xanchor\": \"left\", \"xref\": \"x\", \"y\": 3, \"yref\": \"y\"}, {\"align\": \"left\", \"font\": {\"color\": \"#000000\"}, \"showarrow\": false, \"text\": \"147.0\", \"x\": 3.55, \"xanchor\": \"left\", \"xref\": \"x\", \"y\": 3, \"yref\": \"y\"}, {\"align\": \"left\", \"font\": {\"color\": \"#000000\"}, \"showarrow\": false, \"text\": \"15.0\", \"x\": 4.55, \"xanchor\": \"left\", \"xref\": \"x\", \"y\": 3, \"yref\": \"y\"}, {\"align\": \"left\", \"font\": {\"color\": \"#000000\"}, \"showarrow\": false, \"text\": \"345.0\", \"x\": 5.55, \"xanchor\": \"left\", \"xref\": \"x\", \"y\": 3, \"yref\": \"y\"}, {\"align\": \"left\", \"font\": {\"color\": \"#000000\"}, \"showarrow\": false, \"text\": \"Hotcakes\", \"x\": -0.45, \"xanchor\": \"left\", \"xref\": \"x\", \"y\": 4, \"yref\": \"y\"}, {\"align\": \"left\", \"font\": {\"color\": \"#000000\"}, \"showarrow\": false, \"text\": \"1.0\", \"x\": 0.55, \"xanchor\": \"left\", \"xref\": \"x\", \"y\": 4, \"yref\": \"y\"}, {\"align\": \"left\", \"font\": {\"color\": \"#000000\"}, \"showarrow\": false, \"text\": \"350.0\", \"x\": 1.55, \"xanchor\": \"left\", \"xref\": \"x\", \"y\": 4, \"yref\": \"y\"}, {\"align\": \"left\", \"font\": {\"color\": \"#000000\"}, \"showarrow\": false, \"text\": \"9.0\", \"x\": 2.55, \"xanchor\": \"left\", \"xref\": \"x\", \"y\": 4, \"yref\": \"y\"}, {\"align\": \"left\", \"font\": {\"color\": \"#000000\"}, \"showarrow\": false, \"text\": \"60.0\", \"x\": 3.55, \"xanchor\": \"left\", \"xref\": \"x\", \"y\": 4, \"yref\": \"y\"}, {\"align\": \"left\", \"font\": {\"color\": \"#000000\"}, \"showarrow\": false, \"text\": \"8.0\", \"x\": 4.55, \"xanchor\": \"left\", \"xref\": \"x\", \"y\": 4, \"yref\": \"y\"}, {\"align\": \"left\", \"font\": {\"color\": \"#000000\"}, \"showarrow\": false, \"text\": \"590.0\", \"x\": 5.55, \"xanchor\": \"left\", \"xref\": \"x\", \"y\": 4, \"yref\": \"y\"}, {\"align\": \"left\", \"font\": {\"color\": \"#000000\"}, \"showarrow\": false, \"text\": \"Side Salad\", \"x\": -0.45, \"xanchor\": \"left\", \"xref\": \"x\", \"y\": 5, \"yref\": \"y\"}, {\"align\": \"left\", \"font\": {\"color\": \"#000000\"}, \"showarrow\": false, \"text\": \"4.0\", \"x\": 0.55, \"xanchor\": \"left\", \"xref\": \"x\", \"y\": 5, \"yref\": \"y\"}, {\"align\": \"left\", \"font\": {\"color\": \"#000000\"}, \"showarrow\": false, \"text\": \"80.0\", \"x\": 1.55, \"xanchor\": \"left\", \"xref\": \"x\", \"y\": 5, \"yref\": \"y\"}, {\"align\": \"left\", \"font\": {\"color\": \"#000000\"}, \"showarrow\": false, \"text\": \"0.0\", \"x\": 2.55, \"xanchor\": \"left\", \"xref\": \"x\", \"y\": 5, \"yref\": \"y\"}, {\"align\": \"left\", \"font\": {\"color\": \"#000000\"}, \"showarrow\": false, \"text\": \"16.0\", \"x\": 3.55, \"xanchor\": \"left\", \"xref\": \"x\", \"y\": 5, \"yref\": \"y\"}, {\"align\": \"left\", \"font\": {\"color\": \"#000000\"}, \"showarrow\": false, \"text\": \"4.0\", \"x\": 4.55, \"xanchor\": \"left\", \"xref\": \"x\", \"y\": 5, \"yref\": \"y\"}, {\"align\": \"left\", \"font\": {\"color\": \"#000000\"}, \"showarrow\": false, \"text\": \"40.0\", \"x\": 5.55, \"xanchor\": \"left\", \"xref\": \"x\", \"y\": 5, \"yref\": \"y\"}], \"height\": 230, \"margin\": {\"b\": 0, \"l\": 0, \"r\": 0, \"t\": 0}, \"template\": {\"data\": {\"bar\": [{\"error_x\": {\"color\": \"#2a3f5f\"}, \"error_y\": {\"color\": \"#2a3f5f\"}, \"marker\": {\"line\": {\"color\": \"#E5ECF6\", \"width\": 0.5}}, \"type\": \"bar\"}], \"barpolar\": [{\"marker\": {\"line\": {\"color\": \"#E5ECF6\", \"width\": 0.5}}, \"type\": \"barpolar\"}], \"carpet\": [{\"aaxis\": {\"endlinecolor\": \"#2a3f5f\", \"gridcolor\": \"white\", \"linecolor\": \"white\", \"minorgridcolor\": \"white\", \"startlinecolor\": \"#2a3f5f\"}, \"baxis\": {\"endlinecolor\": \"#2a3f5f\", \"gridcolor\": \"white\", \"linecolor\": \"white\", \"minorgridcolor\": \"white\", \"startlinecolor\": \"#2a3f5f\"}, \"type\": \"carpet\"}], \"choropleth\": [{\"colorbar\": {\"outlinewidth\": 0, \"ticks\": \"\"}, \"type\": \"choropleth\"}], \"contour\": [{\"colorbar\": {\"outlinewidth\": 0, \"ticks\": \"\"}, \"colorscale\": [[0.0, \"#0d0887\"], [0.1111111111111111, \"#46039f\"], [0.2222222222222222, \"#7201a8\"], [0.3333333333333333, \"#9c179e\"], [0.4444444444444444, \"#bd3786\"], [0.5555555555555556, \"#d8576b\"], [0.6666666666666666, \"#ed7953\"], [0.7777777777777778, \"#fb9f3a\"], [0.8888888888888888, \"#fdca26\"], [1.0, \"#f0f921\"]], \"type\": \"contour\"}], \"contourcarpet\": [{\"colorbar\": {\"outlinewidth\": 0, \"ticks\": \"\"}, \"type\": \"contourcarpet\"}], \"heatmap\": [{\"colorbar\": {\"outlinewidth\": 0, \"ticks\": \"\"}, \"colorscale\": [[0.0, \"#0d0887\"], [0.1111111111111111, \"#46039f\"], [0.2222222222222222, \"#7201a8\"], [0.3333333333333333, \"#9c179e\"], [0.4444444444444444, \"#bd3786\"], [0.5555555555555556, \"#d8576b\"], [0.6666666666666666, \"#ed7953\"], [0.7777777777777778, \"#fb9f3a\"], [0.8888888888888888, \"#fdca26\"], [1.0, \"#f0f921\"]], \"type\": \"heatmap\"}], \"heatmapgl\": [{\"colorbar\": {\"outlinewidth\": 0, \"ticks\": \"\"}, \"colorscale\": [[0.0, \"#0d0887\"], [0.1111111111111111, \"#46039f\"], [0.2222222222222222, \"#7201a8\"], [0.3333333333333333, \"#9c179e\"], [0.4444444444444444, \"#bd3786\"], [0.5555555555555556, \"#d8576b\"], [0.6666666666666666, \"#ed7953\"], [0.7777777777777778, \"#fb9f3a\"], [0.8888888888888888, \"#fdca26\"], [1.0, \"#f0f921\"]], \"type\": \"heatmapgl\"}], \"histogram\": [{\"marker\": {\"colorbar\": {\"outlinewidth\": 0, \"ticks\": \"\"}}, \"type\": \"histogram\"}], \"histogram2d\": [{\"colorbar\": {\"outlinewidth\": 0, \"ticks\": \"\"}, \"colorscale\": [[0.0, \"#0d0887\"], [0.1111111111111111, \"#46039f\"], [0.2222222222222222, \"#7201a8\"], [0.3333333333333333, \"#9c179e\"], [0.4444444444444444, \"#bd3786\"], [0.5555555555555556, \"#d8576b\"], [0.6666666666666666, \"#ed7953\"], [0.7777777777777778, \"#fb9f3a\"], [0.8888888888888888, \"#fdca26\"], [1.0, \"#f0f921\"]], \"type\": \"histogram2d\"}], \"histogram2dcontour\": [{\"colorbar\": {\"outlinewidth\": 0, \"ticks\": \"\"}, \"colorscale\": [[0.0, \"#0d0887\"], [0.1111111111111111, \"#46039f\"], [0.2222222222222222, \"#7201a8\"], [0.3333333333333333, \"#9c179e\"], [0.4444444444444444, \"#bd3786\"], [0.5555555555555556, \"#d8576b\"], [0.6666666666666666, \"#ed7953\"], [0.7777777777777778, \"#fb9f3a\"], [0.8888888888888888, \"#fdca26\"], [1.0, \"#f0f921\"]], \"type\": \"histogram2dcontour\"}], \"mesh3d\": [{\"colorbar\": {\"outlinewidth\": 0, \"ticks\": \"\"}, \"type\": \"mesh3d\"}], \"parcoords\": [{\"line\": {\"colorbar\": {\"outlinewidth\": 0, \"ticks\": \"\"}}, \"type\": \"parcoords\"}], \"pie\": [{\"automargin\": true, \"type\": \"pie\"}], \"scatter\": [{\"marker\": {\"colorbar\": {\"outlinewidth\": 0, \"ticks\": \"\"}}, \"type\": \"scatter\"}], \"scatter3d\": [{\"line\": {\"colorbar\": {\"outlinewidth\": 0, \"ticks\": \"\"}}, \"marker\": {\"colorbar\": {\"outlinewidth\": 0, \"ticks\": \"\"}}, \"type\": \"scatter3d\"}], \"scattercarpet\": [{\"marker\": {\"colorbar\": {\"outlinewidth\": 0, \"ticks\": \"\"}}, \"type\": \"scattercarpet\"}], \"scattergeo\": [{\"marker\": {\"colorbar\": {\"outlinewidth\": 0, \"ticks\": \"\"}}, \"type\": \"scattergeo\"}], \"scattergl\": [{\"marker\": {\"colorbar\": {\"outlinewidth\": 0, \"ticks\": \"\"}}, \"type\": \"scattergl\"}], \"scattermapbox\": [{\"marker\": {\"colorbar\": {\"outlinewidth\": 0, \"ticks\": \"\"}}, \"type\": \"scattermapbox\"}], \"scatterpolar\": [{\"marker\": {\"colorbar\": {\"outlinewidth\": 0, \"ticks\": \"\"}}, \"type\": \"scatterpolar\"}], \"scatterpolargl\": [{\"marker\": {\"colorbar\": {\"outlinewidth\": 0, \"ticks\": \"\"}}, \"type\": \"scatterpolargl\"}], \"scatterternary\": [{\"marker\": {\"colorbar\": {\"outlinewidth\": 0, \"ticks\": \"\"}}, \"type\": \"scatterternary\"}], \"surface\": [{\"colorbar\": {\"outlinewidth\": 0, \"ticks\": \"\"}, \"colorscale\": [[0.0, \"#0d0887\"], [0.1111111111111111, \"#46039f\"], [0.2222222222222222, \"#7201a8\"], [0.3333333333333333, \"#9c179e\"], [0.4444444444444444, \"#bd3786\"], [0.5555555555555556, \"#d8576b\"], [0.6666666666666666, \"#ed7953\"], [0.7777777777777778, \"#fb9f3a\"], [0.8888888888888888, \"#fdca26\"], [1.0, \"#f0f921\"]], \"type\": \"surface\"}], \"table\": [{\"cells\": {\"fill\": {\"color\": \"#EBF0F8\"}, \"line\": {\"color\": \"white\"}}, \"header\": {\"fill\": {\"color\": \"#C8D4E3\"}, \"line\": {\"color\": \"white\"}}, \"type\": \"table\"}]}, \"layout\": {\"annotationdefaults\": {\"arrowcolor\": \"#2a3f5f\", \"arrowhead\": 0, \"arrowwidth\": 1}, \"coloraxis\": {\"colorbar\": {\"outlinewidth\": 0, \"ticks\": \"\"}}, \"colorscale\": {\"diverging\": [[0, \"#8e0152\"], [0.1, \"#c51b7d\"], [0.2, \"#de77ae\"], [0.3, \"#f1b6da\"], [0.4, \"#fde0ef\"], [0.5, \"#f7f7f7\"], [0.6, \"#e6f5d0\"], [0.7, \"#b8e186\"], [0.8, \"#7fbc41\"], [0.9, \"#4d9221\"], [1, \"#276419\"]], \"sequential\": [[0.0, \"#0d0887\"], [0.1111111111111111, \"#46039f\"], [0.2222222222222222, \"#7201a8\"], [0.3333333333333333, \"#9c179e\"], [0.4444444444444444, \"#bd3786\"], [0.5555555555555556, \"#d8576b\"], [0.6666666666666666, \"#ed7953\"], [0.7777777777777778, \"#fb9f3a\"], [0.8888888888888888, \"#fdca26\"], [1.0, \"#f0f921\"]], \"sequentialminus\": [[0.0, \"#0d0887\"], [0.1111111111111111, \"#46039f\"], [0.2222222222222222, \"#7201a8\"], [0.3333333333333333, \"#9c179e\"], [0.4444444444444444, \"#bd3786\"], [0.5555555555555556, \"#d8576b\"], [0.6666666666666666, \"#ed7953\"], [0.7777777777777778, \"#fb9f3a\"], [0.8888888888888888, \"#fdca26\"], [1.0, \"#f0f921\"]]}, \"colorway\": [\"#636efa\", \"#EF553B\", \"#00cc96\", \"#ab63fa\", \"#FFA15A\", \"#19d3f3\", \"#FF6692\", \"#B6E880\", \"#FF97FF\", \"#FECB52\"], \"font\": {\"color\": \"#2a3f5f\"}, \"geo\": {\"bgcolor\": \"white\", \"lakecolor\": \"white\", \"landcolor\": \"#E5ECF6\", \"showlakes\": true, \"showland\": true, \"subunitcolor\": \"white\"}, \"hoverlabel\": {\"align\": \"left\"}, \"hovermode\": \"closest\", \"mapbox\": {\"style\": \"light\"}, \"paper_bgcolor\": \"white\", \"plot_bgcolor\": \"#E5ECF6\", \"polar\": {\"angularaxis\": {\"gridcolor\": \"white\", \"linecolor\": \"white\", \"ticks\": \"\"}, \"bgcolor\": \"#E5ECF6\", \"radialaxis\": {\"gridcolor\": \"white\", \"linecolor\": \"white\", \"ticks\": \"\"}}, \"scene\": {\"xaxis\": {\"backgroundcolor\": \"#E5ECF6\", \"gridcolor\": \"white\", \"gridwidth\": 2, \"linecolor\": \"white\", \"showbackground\": true, \"ticks\": \"\", \"zerolinecolor\": \"white\"}, \"yaxis\": {\"backgroundcolor\": \"#E5ECF6\", \"gridcolor\": \"white\", \"gridwidth\": 2, \"linecolor\": \"white\", \"showbackground\": true, \"ticks\": \"\", \"zerolinecolor\": \"white\"}, \"zaxis\": {\"backgroundcolor\": \"#E5ECF6\", \"gridcolor\": \"white\", \"gridwidth\": 2, \"linecolor\": \"white\", \"showbackground\": true, \"ticks\": \"\", \"zerolinecolor\": \"white\"}}, \"shapedefaults\": {\"line\": {\"color\": \"#2a3f5f\"}}, \"ternary\": {\"aaxis\": {\"gridcolor\": \"white\", \"linecolor\": \"white\", \"ticks\": \"\"}, \"baxis\": {\"gridcolor\": \"white\", \"linecolor\": \"white\", \"ticks\": \"\"}, \"bgcolor\": \"#E5ECF6\", \"caxis\": {\"gridcolor\": \"white\", \"linecolor\": \"white\", \"ticks\": \"\"}}, \"title\": {\"x\": 0.05}, \"xaxis\": {\"automargin\": true, \"gridcolor\": \"white\", \"linecolor\": \"white\", \"ticks\": \"\", \"title\": {\"standoff\": 15}, \"zerolinecolor\": \"white\", \"zerolinewidth\": 2}, \"yaxis\": {\"automargin\": true, \"gridcolor\": \"white\", \"linecolor\": \"white\", \"ticks\": \"\", \"title\": {\"standoff\": 15}, \"zerolinecolor\": \"white\", \"zerolinewidth\": 2}}}, \"xaxis\": {\"dtick\": 1, \"gridwidth\": 2, \"showticklabels\": false, \"tick0\": -0.5, \"ticks\": \"\", \"zeroline\": false}, \"yaxis\": {\"autorange\": \"reversed\", \"dtick\": 1, \"gridwidth\": 2, \"showticklabels\": false, \"tick0\": 0.5, \"ticks\": \"\", \"zeroline\": false}},\n",
              "                        {\"responsive\": true}\n",
              "                    ).then(function(){\n",
              "                            \n",
              "var gd = document.getElementById('448be94b-b818-4d67-b906-d9f855bb3074');\n",
              "var x = new MutationObserver(function (mutations, observer) {{\n",
              "        var display = window.getComputedStyle(gd).display;\n",
              "        if (!display || display === 'none') {{\n",
              "            console.log([gd, 'removed!']);\n",
              "            Plotly.purge(gd);\n",
              "            observer.disconnect();\n",
              "        }}\n",
              "}});\n",
              "\n",
              "// Listen for the removal of the full notebook cells\n",
              "var notebookContainer = gd.closest('#notebook-container');\n",
              "if (notebookContainer) {{\n",
              "    x.observe(notebookContainer, {childList: true});\n",
              "}}\n",
              "\n",
              "// Listen for the clearing of the current output cell\n",
              "var outputEl = gd.closest('.output');\n",
              "if (outputEl) {{\n",
              "    x.observe(outputEl, {childList: true});\n",
              "}}\n",
              "\n",
              "                        })\n",
              "                };\n",
              "                });\n",
              "            </script>\n",
              "        </div>"
            ],
            "application/vnd.plotly.v1+json": {
              "data": [
                {
                  "opacity": 0.75,
                  "colorscale": [
                    [
                      0,
                      "#00083e"
                    ],
                    [
                      0.5,
                      "#ededee"
                    ],
                    [
                      1,
                      "#ffffff"
                    ]
                  ],
                  "showscale": false,
                  "hoverinfo": "none",
                  "z": [
                    [
                      0,
                      0,
                      0,
                      0,
                      0,
                      0,
                      0
                    ],
                    [
                      0.5,
                      0.5,
                      0.5,
                      0.5,
                      0.5,
                      0.5,
                      0.5
                    ],
                    [
                      1,
                      1,
                      1,
                      1,
                      1,
                      1,
                      1
                    ],
                    [
                      0.5,
                      0.5,
                      0.5,
                      0.5,
                      0.5,
                      0.5,
                      0.5
                    ],
                    [
                      1,
                      1,
                      1,
                      1,
                      1,
                      1,
                      1
                    ],
                    [
                      0.5,
                      0.5,
                      0.5,
                      0.5,
                      0.5,
                      0.5,
                      0.5
                    ]
                  ],
                  "type": "heatmap"
                }
              ],
              "config": {
                "plotlyServerURL": "https://plot.ly",
                "linkText": "Export to plot.ly",
                "showLink": false
              },
              "layout": {
                "template": {
                  "layout": {
                    "shapedefaults": {
                      "line": {
                        "color": "#2a3f5f"
                      }
                    },
                    "polar": {
                      "radialaxis": {
                        "ticks": "",
                        "gridcolor": "white",
                        "linecolor": "white"
                      },
                      "bgcolor": "#E5ECF6",
                      "angularaxis": {
                        "ticks": "",
                        "gridcolor": "white",
                        "linecolor": "white"
                      }
                    },
                    "colorway": [
                      "#636efa",
                      "#EF553B",
                      "#00cc96",
                      "#ab63fa",
                      "#FFA15A",
                      "#19d3f3",
                      "#FF6692",
                      "#B6E880",
                      "#FF97FF",
                      "#FECB52"
                    ],
                    "xaxis": {
                      "automargin": true,
                      "title": {
                        "standoff": 15
                      },
                      "zerolinewidth": 2,
                      "ticks": "",
                      "zerolinecolor": "white",
                      "gridcolor": "white",
                      "linecolor": "white"
                    },
                    "colorscale": {
                      "diverging": [
                        [
                          0,
                          "#8e0152"
                        ],
                        [
                          0.1,
                          "#c51b7d"
                        ],
                        [
                          0.2,
                          "#de77ae"
                        ],
                        [
                          0.3,
                          "#f1b6da"
                        ],
                        [
                          0.4,
                          "#fde0ef"
                        ],
                        [
                          0.5,
                          "#f7f7f7"
                        ],
                        [
                          0.6,
                          "#e6f5d0"
                        ],
                        [
                          0.7,
                          "#b8e186"
                        ],
                        [
                          0.8,
                          "#7fbc41"
                        ],
                        [
                          0.9,
                          "#4d9221"
                        ],
                        [
                          1,
                          "#276419"
                        ]
                      ],
                      "sequential": [
                        [
                          0,
                          "#0d0887"
                        ],
                        [
                          0.1111111111111111,
                          "#46039f"
                        ],
                        [
                          0.2222222222222222,
                          "#7201a8"
                        ],
                        [
                          0.3333333333333333,
                          "#9c179e"
                        ],
                        [
                          0.4444444444444444,
                          "#bd3786"
                        ],
                        [
                          0.5555555555555556,
                          "#d8576b"
                        ],
                        [
                          0.6666666666666666,
                          "#ed7953"
                        ],
                        [
                          0.7777777777777778,
                          "#fb9f3a"
                        ],
                        [
                          0.8888888888888888,
                          "#fdca26"
                        ],
                        [
                          1,
                          "#f0f921"
                        ]
                      ],
                      "sequentialminus": [
                        [
                          0,
                          "#0d0887"
                        ],
                        [
                          0.1111111111111111,
                          "#46039f"
                        ],
                        [
                          0.2222222222222222,
                          "#7201a8"
                        ],
                        [
                          0.3333333333333333,
                          "#9c179e"
                        ],
                        [
                          0.4444444444444444,
                          "#bd3786"
                        ],
                        [
                          0.5555555555555556,
                          "#d8576b"
                        ],
                        [
                          0.6666666666666666,
                          "#ed7953"
                        ],
                        [
                          0.7777777777777778,
                          "#fb9f3a"
                        ],
                        [
                          0.8888888888888888,
                          "#fdca26"
                        ],
                        [
                          1,
                          "#f0f921"
                        ]
                      ]
                    },
                    "paper_bgcolor": "white",
                    "plot_bgcolor": "#E5ECF6",
                    "title": {
                      "x": 0.05
                    },
                    "scene": {
                      "zaxis": {
                        "backgroundcolor": "#E5ECF6",
                        "ticks": "",
                        "gridwidth": 2,
                        "showbackground": true,
                        "zerolinecolor": "white",
                        "gridcolor": "white",
                        "linecolor": "white"
                      },
                      "xaxis": {
                        "backgroundcolor": "#E5ECF6",
                        "ticks": "",
                        "gridwidth": 2,
                        "showbackground": true,
                        "zerolinecolor": "white",
                        "gridcolor": "white",
                        "linecolor": "white"
                      },
                      "yaxis": {
                        "backgroundcolor": "#E5ECF6",
                        "ticks": "",
                        "gridwidth": 2,
                        "showbackground": true,
                        "zerolinecolor": "white",
                        "gridcolor": "white",
                        "linecolor": "white"
                      }
                    },
                    "yaxis": {
                      "automargin": true,
                      "title": {
                        "standoff": 15
                      },
                      "zerolinewidth": 2,
                      "ticks": "",
                      "zerolinecolor": "white",
                      "gridcolor": "white",
                      "linecolor": "white"
                    },
                    "annotationdefaults": {
                      "arrowwidth": 1,
                      "arrowhead": 0,
                      "arrowcolor": "#2a3f5f"
                    },
                    "hoverlabel": {
                      "align": "left"
                    },
                    "ternary": {
                      "bgcolor": "#E5ECF6",
                      "baxis": {
                        "ticks": "",
                        "gridcolor": "white",
                        "linecolor": "white"
                      },
                      "caxis": {
                        "ticks": "",
                        "gridcolor": "white",
                        "linecolor": "white"
                      },
                      "aaxis": {
                        "ticks": "",
                        "gridcolor": "white",
                        "linecolor": "white"
                      }
                    },
                    "mapbox": {
                      "style": "light"
                    },
                    "hovermode": "closest",
                    "font": {
                      "color": "#2a3f5f"
                    },
                    "geo": {
                      "showland": true,
                      "landcolor": "#E5ECF6",
                      "showlakes": true,
                      "bgcolor": "white",
                      "subunitcolor": "white",
                      "lakecolor": "white"
                    },
                    "coloraxis": {
                      "colorbar": {
                        "outlinewidth": 0,
                        "ticks": ""
                      }
                    }
                  },
                  "data": {
                    "mesh3d": [
                      {
                        "colorbar": {
                          "outlinewidth": 0,
                          "ticks": ""
                        },
                        "type": "mesh3d"
                      }
                    ],
                    "scattercarpet": [
                      {
                        "marker": {
                          "colorbar": {
                            "outlinewidth": 0,
                            "ticks": ""
                          }
                        },
                        "type": "scattercarpet"
                      }
                    ],
                    "pie": [
                      {
                        "automargin": true,
                        "type": "pie"
                      }
                    ],
                    "surface": [
                      {
                        "colorbar": {
                          "outlinewidth": 0,
                          "ticks": ""
                        },
                        "type": "surface",
                        "colorscale": [
                          [
                            0,
                            "#0d0887"
                          ],
                          [
                            0.1111111111111111,
                            "#46039f"
                          ],
                          [
                            0.2222222222222222,
                            "#7201a8"
                          ],
                          [
                            0.3333333333333333,
                            "#9c179e"
                          ],
                          [
                            0.4444444444444444,
                            "#bd3786"
                          ],
                          [
                            0.5555555555555556,
                            "#d8576b"
                          ],
                          [
                            0.6666666666666666,
                            "#ed7953"
                          ],
                          [
                            0.7777777777777778,
                            "#fb9f3a"
                          ],
                          [
                            0.8888888888888888,
                            "#fdca26"
                          ],
                          [
                            1,
                            "#f0f921"
                          ]
                        ]
                      }
                    ],
                    "table": [
                      {
                        "header": {
                          "line": {
                            "color": "white"
                          },
                          "fill": {
                            "color": "#C8D4E3"
                          }
                        },
                        "cells": {
                          "line": {
                            "color": "white"
                          },
                          "fill": {
                            "color": "#EBF0F8"
                          }
                        },
                        "type": "table"
                      }
                    ],
                    "scatterpolargl": [
                      {
                        "marker": {
                          "colorbar": {
                            "outlinewidth": 0,
                            "ticks": ""
                          }
                        },
                        "type": "scatterpolargl"
                      }
                    ],
                    "contour": [
                      {
                        "colorbar": {
                          "outlinewidth": 0,
                          "ticks": ""
                        },
                        "type": "contour",
                        "colorscale": [
                          [
                            0,
                            "#0d0887"
                          ],
                          [
                            0.1111111111111111,
                            "#46039f"
                          ],
                          [
                            0.2222222222222222,
                            "#7201a8"
                          ],
                          [
                            0.3333333333333333,
                            "#9c179e"
                          ],
                          [
                            0.4444444444444444,
                            "#bd3786"
                          ],
                          [
                            0.5555555555555556,
                            "#d8576b"
                          ],
                          [
                            0.6666666666666666,
                            "#ed7953"
                          ],
                          [
                            0.7777777777777778,
                            "#fb9f3a"
                          ],
                          [
                            0.8888888888888888,
                            "#fdca26"
                          ],
                          [
                            1,
                            "#f0f921"
                          ]
                        ]
                      }
                    ],
                    "carpet": [
                      {
                        "type": "carpet",
                        "baxis": {
                          "minorgridcolor": "white",
                          "gridcolor": "white",
                          "linecolor": "white",
                          "endlinecolor": "#2a3f5f",
                          "startlinecolor": "#2a3f5f"
                        },
                        "aaxis": {
                          "minorgridcolor": "white",
                          "gridcolor": "white",
                          "linecolor": "white",
                          "endlinecolor": "#2a3f5f",
                          "startlinecolor": "#2a3f5f"
                        }
                      }
                    ],
                    "contourcarpet": [
                      {
                        "colorbar": {
                          "outlinewidth": 0,
                          "ticks": ""
                        },
                        "type": "contourcarpet"
                      }
                    ],
                    "heatmap": [
                      {
                        "colorbar": {
                          "outlinewidth": 0,
                          "ticks": ""
                        },
                        "type": "heatmap",
                        "colorscale": [
                          [
                            0,
                            "#0d0887"
                          ],
                          [
                            0.1111111111111111,
                            "#46039f"
                          ],
                          [
                            0.2222222222222222,
                            "#7201a8"
                          ],
                          [
                            0.3333333333333333,
                            "#9c179e"
                          ],
                          [
                            0.4444444444444444,
                            "#bd3786"
                          ],
                          [
                            0.5555555555555556,
                            "#d8576b"
                          ],
                          [
                            0.6666666666666666,
                            "#ed7953"
                          ],
                          [
                            0.7777777777777778,
                            "#fb9f3a"
                          ],
                          [
                            0.8888888888888888,
                            "#fdca26"
                          ],
                          [
                            1,
                            "#f0f921"
                          ]
                        ]
                      }
                    ],
                    "scattermapbox": [
                      {
                        "marker": {
                          "colorbar": {
                            "outlinewidth": 0,
                            "ticks": ""
                          }
                        },
                        "type": "scattermapbox"
                      }
                    ],
                    "scatter3d": [
                      {
                        "marker": {
                          "colorbar": {
                            "outlinewidth": 0,
                            "ticks": ""
                          }
                        },
                        "line": {
                          "colorbar": {
                            "outlinewidth": 0,
                            "ticks": ""
                          }
                        },
                        "type": "scatter3d"
                      }
                    ],
                    "scattergl": [
                      {
                        "marker": {
                          "colorbar": {
                            "outlinewidth": 0,
                            "ticks": ""
                          }
                        },
                        "type": "scattergl"
                      }
                    ],
                    "scatterternary": [
                      {
                        "marker": {
                          "colorbar": {
                            "outlinewidth": 0,
                            "ticks": ""
                          }
                        },
                        "type": "scatterternary"
                      }
                    ],
                    "histogram": [
                      {
                        "marker": {
                          "colorbar": {
                            "outlinewidth": 0,
                            "ticks": ""
                          }
                        },
                        "type": "histogram"
                      }
                    ],
                    "heatmapgl": [
                      {
                        "colorbar": {
                          "outlinewidth": 0,
                          "ticks": ""
                        },
                        "type": "heatmapgl",
                        "colorscale": [
                          [
                            0,
                            "#0d0887"
                          ],
                          [
                            0.1111111111111111,
                            "#46039f"
                          ],
                          [
                            0.2222222222222222,
                            "#7201a8"
                          ],
                          [
                            0.3333333333333333,
                            "#9c179e"
                          ],
                          [
                            0.4444444444444444,
                            "#bd3786"
                          ],
                          [
                            0.5555555555555556,
                            "#d8576b"
                          ],
                          [
                            0.6666666666666666,
                            "#ed7953"
                          ],
                          [
                            0.7777777777777778,
                            "#fb9f3a"
                          ],
                          [
                            0.8888888888888888,
                            "#fdca26"
                          ],
                          [
                            1,
                            "#f0f921"
                          ]
                        ]
                      }
                    ],
                    "scatterpolar": [
                      {
                        "marker": {
                          "colorbar": {
                            "outlinewidth": 0,
                            "ticks": ""
                          }
                        },
                        "type": "scatterpolar"
                      }
                    ],
                    "histogram2d": [
                      {
                        "colorbar": {
                          "outlinewidth": 0,
                          "ticks": ""
                        },
                        "type": "histogram2d",
                        "colorscale": [
                          [
                            0,
                            "#0d0887"
                          ],
                          [
                            0.1111111111111111,
                            "#46039f"
                          ],
                          [
                            0.2222222222222222,
                            "#7201a8"
                          ],
                          [
                            0.3333333333333333,
                            "#9c179e"
                          ],
                          [
                            0.4444444444444444,
                            "#bd3786"
                          ],
                          [
                            0.5555555555555556,
                            "#d8576b"
                          ],
                          [
                            0.6666666666666666,
                            "#ed7953"
                          ],
                          [
                            0.7777777777777778,
                            "#fb9f3a"
                          ],
                          [
                            0.8888888888888888,
                            "#fdca26"
                          ],
                          [
                            1,
                            "#f0f921"
                          ]
                        ]
                      }
                    ],
                    "scattergeo": [
                      {
                        "marker": {
                          "colorbar": {
                            "outlinewidth": 0,
                            "ticks": ""
                          }
                        },
                        "type": "scattergeo"
                      }
                    ],
                    "bar": [
                      {
                        "marker": {
                          "line": {
                            "color": "#E5ECF6",
                            "width": 0.5
                          }
                        },
                        "type": "bar",
                        "error_x": {
                          "color": "#2a3f5f"
                        },
                        "error_y": {
                          "color": "#2a3f5f"
                        }
                      }
                    ],
                    "choropleth": [
                      {
                        "colorbar": {
                          "outlinewidth": 0,
                          "ticks": ""
                        },
                        "type": "choropleth"
                      }
                    ],
                    "parcoords": [
                      {
                        "line": {
                          "colorbar": {
                            "outlinewidth": 0,
                            "ticks": ""
                          }
                        },
                        "type": "parcoords"
                      }
                    ],
                    "barpolar": [
                      {
                        "marker": {
                          "line": {
                            "color": "#E5ECF6",
                            "width": 0.5
                          }
                        },
                        "type": "barpolar"
                      }
                    ],
                    "histogram2dcontour": [
                      {
                        "colorbar": {
                          "outlinewidth": 0,
                          "ticks": ""
                        },
                        "type": "histogram2dcontour",
                        "colorscale": [
                          [
                            0,
                            "#0d0887"
                          ],
                          [
                            0.1111111111111111,
                            "#46039f"
                          ],
                          [
                            0.2222222222222222,
                            "#7201a8"
                          ],
                          [
                            0.3333333333333333,
                            "#9c179e"
                          ],
                          [
                            0.4444444444444444,
                            "#bd3786"
                          ],
                          [
                            0.5555555555555556,
                            "#d8576b"
                          ],
                          [
                            0.6666666666666666,
                            "#ed7953"
                          ],
                          [
                            0.7777777777777778,
                            "#fb9f3a"
                          ],
                          [
                            0.8888888888888888,
                            "#fdca26"
                          ],
                          [
                            1,
                            "#f0f921"
                          ]
                        ]
                      }
                    ],
                    "scatter": [
                      {
                        "marker": {
                          "colorbar": {
                            "outlinewidth": 0,
                            "ticks": ""
                          }
                        },
                        "type": "scatter"
                      }
                    ]
                  }
                },
                "yaxis": {
                  "showticklabels": false,
                  "tick0": 0.5,
                  "ticks": "",
                  "gridwidth": 2,
                  "dtick": 1,
                  "zeroline": false,
                  "autorange": "reversed"
                },
                "height": 230,
                "xaxis": {
                  "showticklabels": false,
                  "tick0": -0.5,
                  "ticks": "",
                  "gridwidth": 2,
                  "dtick": 1,
                  "zeroline": false
                },
                "margin": {
                  "r": 0,
                  "b": 0,
                  "l": 0,
                  "t": 0
                },
                "annotations": [
                  {
                    "xref": "x",
                    "xanchor": "left",
                    "yref": "y",
                    "text": "<b>Item</b>",
                    "align": "left",
                    "y": 0,
                    "x": -0.45,
                    "font": {
                      "color": "#ffffff"
                    },
                    "showarrow": false
                  },
                  {
                    "xref": "x",
                    "xanchor": "left",
                    "yref": "y",
                    "text": "<b>Amount</b>",
                    "align": "left",
                    "y": 0,
                    "x": 0.55,
                    "font": {
                      "color": "#ffffff"
                    },
                    "showarrow": false
                  },
                  {
                    "xref": "x",
                    "xanchor": "left",
                    "yref": "y",
                    "text": "<b>Calories</b>",
                    "align": "left",
                    "y": 0,
                    "x": 1.55,
                    "font": {
                      "color": "#ffffff"
                    },
                    "showarrow": false
                  },
                  {
                    "xref": "x",
                    "xanchor": "left",
                    "yref": "y",
                    "text": "<b>Total Fat</b>",
                    "align": "left",
                    "y": 0,
                    "x": 2.55,
                    "font": {
                      "color": "#ffffff"
                    },
                    "showarrow": false
                  },
                  {
                    "xref": "x",
                    "xanchor": "left",
                    "yref": "y",
                    "text": "<b>Carbohydrates</b>",
                    "align": "left",
                    "y": 0,
                    "x": 3.55,
                    "font": {
                      "color": "#ffffff"
                    },
                    "showarrow": false
                  },
                  {
                    "xref": "x",
                    "xanchor": "left",
                    "yref": "y",
                    "text": "<b>Protein</b>",
                    "align": "left",
                    "y": 0,
                    "x": 4.55,
                    "font": {
                      "color": "#ffffff"
                    },
                    "showarrow": false
                  },
                  {
                    "xref": "x",
                    "xanchor": "left",
                    "yref": "y",
                    "text": "<b>Sodium</b>",
                    "align": "left",
                    "y": 0,
                    "x": 5.55,
                    "font": {
                      "color": "#ffffff"
                    },
                    "showarrow": false
                  },
                  {
                    "xref": "x",
                    "xanchor": "left",
                    "yref": "y",
                    "text": "Apple Slices",
                    "align": "left",
                    "y": 1,
                    "x": -0.45,
                    "font": {
                      "color": "#000000"
                    },
                    "showarrow": false
                  },
                  {
                    "xref": "x",
                    "xanchor": "left",
                    "yref": "y",
                    "text": "8.0",
                    "align": "left",
                    "y": 1,
                    "x": 0.55,
                    "font": {
                      "color": "#000000"
                    },
                    "showarrow": false
                  },
                  {
                    "xref": "x",
                    "xanchor": "left",
                    "yref": "y",
                    "text": "120.0",
                    "align": "left",
                    "y": 1,
                    "x": 1.55,
                    "font": {
                      "color": "#000000"
                    },
                    "showarrow": false
                  },
                  {
                    "xref": "x",
                    "xanchor": "left",
                    "yref": "y",
                    "text": "0.0",
                    "align": "left",
                    "y": 1,
                    "x": 2.55,
                    "font": {
                      "color": "#000000"
                    },
                    "showarrow": false
                  },
                  {
                    "xref": "x",
                    "xanchor": "left",
                    "yref": "y",
                    "text": "32.0",
                    "align": "left",
                    "y": 1,
                    "x": 3.55,
                    "font": {
                      "color": "#000000"
                    },
                    "showarrow": false
                  },
                  {
                    "xref": "x",
                    "xanchor": "left",
                    "yref": "y",
                    "text": "0.0",
                    "align": "left",
                    "y": 1,
                    "x": 4.55,
                    "font": {
                      "color": "#000000"
                    },
                    "showarrow": false
                  },
                  {
                    "xref": "x",
                    "xanchor": "left",
                    "yref": "y",
                    "text": "0.0",
                    "align": "left",
                    "y": 1,
                    "x": 5.55,
                    "font": {
                      "color": "#000000"
                    },
                    "showarrow": false
                  },
                  {
                    "xref": "x",
                    "xanchor": "left",
                    "yref": "y",
                    "text": "Diet Dr Pepper (Large)",
                    "align": "left",
                    "y": 2,
                    "x": -0.45,
                    "font": {
                      "color": "#000000"
                    },
                    "showarrow": false
                  },
                  {
                    "xref": "x",
                    "xanchor": "left",
                    "yref": "y",
                    "text": "4.0",
                    "align": "left",
                    "y": 2,
                    "x": 0.55,
                    "font": {
                      "color": "#000000"
                    },
                    "showarrow": false
                  },
                  {
                    "xref": "x",
                    "xanchor": "left",
                    "yref": "y",
                    "text": "0.0",
                    "align": "left",
                    "y": 2,
                    "x": 1.55,
                    "font": {
                      "color": "#000000"
                    },
                    "showarrow": false
                  },
                  {
                    "xref": "x",
                    "xanchor": "left",
                    "yref": "y",
                    "text": "0.0",
                    "align": "left",
                    "y": 2,
                    "x": 2.55,
                    "font": {
                      "color": "#000000"
                    },
                    "showarrow": false
                  },
                  {
                    "xref": "x",
                    "xanchor": "left",
                    "yref": "y",
                    "text": "0.0",
                    "align": "left",
                    "y": 2,
                    "x": 3.55,
                    "font": {
                      "color": "#000000"
                    },
                    "showarrow": false
                  },
                  {
                    "xref": "x",
                    "xanchor": "left",
                    "yref": "y",
                    "text": "16.0",
                    "align": "left",
                    "y": 2,
                    "x": 4.55,
                    "font": {
                      "color": "#000000"
                    },
                    "showarrow": false
                  },
                  {
                    "xref": "x",
                    "xanchor": "left",
                    "yref": "y",
                    "text": "560.0",
                    "align": "left",
                    "y": 2,
                    "x": 5.55,
                    "font": {
                      "color": "#000000"
                    },
                    "showarrow": false
                  },
                  {
                    "xref": "x",
                    "xanchor": "left",
                    "yref": "y",
                    "text": "Fruit & Maple Oatmeal without Brown Sugar",
                    "align": "left",
                    "y": 3,
                    "x": -0.45,
                    "font": {
                      "color": "#000000"
                    },
                    "showarrow": false
                  },
                  {
                    "xref": "x",
                    "xanchor": "left",
                    "yref": "y",
                    "text": "3.0",
                    "align": "left",
                    "y": 3,
                    "x": 0.55,
                    "font": {
                      "color": "#000000"
                    },
                    "showarrow": false
                  },
                  {
                    "xref": "x",
                    "xanchor": "left",
                    "yref": "y",
                    "text": "780.0",
                    "align": "left",
                    "y": 3,
                    "x": 1.55,
                    "font": {
                      "color": "#000000"
                    },
                    "showarrow": false
                  },
                  {
                    "xref": "x",
                    "xanchor": "left",
                    "yref": "y",
                    "text": "12.0",
                    "align": "left",
                    "y": 3,
                    "x": 2.55,
                    "font": {
                      "color": "#000000"
                    },
                    "showarrow": false
                  },
                  {
                    "xref": "x",
                    "xanchor": "left",
                    "yref": "y",
                    "text": "147.0",
                    "align": "left",
                    "y": 3,
                    "x": 3.55,
                    "font": {
                      "color": "#000000"
                    },
                    "showarrow": false
                  },
                  {
                    "xref": "x",
                    "xanchor": "left",
                    "yref": "y",
                    "text": "15.0",
                    "align": "left",
                    "y": 3,
                    "x": 4.55,
                    "font": {
                      "color": "#000000"
                    },
                    "showarrow": false
                  },
                  {
                    "xref": "x",
                    "xanchor": "left",
                    "yref": "y",
                    "text": "345.0",
                    "align": "left",
                    "y": 3,
                    "x": 5.55,
                    "font": {
                      "color": "#000000"
                    },
                    "showarrow": false
                  },
                  {
                    "xref": "x",
                    "xanchor": "left",
                    "yref": "y",
                    "text": "Hotcakes",
                    "align": "left",
                    "y": 4,
                    "x": -0.45,
                    "font": {
                      "color": "#000000"
                    },
                    "showarrow": false
                  },
                  {
                    "xref": "x",
                    "xanchor": "left",
                    "yref": "y",
                    "text": "1.0",
                    "align": "left",
                    "y": 4,
                    "x": 0.55,
                    "font": {
                      "color": "#000000"
                    },
                    "showarrow": false
                  },
                  {
                    "xref": "x",
                    "xanchor": "left",
                    "yref": "y",
                    "text": "350.0",
                    "align": "left",
                    "y": 4,
                    "x": 1.55,
                    "font": {
                      "color": "#000000"
                    },
                    "showarrow": false
                  },
                  {
                    "xref": "x",
                    "xanchor": "left",
                    "yref": "y",
                    "text": "9.0",
                    "align": "left",
                    "y": 4,
                    "x": 2.55,
                    "font": {
                      "color": "#000000"
                    },
                    "showarrow": false
                  },
                  {
                    "xref": "x",
                    "xanchor": "left",
                    "yref": "y",
                    "text": "60.0",
                    "align": "left",
                    "y": 4,
                    "x": 3.55,
                    "font": {
                      "color": "#000000"
                    },
                    "showarrow": false
                  },
                  {
                    "xref": "x",
                    "xanchor": "left",
                    "yref": "y",
                    "text": "8.0",
                    "align": "left",
                    "y": 4,
                    "x": 4.55,
                    "font": {
                      "color": "#000000"
                    },
                    "showarrow": false
                  },
                  {
                    "xref": "x",
                    "xanchor": "left",
                    "yref": "y",
                    "text": "590.0",
                    "align": "left",
                    "y": 4,
                    "x": 5.55,
                    "font": {
                      "color": "#000000"
                    },
                    "showarrow": false
                  },
                  {
                    "xref": "x",
                    "xanchor": "left",
                    "yref": "y",
                    "text": "Side Salad",
                    "align": "left",
                    "y": 5,
                    "x": -0.45,
                    "font": {
                      "color": "#000000"
                    },
                    "showarrow": false
                  },
                  {
                    "xref": "x",
                    "xanchor": "left",
                    "yref": "y",
                    "text": "4.0",
                    "align": "left",
                    "y": 5,
                    "x": 0.55,
                    "font": {
                      "color": "#000000"
                    },
                    "showarrow": false
                  },
                  {
                    "xref": "x",
                    "xanchor": "left",
                    "yref": "y",
                    "text": "80.0",
                    "align": "left",
                    "y": 5,
                    "x": 1.55,
                    "font": {
                      "color": "#000000"
                    },
                    "showarrow": false
                  },
                  {
                    "xref": "x",
                    "xanchor": "left",
                    "yref": "y",
                    "text": "0.0",
                    "align": "left",
                    "y": 5,
                    "x": 2.55,
                    "font": {
                      "color": "#000000"
                    },
                    "showarrow": false
                  },
                  {
                    "xref": "x",
                    "xanchor": "left",
                    "yref": "y",
                    "text": "16.0",
                    "align": "left",
                    "y": 5,
                    "x": 3.55,
                    "font": {
                      "color": "#000000"
                    },
                    "showarrow": false
                  },
                  {
                    "xref": "x",
                    "xanchor": "left",
                    "yref": "y",
                    "text": "4.0",
                    "align": "left",
                    "y": 5,
                    "x": 4.55,
                    "font": {
                      "color": "#000000"
                    },
                    "showarrow": false
                  },
                  {
                    "xref": "x",
                    "xanchor": "left",
                    "yref": "y",
                    "text": "40.0",
                    "align": "left",
                    "y": 5,
                    "x": 5.55,
                    "font": {
                      "color": "#000000"
                    },
                    "showarrow": false
                  }
                ]
              }
            }
          },
          "metadata": {
            "tags": []
          }
        },
        {
          "output_type": "display_data",
          "data": {
            "text/html": [
              "<div>\n",
              "        \n",
              "        \n",
              "            <div id=\"32ee273a-e56a-4956-9185-da3b78d02174\" class=\"plotly-graph-div\" style=\"height:525px; width:100%;\"></div>\n",
              "            <script type=\"text/javascript\">\n",
              "                require([\"plotly\"], function(Plotly) {\n",
              "                    window.PLOTLYENV=window.PLOTLYENV || {};\n",
              "                    \n",
              "                if (document.getElementById(\"32ee273a-e56a-4956-9185-da3b78d02174\")) {\n",
              "                    Plotly.newPlot(\n",
              "                        '32ee273a-e56a-4956-9185-da3b78d02174',\n",
              "                        [{\"error_y\": {\"array\": [[57.0, 62.0, 47.0, 42.0, 47.0, 47.0, 44.0, 40.0, 50.0, 45.0, 43.0, 39.0, 37.0, 33.0, 43.0, 38.0, 50.0, 46.0, 38.0, 49.0, 55.0, 48.0, 39.0, 44.0, 39.0, 45.0, 35.0, 22.0, 18.0, 33.0, 29.0, 14.0, 10.0, 24.0, 20.0, 61.0, 46.0, 54.0, 61.0, 51.0, 66.0, 66.0, 43.0, 44.0, 41.0, 39.0, 43.0, 27.0, 62.0, 59.0, 49.0, 30.0, 53.0, 48.0, 48.0, 47.0, 44.0, 48.0, 61.0, 37.0, 50.0, 42.0, 55.0, 32.0, 45.0, 51.0, 54.0, 46.0, 49.0, 54.0, 38.0, 51.0, 39.0, 52.0, 37.0, 50.0, 47.0, 60.0, 58.0, 52.0, 40.0, 11.0, -48.0, 51.0, 63.0, 49.0, 62.0, 65.5, 48.0, 62.0, 55.0, 62.0, 55.0, 62.0, 50.0, 57.0, 59.0, 54.0, 46.0, 65.0, 70.0, 70.0, 68.0, 57.0, 62.0, 64.0, 68.5, 61.0, 62.0, 64.0, 70.0, 70.0, 70.0, 70.0, 70.0, 70.0, 70.0, 70.0, 70.0, 70.0, 70.0, 70.0, 70.0, 70.0, 70.0, 70.0, 70.0, 70.0, 70.0, 70.0, 67.5, 70.0, 70.0, 70.0, 70.0, 70.0, 70.0, 70.0, 70.0, 70.0, 70.0, 70.0, 70.0, 70.0, 70.0, 70.0, 70.0, 70.0, 61.0, 60.0, 56.0, 61.0, 60.0, 56.0, 61.0, 60.0, 56.0, 61.0, 60.0, 56.0, 61.0, 60.0, 56.0, 70.0, 70.0, 69.5, 70.0, 70.0, 69.5, 70.0, 70.0, 69.5, 70.0, 70.0, 69.5, 70.0, 70.0, 69.5, 59.0, 56.0, 53.0, 66.5, 66.5, 66.0, 59.0, 56.0, 53.0, 66.5, 66.5, 66.5, 57.0, 54.0, 50.0, 66.5, 66.5, 66.5, 65.5, 63.0, 61.0, 65.5, 63.0, 61.0, 65.5, 63.0, 61.0, 65.5, 63.0, 61.0, 65.5, 63.0, 61.0, 59.0, 57.0, 54.0, 65.0, 65.0, 64.0, 59.0, 57.0, 54.0, 65.0, 65.0, 64.0, 52.0, 48.0, 44.0, 51.0, 47.0, 43.0, 47.0, 44.0, 39.0, 69.5, 69.0, 69.0, 69.5, 69.0, 69.0, 69.5, 69.0, 69.0, 55.0, 51.0, 47.0, 54.0, 50.0, 46.0, 54.0, 50.0, 47.0, 51.0, 47.0, 47.0, 37.0, 55.0, 53.0, 47.0, 59.0, 38.0, 54.0], [15.0, 17.0, 12.0, 10.0, 12.0, 11.0, 7.0, 6.0, 9.0, 8.0, 8.0, 7.0, 6.0, 5.0, 8.0, 7.0, 12.0, 11.0, 4.0, 11.0, 13.0, 12.0, 8.0, 10.0, 9.0, 11.0, 7.0, 3.0, 2.0, 6.0, 6.0, 1.0, 0.0, 4.0, 4.0, 18.0, 13.0, 13.0, 18.5, 11.0, 18.5, 18.5, 10.0, 8.0, 7.0, 7.0, 9.0, 1.0, 17.0, 15.0, 10.0, 5.0, 12.0, 10.0, 11.0, 11.0, 10.0, 16.5, 18.0, 11.0, 13.0, 14.0, 15.5, 10.0, 12.0, 17.0, 17.0, 13.0, 15.0, 17.0, 11.0, 13.0, 12.0, 14.0, 12.0, 14.0, 15.5, 17.0, 18.0, 17.0, 15.0, 10.0, 0.0, 16.0, 16.5, 14.0, 16.0, 18.0, 15.5, 17.5, 15.5, 16.5, 15.5, 16.5, 15.0, 15.5, 18.5, 17.5, 16.5, 19.0, 20.0, 20.0, 19.0, 13.0, 16.5, 17.5, 19.0, 13.0, 15.0, 16.0, 20.0, 20.0, 20.0, 20.0, 20.0, 20.0, 20.0, 20.0, 20.0, 20.0, 20.0, 20.0, 20.0, 20.0, 20.0, 20.0, 20.0, 20.0, 20.0, 20.0, 18.5, 20.0, 20.0, 20.0, 20.0, 20.0, 20.0, 20.0, 20.0, 20.0, 20.0, 20.0, 20.0, 20.0, 20.0, 20.0, 20.0, 20.0, 15.0, 14.0, 12.0, 15.0, 14.0, 12.0, 15.0, 14.0, 12.0, 15.0, 14.0, 12.0, 15.0, 14.0, 12.0, 20.0, 20.0, 20.0, 20.0, 20.0, 20.0, 20.0, 20.0, 20.0, 20.0, 20.0, 20.0, 20.0, 20.0, 20.0, 13.0, 12.0, 10.0, 18.0, 18.0, 17.5, 13.0, 12.0, 10.0, 18.0, 18.0, 17.5, 12.0, 11.0, 8.0, 18.0, 18.0, 17.5, 17.0, 15.5, 14.0, 17.0, 15.5, 14.0, 17.0, 15.5, 14.0, 17.0, 15.5, 14.0, 17.0, 15.5, 14.0, 13.0, 12.0, 10.0, 17.0, 16.5, 16.5, 13.0, 13.0, 10.0, 17.0, 17.0, 16.5, 8.0, 6.0, 3.0, 8.0, 5.0, 3.0, 6.0, 3.0, 0.0, 20.0, 20.0, 19.5, 20.0, 20.0, 19.5, 20.0, 20.0, 19.5, 10.0, 8.0, 5.0, 10.0, 7.0, 5.0, 10.0, 8.0, 5.0, 8.0, 5.0, 6.0, 0.0, 10.0, 11.0, 8.0, 14.0, 5.0, 12.0], 0, [97, 97, 98, 98, 98, 97, 97, 96, 97, 96, 98, 97, 98, 97, 97, 97, 97, 96, 97, 85, 84, 85, 85, 85, 93, 92, 93, 97, 97, 97, 96, 83, 83, 83, 82, 86, 86, 98, 100, 68, 68, 82, 91, 90, 88, 90, 91, 90, 94, 93, 93, 86, 93, 93, 93, 94, 89, 90, 92, 89, 91, 89, 91, 84, 86, 93, 95, 94, 94, 95, 93, 94, 92, 94, 88, 90, 86, 88, 100, 100, 100, 100, 99, 95, 96, 95, 96, 94, 88, 90, 92, 93, 97, 98, 97, 98, 100, 100, 100, 100, 98, 97, 77, 87, 85, 87, 94, 52, 57, 55, 61, 45, 24, 72, 100, 100, 100, 100, 65, 49, 30, 74, 100, 100, 100, 100, 63, 46, 26, 73, 88, 78, 81, 70, 61, 42, 100, 100, 100, 100, 100, 64, 55, 46, 73, 100, 100, 100, 88, 85, 80, 62, 52, 41, 62, 53, 42, 64, 55, 44, 88, 85, 80, 87, 84, 79, 61, 52, 41, 62, 52, 41, 63, 54, 44, 87, 84, 79, 58, 47, 37, 57, 47, 36, 60, 50, 40, 59, 49, 39, 55, 44, 32, 54, 43, 31, 78, 70, 55, 79, 72, 58, 80, 72, 59, 81, 74, 61, 99, 98, 98, 66, 57, 38, 65, 57, 38, 67, 59, 41, 67, 59, 41, 43, 29, 12, 43, 29, 12, 33, 19, 1, 56, 46, 30, 56, 46, 30, 54, 44, 28, 37, 19, -1, 21, 0, -23, 23, 3, -20, 7, -15, 11, -28, 41, 36, 15, 57, -3, 49], [38, 37, 41, 34, 34, 29, 36, 36, 35, 35, 44, 44, 37, 37, 37, 37, 38, 38, 30, 36, 35, 44, 35, 34, 25, 25, 22, 27, 27, 29, 29, 19, 19, 20, 20, 47, 40, 43, 54, 49, 50, 50, 31, 25, 18, 18, 26, 7, 43, 40, 31, 16, 33, 28, 33, 33, 33, 31, 27, 19, 15, 23, 19, 19, 15, 34, 41, 33, 35, 41, 23, 19, 28, 25, 28, 24, 32, 28, 46, 42, 33, 11, -32, 40, 46, 30, 26, 49, 32, 28, 41, 39, 41, 39, 40, 39, 53, 51, 49, 54, 54, 55, 51, 53, 53, 53, 54, 47, 48, 49, 55, 55, 55, 55, 55, 55, 55, 55, 55, 55, 55, 55, 53, 52, 51, 54, 55, 55, 55, 55, 47, 46, 55, 53, 52, 51, 55, 55, 55, 55, 55, 54, 54, 54, 55, 55, 55, 55, 46, 44, 40, 46, 44, 40, 46, 44, 40, 46, 44, 40, 46, 43, 40, 45, 43, 39, 45, 43, 39, 45, 43, 39, 45, 43, 39, 45, 43, 39, 45, 42, 39, 44, 42, 38, 45, 43, 39, 45, 42, 38, 44, 41, 38, 43, 41, 36, 54, 54, 53, 54, 54, 53, 54, 54, 53, 54, 54, 53, 54, 54, 53, 47, 46, 41, 47, 45, 41, 47, 46, 42, 47, 45, 41, 48, 46, 44, 48, 46, 44, 47, 46, 43, 53, 52, 51, 52, 51, 50, 53, 52, 51, 44, 41, 37, 43, 40, 37, 43, 40, 36, 41, 37, 42, 35, 46, 43, 40, 47, 34, 45], [1.25, 1.23, 1.22, 1.1400000000000001, 1.12, 1.04, 0.7, 0.5900000000000001, 0.7, 0.5800000000000001, 0.9199999999999999, 0.81, 0.8300000000000001, 0.72, 0.8200000000000001, 0.71, 0.8200000000000001, 0.71, 0.53, 0.75, 0.75, 0.97, 0.6799999999999999, 0.6799999999999999, 0.52, 0.52, 0.49, 0.43999999999999995, 0.32000000000000006, 0.4099999999999999, 0.30000000000000004, -0.1499999999999999, -0.2599999999999998, -0.16999999999999993, -0.29000000000000004, 1.4100000000000001, 1.0699999999999998, 1.21, 1.69, 1.63, 1.84, 1.885, 1.04, 0.8999999999999999, 0.56, 0.8200000000000001, 1.04, 0.72, 1.52, 1.3199999999999998, 0.96, 0.53, 1.1600000000000001, 0.8899999999999999, 1.24, 0.97, 1.02, 1.01, 1.1800000000000002, 0.5900000000000001, 0.75, 0.6000000000000001, 0.77, 0.28, 0.43999999999999995, 1.0899999999999999, 1.2, 0.74, 0.74, 1.01, 0.45999999999999996, 0.6299999999999999, 0.6599999999999999, 0.8300000000000001, 0.52, 0.6799999999999999, 0.74, 0.9099999999999999, 1.6400000000000001, 1.46, 1.1, 0.19999999999999996, -1.6, 1.4100000000000001, 1.7, 1.1400000000000001, 1.31, 1.85, 1.15, 1.3199999999999998, 1.22, 1.3, 1.27, 1.35, 1.19, 1.28, 1.87, 1.81, 1.71, 1.935, 1.99, 2.0, 1.93, 1.83, 1.91, 1.865, 1.98, 1.83, 1.85, 1.915, 2.0, 1.995, 1.995, 2.0, 1.99, 1.98, 1.965, 1.985, 1.955, 1.935, 1.91, 1.97, 1.93, 1.9, 1.8599999999999999, 1.95, 1.97, 1.955, 1.94, 1.975, 1.875, 1.865, 1.985, 2.0, 2.0, 1.995, 2.0, 1.99, 1.99, 1.985, 1.995, 1.99, 1.99, 1.99, 1.995, 2.0, 2.0, 2.0, 1.885, 1.8599999999999999, 1.82, 1.885, 1.8599999999999999, 1.82, 1.885, 1.8599999999999999, 1.82, 1.885, 1.8599999999999999, 1.81, 1.85, 1.81, 1.76, 1.89, 1.865, 1.82, 1.89, 1.865, 1.82, 1.89, 1.865, 1.82, 1.885, 1.8599999999999999, 1.82, 1.85, 1.82, 1.76, 1.85, 1.81, 1.76, 1.85, 1.81, 1.76, 1.83, 1.78, 1.73, 1.83, 1.79, 1.73, 1.82, 1.78, 1.72, 1.82, 1.78, 1.72, 1.965, 1.95, 1.925, 1.965, 1.95, 1.935, 1.965, 1.95, 1.925, 1.96, 1.945, 1.92, 1.935, 1.91, 1.865, 1.875, 1.85, 1.78, 1.875, 1.85, 1.78, 1.8599999999999999, 1.83, 1.75, 1.8599999999999999, 1.83, 1.75, 1.875, 1.84, 1.81, 1.875, 1.84, 1.81, 1.865, 1.84, 1.8, 1.96, 1.95, 1.935, 1.95, 1.94, 1.92, 1.96, 1.955, 1.94, 1.84, 1.8, 1.74, 1.84, 1.79, 1.74, 1.76, 1.7, 1.62, 1.79, 1.74, 1.82, 1.74, 1.88, 1.72, 1.62, 1.81, 1.6, 1.8]], \"arrayminus\": [[13.0, 8.0, 23.0, 28.0, 23.0, 23.0, 26.0, 30.0, 20.0, 25.0, 27.0, 31.0, 33.0, 37.0, 27.0, 32.0, 20.0, 24.0, 32.0, 21.0, 15.0, 22.0, 31.0, 26.0, 31.0, 25.0, 35.0, 48.0, 52.0, 37.0, 41.0, 56.0, 60.0, 46.0, 50.0, 9.0, 24.0, 16.0, 9.0, 19.0, 4.0, 4.0, 27.0, 26.0, 29.0, 31.0, 27.0, 43.0, 8.0, 11.0, 21.0, 40.0, 17.0, 22.0, 22.0, 23.0, 26.0, 22.0, 9.0, 33.0, 20.0, 28.0, 15.0, 38.0, 25.0, 19.0, 16.0, 24.0, 21.0, 16.0, 32.0, 19.0, 31.0, 18.0, 33.0, 20.0, 23.0, 10.0, 12.0, 18.0, 30.0, 59.0, 118.0, 19.0, 7.0, 21.0, 8.0, 4.5, 22.0, 8.0, 15.0, 8.0, 15.0, 8.0, 20.0, 13.0, 11.0, 16.0, 24.0, 5.0, 0.0, 0.0, 2.0, 13.0, 8.0, 6.0, 1.5, 9.0, 8.0, 6.0, 0.0, 0.0, 0.0, 0.0, 0.0, 0.0, 0.0, 0.0, 0.0, 0.0, 0.0, 0.0, 0.0, 0.0, 0.0, 0.0, 0.0, 0.0, 0.0, 0.0, 2.5, 0.0, 0.0, 0.0, 0.0, 0.0, 0.0, 0.0, 0.0, 0.0, 0.0, 0.0, 0.0, 0.0, 0.0, 0.0, 0.0, 0.0, 9.0, 10.0, 14.0, 9.0, 10.0, 14.0, 9.0, 10.0, 14.0, 9.0, 10.0, 14.0, 9.0, 10.0, 14.0, 0.0, 0.0, 0.5, 0.0, 0.0, 0.5, 0.0, 0.0, 0.5, 0.0, 0.0, 0.5, 0.0, 0.0, 0.5, 11.0, 14.0, 17.0, 3.5, 3.5, 4.0, 11.0, 14.0, 17.0, 3.5, 3.5, 3.5, 13.0, 16.0, 20.0, 3.5, 3.5, 3.5, 4.5, 7.0, 9.0, 4.5, 7.0, 9.0, 4.5, 7.0, 9.0, 4.5, 7.0, 9.0, 4.5, 7.0, 9.0, 11.0, 13.0, 16.0, 5.0, 5.0, 6.0, 11.0, 13.0, 16.0, 5.0, 5.0, 6.0, 18.0, 22.0, 26.0, 19.0, 23.0, 27.0, 23.0, 26.0, 31.0, 0.5, 1.0, 1.0, 0.5, 1.0, 1.0, 0.5, 1.0, 1.0, 15.0, 19.0, 23.0, 16.0, 20.0, 24.0, 16.0, 20.0, 23.0, 19.0, 23.0, 23.0, 33.0, 15.0, 17.0, 23.0, 11.0, 32.0, 16.0], [5.0, 3.0, 8.0, 10.0, 8.0, 9.0, 13.0, 14.0, 11.0, 12.0, 12.0, 13.0, 14.0, 15.0, 12.0, 13.0, 8.0, 9.0, 16.0, 9.0, 7.0, 8.0, 12.0, 10.0, 11.0, 9.0, 13.0, 17.0, 18.0, 14.0, 14.0, 19.0, 20.0, 16.0, 16.0, 2.0, 7.0, 7.0, 1.5, 9.0, 1.5, 1.5, 10.0, 12.0, 13.0, 13.0, 11.0, 19.0, 3.0, 5.0, 10.0, 15.0, 8.0, 10.0, 9.0, 9.0, 10.0, 3.5, 2.0, 9.0, 7.0, 6.0, 4.5, 10.0, 8.0, 3.0, 3.0, 7.0, 5.0, 3.0, 9.0, 7.0, 8.0, 6.0, 8.0, 6.0, 4.5, 3.0, 2.0, 3.0, 5.0, 10.0, 20.0, 4.0, 3.5, 6.0, 4.0, 2.0, 4.5, 2.5, 4.5, 3.5, 4.5, 3.5, 5.0, 4.5, 1.5, 2.5, 3.5, 1.0, 0.0, 0.0, 1.0, 7.0, 3.5, 2.5, 1.0, 7.0, 5.0, 4.0, 0.0, 0.0, 0.0, 0.0, 0.0, 0.0, 0.0, 0.0, 0.0, 0.0, 0.0, 0.0, 0.0, 0.0, 0.0, 0.0, 0.0, 0.0, 0.0, 0.0, 1.5, 0.0, 0.0, 0.0, 0.0, 0.0, 0.0, 0.0, 0.0, 0.0, 0.0, 0.0, 0.0, 0.0, 0.0, 0.0, 0.0, 0.0, 5.0, 6.0, 8.0, 5.0, 6.0, 8.0, 5.0, 6.0, 8.0, 5.0, 6.0, 8.0, 5.0, 6.0, 8.0, 0.0, 0.0, 0.0, 0.0, 0.0, 0.0, 0.0, 0.0, 0.0, 0.0, 0.0, 0.0, 0.0, 0.0, 0.0, 7.0, 8.0, 10.0, 2.0, 2.0, 2.5, 7.0, 8.0, 10.0, 2.0, 2.0, 2.5, 8.0, 9.0, 12.0, 2.0, 2.0, 2.5, 3.0, 4.5, 6.0, 3.0, 4.5, 6.0, 3.0, 4.5, 6.0, 3.0, 4.5, 6.0, 3.0, 4.5, 6.0, 7.0, 8.0, 10.0, 3.0, 3.5, 3.5, 7.0, 7.0, 10.0, 3.0, 3.0, 3.5, 12.0, 14.0, 17.0, 12.0, 15.0, 17.0, 14.0, 17.0, 20.0, 0.0, 0.0, 0.5, 0.0, 0.0, 0.5, 0.0, 0.0, 0.5, 10.0, 12.0, 15.0, 10.0, 13.0, 15.0, 10.0, 12.0, 15.0, 12.0, 15.0, 14.0, 20.0, 10.0, 9.0, 12.0, 6.0, 15.0, 8.0], [-229, -230, -231, -230, -230, -229, -222, -217, -224, -218, -226, -221, -224, -218, -226, -220, -219, -214, -222, -212, -213, -216, -212, -214, -203, -205, -204, -209, -204, -210, -205, -149, -144, -150, -145, -200, -199, -234, -245, -194, -202, -211, -213, -219, -212, -214, -215, -218, -228, -227, -225, -209, -226, -225, -226, -225, -216, -205, -218, -202, -216, -203, -217, -195, -209, -217, -220, -217, -219, -220, -204, -218, -204, -218, -192, -205, -199, -213, -248, -242, -230, -201, -142, -221, -250, -238, -252, -240, -218, -232, -223, -230, -226, -233, -228, -235, -230, -216, -193, -245, -256, -256, -230, -228, -239, -238, -253, -207, -200, -211, -221, -205, -184, -232, -260, -260, -260, -260, -223, -207, -188, -233, -260, -260, -260, -260, -223, -206, -186, -233, -248, -237, -239, -226, -216, -195, -260, -260, -260, -260, -260, -224, -215, -206, -233, -260, -260, -260, -245, -242, -236, -220, -210, -198, -220, -210, -198, -222, -212, -200, -236, -231, -223, -245, -241, -235, -219, -209, -197, -220, -209, -197, -221, -211, -200, -236, -230, -222, -211, -200, -188, -211, -200, -187, -215, -205, -194, -215, -204, -193, -210, -199, -187, -210, -199, -186, -237, -229, -213, -238, -231, -217, -239, -231, -217, -240, -233, -219, -251, -248, -242, -219, -210, -190, -219, -210, -189, -222, -214, -195, -222, -213, -195, -195, -180, -162, -196, -181, -164, -184, -169, -149, -210, -198, -181, -213, -202, -186, -210, -199, -182, -174, -151, -125, -170, -146, -120, -169, -146, -119, -151, -125, -164, -121, -196, -180, -154, -207, -146, -203], [-77, -77, -78, -78, -78, -77, -77, -76, -77, -76, -78, -77, -78, -77, -77, -77, -77, -76, -77, -65, -64, -65, -65, -65, -73, -72, -73, -77, -77, -77, -76, -63, -63, -63, -62, -66, -66, -78, -80, -48, -48, -62, -71, -70, -68, -70, -71, -70, -74, -73, -73, -66, -73, -73, -73, -74, -69, -70, -72, -69, -71, -69, -71, -64, -66, -73, -75, -74, -74, -75, -73, -74, -72, -74, -68, -70, -66, -68, -80, -80, -80, -80, -79, -75, -76, -75, -76, -74, -68, -70, -72, -73, -77, -78, -77, -78, -80, -80, -80, -80, -78, -77, -57, -67, -65, -67, -74, -32, -37, -35, -41, -25, -4, -52, -80, -80, -80, -80, -45, -29, -10, -54, -80, -80, -80, -80, -43, -26, -6, -53, -68, -58, -61, -50, -41, -22, -80, -80, -80, -80, -80, -44, -35, -26, -53, -80, -80, -80, -68, -65, -60, -42, -32, -21, -42, -33, -22, -44, -35, -24, -68, -65, -60, -67, -64, -59, -41, -32, -21, -42, -32, -21, -43, -34, -24, -67, -64, -59, -38, -27, -17, -37, -27, -16, -40, -30, -20, -39, -29, -19, -35, -24, -12, -34, -23, -11, -58, -50, -35, -59, -52, -38, -60, -52, -39, -61, -54, -41, -79, -78, -78, -46, -37, -18, -45, -37, -18, -47, -39, -21, -47, -39, -21, -23, -9, 8, -23, -9, 8, -13, 1, 19, -36, -26, -10, -36, -26, -10, -34, -24, -8, -17, 1, 21, -1, 20, 43, -3, 17, 40, 13, 35, 9, 48, -21, -16, 5, -37, 23, -29], [-28, -27, -31, -24, -24, -19, -26, -26, -25, -25, -34, -34, -27, -27, -27, -27, -28, -28, -20, -26, -25, -34, -25, -24, -15, -15, -12, -17, -17, -19, -19, -9, -9, -10, -10, -37, -30, -33, -44, -39, -40, -40, -21, -15, -8, -8, -16, 3, -33, -30, -21, -6, -23, -18, -23, -23, -23, -21, -17, -9, -5, -13, -9, -9, -5, -24, -31, -23, -25, -31, -13, -9, -18, -15, -18, -14, -22, -18, -36, -32, -23, -1, 42, -30, -36, -20, -16, -39, -22, -18, -31, -29, -31, -29, -30, -29, -43, -41, -39, -44, -44, -45, -41, -43, -43, -43, -44, -37, -38, -39, -45, -45, -45, -45, -45, -45, -45, -45, -45, -45, -45, -45, -43, -42, -41, -44, -45, -45, -45, -45, -37, -36, -45, -43, -42, -41, -45, -45, -45, -45, -45, -44, -44, -44, -45, -45, -45, -45, -36, -34, -30, -36, -34, -30, -36, -34, -30, -36, -34, -30, -36, -33, -30, -35, -33, -29, -35, -33, -29, -35, -33, -29, -35, -33, -29, -35, -33, -29, -35, -32, -29, -34, -32, -28, -35, -33, -29, -35, -32, -28, -34, -31, -28, -33, -31, -26, -44, -44, -43, -44, -44, -43, -44, -44, -43, -44, -44, -43, -44, -44, -43, -37, -36, -31, -37, -35, -31, -37, -36, -32, -37, -35, -31, -38, -36, -34, -38, -36, -34, -37, -36, -33, -43, -42, -41, -42, -41, -40, -43, -42, -41, -34, -31, -27, -33, -30, -27, -33, -30, -26, -31, -27, -32, -25, -36, -33, -30, -37, -24, -35], [0.75, 0.77, 0.78, 0.86, 0.88, 0.96, 1.3, 1.41, 1.3, 1.42, 1.08, 1.19, 1.17, 1.28, 1.18, 1.29, 1.18, 1.29, 1.47, 1.25, 1.25, 1.03, 1.32, 1.32, 1.48, 1.48, 1.51, 1.56, 1.68, 1.59, 1.7, 2.15, 2.26, 2.17, 2.29, 0.59, 0.93, 0.79, 0.31, 0.37, 0.16, 0.115, 0.96, 1.1, 1.44, 1.18, 0.96, 1.28, 0.48, 0.68, 1.04, 1.47, 0.84, 1.11, 0.76, 1.03, 0.98, 0.99, 0.82, 1.41, 1.25, 1.4, 1.23, 1.72, 1.56, 0.91, 0.8, 1.26, 1.26, 0.99, 1.54, 1.37, 1.34, 1.17, 1.48, 1.32, 1.26, 1.09, 0.36, 0.54, 0.9, 1.8, 3.6, 0.59, 0.3, 0.86, 0.69, 0.15, 0.85, 0.68, 0.78, 0.7, 0.73, 0.65, 0.81, 0.72, 0.13, 0.19, 0.29, 0.065, 0.01, 0.0, 0.07, 0.17, 0.09, 0.135, 0.02, 0.17, 0.15, 0.085, 0.0, 0.005, 0.005, 0.0, 0.01, 0.02, 0.035, 0.015, 0.045, 0.065, 0.09, 0.03, 0.07, 0.1, 0.14, 0.05, 0.03, 0.045, 0.06, 0.025, 0.125, 0.135, 0.015, 0.0, 0.0, 0.005, 0.0, 0.01, 0.01, 0.015, 0.005, 0.01, 0.01, 0.01, 0.005, 0.0, 0.0, 0.0, 0.115, 0.14, 0.18, 0.115, 0.14, 0.18, 0.115, 0.14, 0.18, 0.115, 0.14, 0.19, 0.15, 0.19, 0.24, 0.11, 0.135, 0.18, 0.11, 0.135, 0.18, 0.11, 0.135, 0.18, 0.115, 0.14, 0.18, 0.15, 0.18, 0.24, 0.15, 0.19, 0.24, 0.15, 0.19, 0.24, 0.17, 0.22, 0.27, 0.17, 0.21, 0.27, 0.18, 0.22, 0.28, 0.18, 0.22, 0.28, 0.035, 0.05, 0.075, 0.035, 0.05, 0.065, 0.035, 0.05, 0.075, 0.04, 0.055, 0.08, 0.065, 0.09, 0.135, 0.125, 0.15, 0.22, 0.125, 0.15, 0.22, 0.14, 0.17, 0.25, 0.14, 0.17, 0.25, 0.125, 0.16, 0.19, 0.125, 0.16, 0.19, 0.135, 0.16, 0.2, 0.04, 0.05, 0.065, 0.05, 0.06, 0.08, 0.04, 0.045, 0.06, 0.16, 0.2, 0.26, 0.16, 0.21, 0.26, 0.24, 0.3, 0.38, 0.21, 0.26, 0.18, 0.26, 0.12, 0.28, 0.38, 0.19, 0.4, 0.2]], \"symmetric\": false, \"type\": \"data\"}, \"name\": \"Nutrition\", \"type\": \"bar\", \"x\": [\"Total Fat\", \"Saturated Fat\", \"Carbohydrates\", \"Sugars\", \"Protein\", \"Sodium\"], \"y\": [[13.0, 8.0, 23.0, 28.0, 23.0, 23.0, 26.0, 30.0, 20.0, 25.0, 27.0, 31.0, 33.0, 37.0, 27.0, 32.0, 20.0, 24.0, 32.0, 21.0, 15.0, 22.0, 31.0, 26.0, 31.0, 25.0, 35.0, 48.0, 52.0, 37.0, 41.0, 56.0, 60.0, 46.0, 50.0, 9.0, 24.0, 16.0, 9.0, 19.0, 4.0, 4.0, 27.0, 26.0, 29.0, 31.0, 27.0, 43.0, 8.0, 11.0, 21.0, 40.0, 17.0, 22.0, 22.0, 23.0, 26.0, 22.0, 9.0, 33.0, 20.0, 28.0, 15.0, 38.0, 25.0, 19.0, 16.0, 24.0, 21.0, 16.0, 32.0, 19.0, 31.0, 18.0, 33.0, 20.0, 23.0, 10.0, 12.0, 18.0, 30.0, 59.0, 118.0, 19.0, 7.0, 21.0, 8.0, 4.5, 22.0, 8.0, 15.0, 8.0, 15.0, 8.0, 20.0, 13.0, 11.0, 16.0, 24.0, 5.0, 0.0, 0.0, 2.0, 13.0, 8.0, 6.0, 1.5, 9.0, 8.0, 6.0, 0.0, 0.0, 0.0, 0.0, 0.0, 0.0, 0.0, 0.0, 0.0, 0.0, 0.0, 0.0, 0.0, 0.0, 0.0, 0.0, 0.0, 0.0, 0.0, 0.0, 2.5, 0.0, 0.0, 0.0, 0.0, 0.0, 0.0, 0.0, 0.0, 0.0, 0.0, 0.0, 0.0, 0.0, 0.0, 0.0, 0.0, 0.0, 9.0, 10.0, 14.0, 9.0, 10.0, 14.0, 9.0, 10.0, 14.0, 9.0, 10.0, 14.0, 9.0, 10.0, 14.0, 0.0, 0.0, 0.5, 0.0, 0.0, 0.5, 0.0, 0.0, 0.5, 0.0, 0.0, 0.5, 0.0, 0.0, 0.5, 11.0, 14.0, 17.0, 3.5, 3.5, 4.0, 11.0, 14.0, 17.0, 3.5, 3.5, 3.5, 13.0, 16.0, 20.0, 3.5, 3.5, 3.5, 4.5, 7.0, 9.0, 4.5, 7.0, 9.0, 4.5, 7.0, 9.0, 4.5, 7.0, 9.0, 4.5, 7.0, 9.0, 11.0, 13.0, 16.0, 5.0, 5.0, 6.0, 11.0, 13.0, 16.0, 5.0, 5.0, 6.0, 18.0, 22.0, 26.0, 19.0, 23.0, 27.0, 23.0, 26.0, 31.0, 0.5, 1.0, 1.0, 0.5, 1.0, 1.0, 0.5, 1.0, 1.0, 15.0, 19.0, 23.0, 16.0, 20.0, 24.0, 16.0, 20.0, 23.0, 19.0, 23.0, 23.0, 33.0, 15.0, 17.0, 23.0, 11.0, 32.0, 16.0], [5.0, 3.0, 8.0, 10.0, 8.0, 9.0, 13.0, 14.0, 11.0, 12.0, 12.0, 13.0, 14.0, 15.0, 12.0, 13.0, 8.0, 9.0, 16.0, 9.0, 7.0, 8.0, 12.0, 10.0, 11.0, 9.0, 13.0, 17.0, 18.0, 14.0, 14.0, 19.0, 20.0, 16.0, 16.0, 2.0, 7.0, 7.0, 1.5, 9.0, 1.5, 1.5, 10.0, 12.0, 13.0, 13.0, 11.0, 19.0, 3.0, 5.0, 10.0, 15.0, 8.0, 10.0, 9.0, 9.0, 10.0, 3.5, 2.0, 9.0, 7.0, 6.0, 4.5, 10.0, 8.0, 3.0, 3.0, 7.0, 5.0, 3.0, 9.0, 7.0, 8.0, 6.0, 8.0, 6.0, 4.5, 3.0, 2.0, 3.0, 5.0, 10.0, 20.0, 4.0, 3.5, 6.0, 4.0, 2.0, 4.5, 2.5, 4.5, 3.5, 4.5, 3.5, 5.0, 4.5, 1.5, 2.5, 3.5, 1.0, 0.0, 0.0, 1.0, 7.0, 3.5, 2.5, 1.0, 7.0, 5.0, 4.0, 0.0, 0.0, 0.0, 0.0, 0.0, 0.0, 0.0, 0.0, 0.0, 0.0, 0.0, 0.0, 0.0, 0.0, 0.0, 0.0, 0.0, 0.0, 0.0, 0.0, 1.5, 0.0, 0.0, 0.0, 0.0, 0.0, 0.0, 0.0, 0.0, 0.0, 0.0, 0.0, 0.0, 0.0, 0.0, 0.0, 0.0, 0.0, 5.0, 6.0, 8.0, 5.0, 6.0, 8.0, 5.0, 6.0, 8.0, 5.0, 6.0, 8.0, 5.0, 6.0, 8.0, 0.0, 0.0, 0.0, 0.0, 0.0, 0.0, 0.0, 0.0, 0.0, 0.0, 0.0, 0.0, 0.0, 0.0, 0.0, 7.0, 8.0, 10.0, 2.0, 2.0, 2.5, 7.0, 8.0, 10.0, 2.0, 2.0, 2.5, 8.0, 9.0, 12.0, 2.0, 2.0, 2.5, 3.0, 4.5, 6.0, 3.0, 4.5, 6.0, 3.0, 4.5, 6.0, 3.0, 4.5, 6.0, 3.0, 4.5, 6.0, 7.0, 8.0, 10.0, 3.0, 3.5, 3.5, 7.0, 7.0, 10.0, 3.0, 3.0, 3.5, 12.0, 14.0, 17.0, 12.0, 15.0, 17.0, 14.0, 17.0, 20.0, 0.0, 0.0, 0.5, 0.0, 0.0, 0.5, 0.0, 0.0, 0.5, 10.0, 12.0, 15.0, 10.0, 13.0, 15.0, 10.0, 12.0, 15.0, 12.0, 15.0, 14.0, 20.0, 10.0, 9.0, 12.0, 6.0, 15.0, 8.0], [31, 30, 29, 30, 30, 31, 38, 43, 36, 42, 34, 39, 36, 42, 34, 40, 41, 46, 38, 48, 47, 44, 48, 46, 57, 55, 56, 51, 56, 50, 55, 111, 116, 110, 115, 60, 61, 26, 15, 66, 58, 49, 47, 41, 48, 46, 45, 42, 32, 33, 35, 51, 34, 35, 34, 35, 44, 55, 42, 58, 44, 57, 43, 65, 51, 43, 40, 43, 41, 40, 56, 42, 56, 42, 68, 55, 61, 47, 12, 18, 30, 59, 118, 39, 10, 22, 8, 20, 42, 28, 37, 30, 34, 27, 32, 25, 30, 44, 67, 15, 4, 4, 30, 32, 21, 22, 7, 53, 60, 49, 39, 55, 76, 28, 0, 0, 0, 0, 37, 53, 72, 27, 0, 0, 0, 0, 37, 54, 74, 27, 12, 23, 21, 34, 44, 65, 0, 0, 0, 0, 0, 36, 45, 54, 27, 0, 0, 0, 15, 18, 24, 40, 50, 62, 40, 50, 62, 38, 48, 60, 24, 29, 37, 15, 19, 25, 41, 51, 63, 40, 51, 63, 39, 49, 60, 24, 30, 38, 49, 60, 72, 49, 60, 73, 45, 55, 66, 45, 56, 67, 50, 61, 73, 50, 61, 74, 23, 31, 47, 22, 29, 43, 21, 29, 43, 20, 27, 41, 9, 12, 18, 41, 50, 70, 41, 50, 71, 38, 46, 65, 38, 47, 65, 65, 80, 98, 64, 79, 96, 76, 91, 111, 50, 62, 79, 47, 58, 74, 50, 61, 78, 86, 109, 135, 90, 114, 140, 91, 114, 141, 109, 135, 96, 139, 64, 80, 106, 53, 114, 57], [3, 3, 2, 2, 2, 3, 3, 4, 3, 4, 2, 3, 2, 3, 3, 3, 3, 4, 3, 15, 16, 15, 15, 15, 7, 8, 7, 3, 3, 3, 4, 17, 17, 17, 18, 14, 14, 2, 0, 32, 32, 18, 9, 10, 12, 10, 9, 10, 6, 7, 7, 14, 7, 7, 7, 6, 11, 10, 8, 11, 9, 11, 9, 16, 14, 7, 5, 6, 6, 5, 7, 6, 8, 6, 12, 10, 14, 12, 0, 0, 0, 0, 1, 5, 4, 5, 4, 6, 12, 10, 8, 7, 3, 2, 3, 2, 0, 0, 0, 0, 2, 3, 23, 13, 15, 13, 6, 48, 43, 45, 39, 55, 76, 28, 0, 0, 0, 0, 35, 51, 70, 26, 0, 0, 0, 0, 37, 54, 74, 27, 12, 22, 19, 30, 39, 58, 0, 0, 0, 0, 0, 36, 45, 54, 27, 0, 0, 0, 12, 15, 20, 38, 48, 59, 38, 47, 58, 36, 45, 56, 12, 15, 20, 13, 16, 21, 39, 48, 59, 38, 48, 59, 37, 46, 56, 13, 16, 21, 42, 53, 63, 43, 53, 64, 40, 50, 60, 41, 51, 61, 45, 56, 68, 46, 57, 69, 22, 30, 45, 21, 28, 42, 20, 28, 41, 19, 26, 39, 1, 2, 2, 34, 43, 62, 35, 43, 62, 33, 41, 59, 33, 41, 59, 57, 71, 88, 57, 71, 88, 67, 81, 99, 44, 54, 70, 44, 54, 70, 46, 56, 72, 63, 81, 101, 79, 100, 123, 77, 97, 120, 93, 115, 89, 128, 59, 64, 85, 43, 103, 51], [17, 18, 14, 21, 21, 26, 19, 19, 20, 20, 11, 11, 18, 18, 18, 18, 17, 17, 25, 19, 20, 11, 20, 21, 30, 30, 33, 28, 28, 26, 26, 36, 36, 35, 35, 8, 15, 12, 1, 6, 5, 5, 24, 30, 37, 37, 29, 48, 12, 15, 24, 39, 22, 27, 22, 22, 22, 24, 28, 36, 40, 32, 36, 36, 40, 21, 14, 22, 20, 14, 32, 36, 27, 30, 27, 31, 23, 27, 9, 13, 22, 44, 87, 15, 9, 25, 29, 6, 23, 27, 14, 16, 14, 16, 15, 16, 2, 4, 6, 1, 1, 0, 4, 2, 2, 2, 1, 8, 7, 6, 0, 0, 0, 0, 0, 0, 0, 0, 0, 0, 0, 0, 2, 3, 4, 1, 0, 0, 0, 0, 8, 9, 0, 2, 3, 4, 0, 0, 0, 0, 0, 1, 1, 1, 0, 0, 0, 0, 9, 11, 15, 9, 11, 15, 9, 11, 15, 9, 11, 15, 9, 12, 15, 10, 12, 16, 10, 12, 16, 10, 12, 16, 10, 12, 16, 10, 12, 16, 10, 13, 16, 11, 13, 17, 10, 12, 16, 10, 13, 17, 11, 14, 17, 12, 14, 19, 1, 1, 2, 1, 1, 2, 1, 1, 2, 1, 1, 2, 1, 1, 2, 8, 9, 14, 8, 10, 14, 8, 9, 13, 8, 10, 14, 7, 9, 11, 7, 9, 11, 8, 9, 12, 2, 3, 4, 3, 4, 5, 2, 3, 4, 11, 14, 18, 12, 15, 18, 12, 15, 19, 14, 18, 13, 20, 9, 12, 15, 8, 21, 10], [0.75, 0.77, 0.78, 0.86, 0.88, 0.96, 1.3, 1.41, 1.3, 1.42, 1.08, 1.19, 1.17, 1.28, 1.18, 1.29, 1.18, 1.29, 1.47, 1.25, 1.25, 1.03, 1.32, 1.32, 1.48, 1.48, 1.51, 1.56, 1.68, 1.59, 1.7, 2.15, 2.26, 2.17, 2.29, 0.59, 0.93, 0.79, 0.31, 0.37, 0.16, 0.115, 0.96, 1.1, 1.44, 1.18, 0.96, 1.28, 0.48, 0.68, 1.04, 1.47, 0.84, 1.11, 0.76, 1.03, 0.98, 0.99, 0.82, 1.41, 1.25, 1.4, 1.23, 1.72, 1.56, 0.91, 0.8, 1.26, 1.26, 0.99, 1.54, 1.37, 1.34, 1.17, 1.48, 1.32, 1.26, 1.09, 0.36, 0.54, 0.9, 1.8, 3.6, 0.59, 0.3, 0.86, 0.69, 0.15, 0.85, 0.68, 0.78, 0.7, 0.73, 0.65, 0.81, 0.72, 0.13, 0.19, 0.29, 0.065, 0.01, 0.0, 0.07, 0.17, 0.09, 0.135, 0.02, 0.17, 0.15, 0.085, 0.0, 0.005, 0.005, 0.0, 0.01, 0.02, 0.035, 0.015, 0.045, 0.065, 0.09, 0.03, 0.07, 0.1, 0.14, 0.05, 0.03, 0.045, 0.06, 0.025, 0.125, 0.135, 0.015, 0.0, 0.0, 0.005, 0.0, 0.01, 0.01, 0.015, 0.005, 0.01, 0.01, 0.01, 0.005, 0.0, 0.0, 0.0, 0.115, 0.14, 0.18, 0.115, 0.14, 0.18, 0.115, 0.14, 0.18, 0.115, 0.14, 0.19, 0.15, 0.19, 0.24, 0.11, 0.135, 0.18, 0.11, 0.135, 0.18, 0.11, 0.135, 0.18, 0.115, 0.14, 0.18, 0.15, 0.18, 0.24, 0.15, 0.19, 0.24, 0.15, 0.19, 0.24, 0.17, 0.22, 0.27, 0.17, 0.21, 0.27, 0.18, 0.22, 0.28, 0.18, 0.22, 0.28, 0.035, 0.05, 0.075, 0.035, 0.05, 0.065, 0.035, 0.05, 0.075, 0.04, 0.055, 0.08, 0.065, 0.09, 0.135, 0.125, 0.15, 0.22, 0.125, 0.15, 0.22, 0.14, 0.17, 0.25, 0.14, 0.17, 0.25, 0.125, 0.16, 0.19, 0.125, 0.16, 0.19, 0.135, 0.16, 0.2, 0.04, 0.05, 0.065, 0.05, 0.06, 0.08, 0.04, 0.045, 0.06, 0.16, 0.2, 0.26, 0.16, 0.21, 0.26, 0.24, 0.3, 0.38, 0.21, 0.26, 0.18, 0.26, 0.12, 0.28, 0.38, 0.19, 0.4, 0.2]]}],\n",
              "                        {\"barmode\": \"group\", \"template\": {\"data\": {\"bar\": [{\"error_x\": {\"color\": \"#2a3f5f\"}, \"error_y\": {\"color\": \"#2a3f5f\"}, \"marker\": {\"line\": {\"color\": \"#E5ECF6\", \"width\": 0.5}}, \"type\": \"bar\"}], \"barpolar\": [{\"marker\": {\"line\": {\"color\": \"#E5ECF6\", \"width\": 0.5}}, \"type\": \"barpolar\"}], \"carpet\": [{\"aaxis\": {\"endlinecolor\": \"#2a3f5f\", \"gridcolor\": \"white\", \"linecolor\": \"white\", \"minorgridcolor\": \"white\", \"startlinecolor\": \"#2a3f5f\"}, \"baxis\": {\"endlinecolor\": \"#2a3f5f\", \"gridcolor\": \"white\", \"linecolor\": \"white\", \"minorgridcolor\": \"white\", \"startlinecolor\": \"#2a3f5f\"}, \"type\": \"carpet\"}], \"choropleth\": [{\"colorbar\": {\"outlinewidth\": 0, \"ticks\": \"\"}, \"type\": \"choropleth\"}], \"contour\": [{\"colorbar\": {\"outlinewidth\": 0, \"ticks\": \"\"}, \"colorscale\": [[0.0, \"#0d0887\"], [0.1111111111111111, \"#46039f\"], [0.2222222222222222, \"#7201a8\"], [0.3333333333333333, \"#9c179e\"], [0.4444444444444444, \"#bd3786\"], [0.5555555555555556, \"#d8576b\"], [0.6666666666666666, \"#ed7953\"], [0.7777777777777778, \"#fb9f3a\"], [0.8888888888888888, \"#fdca26\"], [1.0, \"#f0f921\"]], \"type\": \"contour\"}], \"contourcarpet\": [{\"colorbar\": {\"outlinewidth\": 0, \"ticks\": \"\"}, \"type\": \"contourcarpet\"}], \"heatmap\": [{\"colorbar\": {\"outlinewidth\": 0, \"ticks\": \"\"}, \"colorscale\": [[0.0, \"#0d0887\"], [0.1111111111111111, \"#46039f\"], [0.2222222222222222, \"#7201a8\"], [0.3333333333333333, \"#9c179e\"], [0.4444444444444444, \"#bd3786\"], [0.5555555555555556, \"#d8576b\"], [0.6666666666666666, \"#ed7953\"], [0.7777777777777778, \"#fb9f3a\"], [0.8888888888888888, \"#fdca26\"], [1.0, \"#f0f921\"]], \"type\": \"heatmap\"}], \"heatmapgl\": [{\"colorbar\": {\"outlinewidth\": 0, \"ticks\": \"\"}, \"colorscale\": [[0.0, \"#0d0887\"], [0.1111111111111111, \"#46039f\"], [0.2222222222222222, \"#7201a8\"], [0.3333333333333333, \"#9c179e\"], [0.4444444444444444, \"#bd3786\"], [0.5555555555555556, \"#d8576b\"], [0.6666666666666666, \"#ed7953\"], [0.7777777777777778, \"#fb9f3a\"], [0.8888888888888888, \"#fdca26\"], [1.0, \"#f0f921\"]], \"type\": \"heatmapgl\"}], \"histogram\": [{\"marker\": {\"colorbar\": {\"outlinewidth\": 0, \"ticks\": \"\"}}, \"type\": \"histogram\"}], \"histogram2d\": [{\"colorbar\": {\"outlinewidth\": 0, \"ticks\": \"\"}, \"colorscale\": [[0.0, \"#0d0887\"], [0.1111111111111111, \"#46039f\"], [0.2222222222222222, \"#7201a8\"], [0.3333333333333333, \"#9c179e\"], [0.4444444444444444, \"#bd3786\"], [0.5555555555555556, \"#d8576b\"], [0.6666666666666666, \"#ed7953\"], [0.7777777777777778, \"#fb9f3a\"], [0.8888888888888888, \"#fdca26\"], [1.0, \"#f0f921\"]], \"type\": \"histogram2d\"}], \"histogram2dcontour\": [{\"colorbar\": {\"outlinewidth\": 0, \"ticks\": \"\"}, \"colorscale\": [[0.0, \"#0d0887\"], [0.1111111111111111, \"#46039f\"], [0.2222222222222222, \"#7201a8\"], [0.3333333333333333, \"#9c179e\"], [0.4444444444444444, \"#bd3786\"], [0.5555555555555556, \"#d8576b\"], [0.6666666666666666, \"#ed7953\"], [0.7777777777777778, \"#fb9f3a\"], [0.8888888888888888, \"#fdca26\"], [1.0, \"#f0f921\"]], \"type\": \"histogram2dcontour\"}], \"mesh3d\": [{\"colorbar\": {\"outlinewidth\": 0, \"ticks\": \"\"}, \"type\": \"mesh3d\"}], \"parcoords\": [{\"line\": {\"colorbar\": {\"outlinewidth\": 0, \"ticks\": \"\"}}, \"type\": \"parcoords\"}], \"pie\": [{\"automargin\": true, \"type\": \"pie\"}], \"scatter\": [{\"marker\": {\"colorbar\": {\"outlinewidth\": 0, \"ticks\": \"\"}}, \"type\": \"scatter\"}], \"scatter3d\": [{\"line\": {\"colorbar\": {\"outlinewidth\": 0, \"ticks\": \"\"}}, \"marker\": {\"colorbar\": {\"outlinewidth\": 0, \"ticks\": \"\"}}, \"type\": \"scatter3d\"}], \"scattercarpet\": [{\"marker\": {\"colorbar\": {\"outlinewidth\": 0, \"ticks\": \"\"}}, \"type\": \"scattercarpet\"}], \"scattergeo\": [{\"marker\": {\"colorbar\": {\"outlinewidth\": 0, \"ticks\": \"\"}}, \"type\": \"scattergeo\"}], \"scattergl\": [{\"marker\": {\"colorbar\": {\"outlinewidth\": 0, \"ticks\": \"\"}}, \"type\": \"scattergl\"}], \"scattermapbox\": [{\"marker\": {\"colorbar\": {\"outlinewidth\": 0, \"ticks\": \"\"}}, \"type\": \"scattermapbox\"}], \"scatterpolar\": [{\"marker\": {\"colorbar\": {\"outlinewidth\": 0, \"ticks\": \"\"}}, \"type\": \"scatterpolar\"}], \"scatterpolargl\": [{\"marker\": {\"colorbar\": {\"outlinewidth\": 0, \"ticks\": \"\"}}, \"type\": \"scatterpolargl\"}], \"scatterternary\": [{\"marker\": {\"colorbar\": {\"outlinewidth\": 0, \"ticks\": \"\"}}, \"type\": \"scatterternary\"}], \"surface\": [{\"colorbar\": {\"outlinewidth\": 0, \"ticks\": \"\"}, \"colorscale\": [[0.0, \"#0d0887\"], [0.1111111111111111, \"#46039f\"], [0.2222222222222222, \"#7201a8\"], [0.3333333333333333, \"#9c179e\"], [0.4444444444444444, \"#bd3786\"], [0.5555555555555556, \"#d8576b\"], [0.6666666666666666, \"#ed7953\"], [0.7777777777777778, \"#fb9f3a\"], [0.8888888888888888, \"#fdca26\"], [1.0, \"#f0f921\"]], \"type\": \"surface\"}], \"table\": [{\"cells\": {\"fill\": {\"color\": \"#EBF0F8\"}, \"line\": {\"color\": \"white\"}}, \"header\": {\"fill\": {\"color\": \"#C8D4E3\"}, \"line\": {\"color\": \"white\"}}, \"type\": \"table\"}]}, \"layout\": {\"annotationdefaults\": {\"arrowcolor\": \"#2a3f5f\", \"arrowhead\": 0, \"arrowwidth\": 1}, \"coloraxis\": {\"colorbar\": {\"outlinewidth\": 0, \"ticks\": \"\"}}, \"colorscale\": {\"diverging\": [[0, \"#8e0152\"], [0.1, \"#c51b7d\"], [0.2, \"#de77ae\"], [0.3, \"#f1b6da\"], [0.4, \"#fde0ef\"], [0.5, \"#f7f7f7\"], [0.6, \"#e6f5d0\"], [0.7, \"#b8e186\"], [0.8, \"#7fbc41\"], [0.9, \"#4d9221\"], [1, \"#276419\"]], \"sequential\": [[0.0, \"#0d0887\"], [0.1111111111111111, \"#46039f\"], [0.2222222222222222, \"#7201a8\"], [0.3333333333333333, \"#9c179e\"], [0.4444444444444444, \"#bd3786\"], [0.5555555555555556, \"#d8576b\"], [0.6666666666666666, \"#ed7953\"], [0.7777777777777778, \"#fb9f3a\"], [0.8888888888888888, \"#fdca26\"], [1.0, \"#f0f921\"]], \"sequentialminus\": [[0.0, \"#0d0887\"], [0.1111111111111111, \"#46039f\"], [0.2222222222222222, \"#7201a8\"], [0.3333333333333333, \"#9c179e\"], [0.4444444444444444, \"#bd3786\"], [0.5555555555555556, \"#d8576b\"], [0.6666666666666666, \"#ed7953\"], [0.7777777777777778, \"#fb9f3a\"], [0.8888888888888888, \"#fdca26\"], [1.0, \"#f0f921\"]]}, \"colorway\": [\"#636efa\", \"#EF553B\", \"#00cc96\", \"#ab63fa\", \"#FFA15A\", \"#19d3f3\", \"#FF6692\", \"#B6E880\", \"#FF97FF\", \"#FECB52\"], \"font\": {\"color\": \"#2a3f5f\"}, \"geo\": {\"bgcolor\": \"white\", \"lakecolor\": \"white\", \"landcolor\": \"#E5ECF6\", \"showlakes\": true, \"showland\": true, \"subunitcolor\": \"white\"}, \"hoverlabel\": {\"align\": \"left\"}, \"hovermode\": \"closest\", \"mapbox\": {\"style\": \"light\"}, \"paper_bgcolor\": \"white\", \"plot_bgcolor\": \"#E5ECF6\", \"polar\": {\"angularaxis\": {\"gridcolor\": \"white\", \"linecolor\": \"white\", \"ticks\": \"\"}, \"bgcolor\": \"#E5ECF6\", \"radialaxis\": {\"gridcolor\": \"white\", \"linecolor\": \"white\", \"ticks\": \"\"}}, \"scene\": {\"xaxis\": {\"backgroundcolor\": \"#E5ECF6\", \"gridcolor\": \"white\", \"gridwidth\": 2, \"linecolor\": \"white\", \"showbackground\": true, \"ticks\": \"\", \"zerolinecolor\": \"white\"}, \"yaxis\": {\"backgroundcolor\": \"#E5ECF6\", \"gridcolor\": \"white\", \"gridwidth\": 2, \"linecolor\": \"white\", \"showbackground\": true, \"ticks\": \"\", \"zerolinecolor\": \"white\"}, \"zaxis\": {\"backgroundcolor\": \"#E5ECF6\", \"gridcolor\": \"white\", \"gridwidth\": 2, \"linecolor\": \"white\", \"showbackground\": true, \"ticks\": \"\", \"zerolinecolor\": \"white\"}}, \"shapedefaults\": {\"line\": {\"color\": \"#2a3f5f\"}}, \"ternary\": {\"aaxis\": {\"gridcolor\": \"white\", \"linecolor\": \"white\", \"ticks\": \"\"}, \"baxis\": {\"gridcolor\": \"white\", \"linecolor\": \"white\", \"ticks\": \"\"}, \"bgcolor\": \"#E5ECF6\", \"caxis\": {\"gridcolor\": \"white\", \"linecolor\": \"white\", \"ticks\": \"\"}}, \"title\": {\"x\": 0.05}, \"xaxis\": {\"automargin\": true, \"gridcolor\": \"white\", \"linecolor\": \"white\", \"ticks\": \"\", \"title\": {\"standoff\": 15}, \"zerolinecolor\": \"white\", \"zerolinewidth\": 2}, \"yaxis\": {\"automargin\": true, \"gridcolor\": \"white\", \"linecolor\": \"white\", \"ticks\": \"\", \"title\": {\"standoff\": 15}, \"zerolinecolor\": \"white\", \"zerolinewidth\": 2}}}},\n",
              "                        {\"responsive\": true}\n",
              "                    ).then(function(){\n",
              "                            \n",
              "var gd = document.getElementById('32ee273a-e56a-4956-9185-da3b78d02174');\n",
              "var x = new MutationObserver(function (mutations, observer) {{\n",
              "        var display = window.getComputedStyle(gd).display;\n",
              "        if (!display || display === 'none') {{\n",
              "            console.log([gd, 'removed!']);\n",
              "            Plotly.purge(gd);\n",
              "            observer.disconnect();\n",
              "        }}\n",
              "}});\n",
              "\n",
              "// Listen for the removal of the full notebook cells\n",
              "var notebookContainer = gd.closest('#notebook-container');\n",
              "if (notebookContainer) {{\n",
              "    x.observe(notebookContainer, {childList: true});\n",
              "}}\n",
              "\n",
              "// Listen for the clearing of the current output cell\n",
              "var outputEl = gd.closest('.output');\n",
              "if (outputEl) {{\n",
              "    x.observe(outputEl, {childList: true});\n",
              "}}\n",
              "\n",
              "                        })\n",
              "                };\n",
              "                });\n",
              "            </script>\n",
              "        </div>"
            ],
            "application/vnd.plotly.v1+json": {
              "data": [
                {
                  "y": [
                    [
                      13,
                      8,
                      23,
                      28,
                      23,
                      23,
                      26,
                      30,
                      20,
                      25,
                      27,
                      31,
                      33,
                      37,
                      27,
                      32,
                      20,
                      24,
                      32,
                      21,
                      15,
                      22,
                      31,
                      26,
                      31,
                      25,
                      35,
                      48,
                      52,
                      37,
                      41,
                      56,
                      60,
                      46,
                      50,
                      9,
                      24,
                      16,
                      9,
                      19,
                      4,
                      4,
                      27,
                      26,
                      29,
                      31,
                      27,
                      43,
                      8,
                      11,
                      21,
                      40,
                      17,
                      22,
                      22,
                      23,
                      26,
                      22,
                      9,
                      33,
                      20,
                      28,
                      15,
                      38,
                      25,
                      19,
                      16,
                      24,
                      21,
                      16,
                      32,
                      19,
                      31,
                      18,
                      33,
                      20,
                      23,
                      10,
                      12,
                      18,
                      30,
                      59,
                      118,
                      19,
                      7,
                      21,
                      8,
                      4.5,
                      22,
                      8,
                      15,
                      8,
                      15,
                      8,
                      20,
                      13,
                      11,
                      16,
                      24,
                      5,
                      0,
                      0,
                      2,
                      13,
                      8,
                      6,
                      1.5,
                      9,
                      8,
                      6,
                      0,
                      0,
                      0,
                      0,
                      0,
                      0,
                      0,
                      0,
                      0,
                      0,
                      0,
                      0,
                      0,
                      0,
                      0,
                      0,
                      0,
                      0,
                      0,
                      0,
                      2.5,
                      0,
                      0,
                      0,
                      0,
                      0,
                      0,
                      0,
                      0,
                      0,
                      0,
                      0,
                      0,
                      0,
                      0,
                      0,
                      0,
                      0,
                      9,
                      10,
                      14,
                      9,
                      10,
                      14,
                      9,
                      10,
                      14,
                      9,
                      10,
                      14,
                      9,
                      10,
                      14,
                      0,
                      0,
                      0.5,
                      0,
                      0,
                      0.5,
                      0,
                      0,
                      0.5,
                      0,
                      0,
                      0.5,
                      0,
                      0,
                      0.5,
                      11,
                      14,
                      17,
                      3.5,
                      3.5,
                      4,
                      11,
                      14,
                      17,
                      3.5,
                      3.5,
                      3.5,
                      13,
                      16,
                      20,
                      3.5,
                      3.5,
                      3.5,
                      4.5,
                      7,
                      9,
                      4.5,
                      7,
                      9,
                      4.5,
                      7,
                      9,
                      4.5,
                      7,
                      9,
                      4.5,
                      7,
                      9,
                      11,
                      13,
                      16,
                      5,
                      5,
                      6,
                      11,
                      13,
                      16,
                      5,
                      5,
                      6,
                      18,
                      22,
                      26,
                      19,
                      23,
                      27,
                      23,
                      26,
                      31,
                      0.5,
                      1,
                      1,
                      0.5,
                      1,
                      1,
                      0.5,
                      1,
                      1,
                      15,
                      19,
                      23,
                      16,
                      20,
                      24,
                      16,
                      20,
                      23,
                      19,
                      23,
                      23,
                      33,
                      15,
                      17,
                      23,
                      11,
                      32,
                      16
                    ],
                    [
                      5,
                      3,
                      8,
                      10,
                      8,
                      9,
                      13,
                      14,
                      11,
                      12,
                      12,
                      13,
                      14,
                      15,
                      12,
                      13,
                      8,
                      9,
                      16,
                      9,
                      7,
                      8,
                      12,
                      10,
                      11,
                      9,
                      13,
                      17,
                      18,
                      14,
                      14,
                      19,
                      20,
                      16,
                      16,
                      2,
                      7,
                      7,
                      1.5,
                      9,
                      1.5,
                      1.5,
                      10,
                      12,
                      13,
                      13,
                      11,
                      19,
                      3,
                      5,
                      10,
                      15,
                      8,
                      10,
                      9,
                      9,
                      10,
                      3.5,
                      2,
                      9,
                      7,
                      6,
                      4.5,
                      10,
                      8,
                      3,
                      3,
                      7,
                      5,
                      3,
                      9,
                      7,
                      8,
                      6,
                      8,
                      6,
                      4.5,
                      3,
                      2,
                      3,
                      5,
                      10,
                      20,
                      4,
                      3.5,
                      6,
                      4,
                      2,
                      4.5,
                      2.5,
                      4.5,
                      3.5,
                      4.5,
                      3.5,
                      5,
                      4.5,
                      1.5,
                      2.5,
                      3.5,
                      1,
                      0,
                      0,
                      1,
                      7,
                      3.5,
                      2.5,
                      1,
                      7,
                      5,
                      4,
                      0,
                      0,
                      0,
                      0,
                      0,
                      0,
                      0,
                      0,
                      0,
                      0,
                      0,
                      0,
                      0,
                      0,
                      0,
                      0,
                      0,
                      0,
                      0,
                      0,
                      1.5,
                      0,
                      0,
                      0,
                      0,
                      0,
                      0,
                      0,
                      0,
                      0,
                      0,
                      0,
                      0,
                      0,
                      0,
                      0,
                      0,
                      0,
                      5,
                      6,
                      8,
                      5,
                      6,
                      8,
                      5,
                      6,
                      8,
                      5,
                      6,
                      8,
                      5,
                      6,
                      8,
                      0,
                      0,
                      0,
                      0,
                      0,
                      0,
                      0,
                      0,
                      0,
                      0,
                      0,
                      0,
                      0,
                      0,
                      0,
                      7,
                      8,
                      10,
                      2,
                      2,
                      2.5,
                      7,
                      8,
                      10,
                      2,
                      2,
                      2.5,
                      8,
                      9,
                      12,
                      2,
                      2,
                      2.5,
                      3,
                      4.5,
                      6,
                      3,
                      4.5,
                      6,
                      3,
                      4.5,
                      6,
                      3,
                      4.5,
                      6,
                      3,
                      4.5,
                      6,
                      7,
                      8,
                      10,
                      3,
                      3.5,
                      3.5,
                      7,
                      7,
                      10,
                      3,
                      3,
                      3.5,
                      12,
                      14,
                      17,
                      12,
                      15,
                      17,
                      14,
                      17,
                      20,
                      0,
                      0,
                      0.5,
                      0,
                      0,
                      0.5,
                      0,
                      0,
                      0.5,
                      10,
                      12,
                      15,
                      10,
                      13,
                      15,
                      10,
                      12,
                      15,
                      12,
                      15,
                      14,
                      20,
                      10,
                      9,
                      12,
                      6,
                      15,
                      8
                    ],
                    [
                      31,
                      30,
                      29,
                      30,
                      30,
                      31,
                      38,
                      43,
                      36,
                      42,
                      34,
                      39,
                      36,
                      42,
                      34,
                      40,
                      41,
                      46,
                      38,
                      48,
                      47,
                      44,
                      48,
                      46,
                      57,
                      55,
                      56,
                      51,
                      56,
                      50,
                      55,
                      111,
                      116,
                      110,
                      115,
                      60,
                      61,
                      26,
                      15,
                      66,
                      58,
                      49,
                      47,
                      41,
                      48,
                      46,
                      45,
                      42,
                      32,
                      33,
                      35,
                      51,
                      34,
                      35,
                      34,
                      35,
                      44,
                      55,
                      42,
                      58,
                      44,
                      57,
                      43,
                      65,
                      51,
                      43,
                      40,
                      43,
                      41,
                      40,
                      56,
                      42,
                      56,
                      42,
                      68,
                      55,
                      61,
                      47,
                      12,
                      18,
                      30,
                      59,
                      118,
                      39,
                      10,
                      22,
                      8,
                      20,
                      42,
                      28,
                      37,
                      30,
                      34,
                      27,
                      32,
                      25,
                      30,
                      44,
                      67,
                      15,
                      4,
                      4,
                      30,
                      32,
                      21,
                      22,
                      7,
                      53,
                      60,
                      49,
                      39,
                      55,
                      76,
                      28,
                      0,
                      0,
                      0,
                      0,
                      37,
                      53,
                      72,
                      27,
                      0,
                      0,
                      0,
                      0,
                      37,
                      54,
                      74,
                      27,
                      12,
                      23,
                      21,
                      34,
                      44,
                      65,
                      0,
                      0,
                      0,
                      0,
                      0,
                      36,
                      45,
                      54,
                      27,
                      0,
                      0,
                      0,
                      15,
                      18,
                      24,
                      40,
                      50,
                      62,
                      40,
                      50,
                      62,
                      38,
                      48,
                      60,
                      24,
                      29,
                      37,
                      15,
                      19,
                      25,
                      41,
                      51,
                      63,
                      40,
                      51,
                      63,
                      39,
                      49,
                      60,
                      24,
                      30,
                      38,
                      49,
                      60,
                      72,
                      49,
                      60,
                      73,
                      45,
                      55,
                      66,
                      45,
                      56,
                      67,
                      50,
                      61,
                      73,
                      50,
                      61,
                      74,
                      23,
                      31,
                      47,
                      22,
                      29,
                      43,
                      21,
                      29,
                      43,
                      20,
                      27,
                      41,
                      9,
                      12,
                      18,
                      41,
                      50,
                      70,
                      41,
                      50,
                      71,
                      38,
                      46,
                      65,
                      38,
                      47,
                      65,
                      65,
                      80,
                      98,
                      64,
                      79,
                      96,
                      76,
                      91,
                      111,
                      50,
                      62,
                      79,
                      47,
                      58,
                      74,
                      50,
                      61,
                      78,
                      86,
                      109,
                      135,
                      90,
                      114,
                      140,
                      91,
                      114,
                      141,
                      109,
                      135,
                      96,
                      139,
                      64,
                      80,
                      106,
                      53,
                      114,
                      57
                    ],
                    [
                      3,
                      3,
                      2,
                      2,
                      2,
                      3,
                      3,
                      4,
                      3,
                      4,
                      2,
                      3,
                      2,
                      3,
                      3,
                      3,
                      3,
                      4,
                      3,
                      15,
                      16,
                      15,
                      15,
                      15,
                      7,
                      8,
                      7,
                      3,
                      3,
                      3,
                      4,
                      17,
                      17,
                      17,
                      18,
                      14,
                      14,
                      2,
                      0,
                      32,
                      32,
                      18,
                      9,
                      10,
                      12,
                      10,
                      9,
                      10,
                      6,
                      7,
                      7,
                      14,
                      7,
                      7,
                      7,
                      6,
                      11,
                      10,
                      8,
                      11,
                      9,
                      11,
                      9,
                      16,
                      14,
                      7,
                      5,
                      6,
                      6,
                      5,
                      7,
                      6,
                      8,
                      6,
                      12,
                      10,
                      14,
                      12,
                      0,
                      0,
                      0,
                      0,
                      1,
                      5,
                      4,
                      5,
                      4,
                      6,
                      12,
                      10,
                      8,
                      7,
                      3,
                      2,
                      3,
                      2,
                      0,
                      0,
                      0,
                      0,
                      2,
                      3,
                      23,
                      13,
                      15,
                      13,
                      6,
                      48,
                      43,
                      45,
                      39,
                      55,
                      76,
                      28,
                      0,
                      0,
                      0,
                      0,
                      35,
                      51,
                      70,
                      26,
                      0,
                      0,
                      0,
                      0,
                      37,
                      54,
                      74,
                      27,
                      12,
                      22,
                      19,
                      30,
                      39,
                      58,
                      0,
                      0,
                      0,
                      0,
                      0,
                      36,
                      45,
                      54,
                      27,
                      0,
                      0,
                      0,
                      12,
                      15,
                      20,
                      38,
                      48,
                      59,
                      38,
                      47,
                      58,
                      36,
                      45,
                      56,
                      12,
                      15,
                      20,
                      13,
                      16,
                      21,
                      39,
                      48,
                      59,
                      38,
                      48,
                      59,
                      37,
                      46,
                      56,
                      13,
                      16,
                      21,
                      42,
                      53,
                      63,
                      43,
                      53,
                      64,
                      40,
                      50,
                      60,
                      41,
                      51,
                      61,
                      45,
                      56,
                      68,
                      46,
                      57,
                      69,
                      22,
                      30,
                      45,
                      21,
                      28,
                      42,
                      20,
                      28,
                      41,
                      19,
                      26,
                      39,
                      1,
                      2,
                      2,
                      34,
                      43,
                      62,
                      35,
                      43,
                      62,
                      33,
                      41,
                      59,
                      33,
                      41,
                      59,
                      57,
                      71,
                      88,
                      57,
                      71,
                      88,
                      67,
                      81,
                      99,
                      44,
                      54,
                      70,
                      44,
                      54,
                      70,
                      46,
                      56,
                      72,
                      63,
                      81,
                      101,
                      79,
                      100,
                      123,
                      77,
                      97,
                      120,
                      93,
                      115,
                      89,
                      128,
                      59,
                      64,
                      85,
                      43,
                      103,
                      51
                    ],
                    [
                      17,
                      18,
                      14,
                      21,
                      21,
                      26,
                      19,
                      19,
                      20,
                      20,
                      11,
                      11,
                      18,
                      18,
                      18,
                      18,
                      17,
                      17,
                      25,
                      19,
                      20,
                      11,
                      20,
                      21,
                      30,
                      30,
                      33,
                      28,
                      28,
                      26,
                      26,
                      36,
                      36,
                      35,
                      35,
                      8,
                      15,
                      12,
                      1,
                      6,
                      5,
                      5,
                      24,
                      30,
                      37,
                      37,
                      29,
                      48,
                      12,
                      15,
                      24,
                      39,
                      22,
                      27,
                      22,
                      22,
                      22,
                      24,
                      28,
                      36,
                      40,
                      32,
                      36,
                      36,
                      40,
                      21,
                      14,
                      22,
                      20,
                      14,
                      32,
                      36,
                      27,
                      30,
                      27,
                      31,
                      23,
                      27,
                      9,
                      13,
                      22,
                      44,
                      87,
                      15,
                      9,
                      25,
                      29,
                      6,
                      23,
                      27,
                      14,
                      16,
                      14,
                      16,
                      15,
                      16,
                      2,
                      4,
                      6,
                      1,
                      1,
                      0,
                      4,
                      2,
                      2,
                      2,
                      1,
                      8,
                      7,
                      6,
                      0,
                      0,
                      0,
                      0,
                      0,
                      0,
                      0,
                      0,
                      0,
                      0,
                      0,
                      0,
                      2,
                      3,
                      4,
                      1,
                      0,
                      0,
                      0,
                      0,
                      8,
                      9,
                      0,
                      2,
                      3,
                      4,
                      0,
                      0,
                      0,
                      0,
                      0,
                      1,
                      1,
                      1,
                      0,
                      0,
                      0,
                      0,
                      9,
                      11,
                      15,
                      9,
                      11,
                      15,
                      9,
                      11,
                      15,
                      9,
                      11,
                      15,
                      9,
                      12,
                      15,
                      10,
                      12,
                      16,
                      10,
                      12,
                      16,
                      10,
                      12,
                      16,
                      10,
                      12,
                      16,
                      10,
                      12,
                      16,
                      10,
                      13,
                      16,
                      11,
                      13,
                      17,
                      10,
                      12,
                      16,
                      10,
                      13,
                      17,
                      11,
                      14,
                      17,
                      12,
                      14,
                      19,
                      1,
                      1,
                      2,
                      1,
                      1,
                      2,
                      1,
                      1,
                      2,
                      1,
                      1,
                      2,
                      1,
                      1,
                      2,
                      8,
                      9,
                      14,
                      8,
                      10,
                      14,
                      8,
                      9,
                      13,
                      8,
                      10,
                      14,
                      7,
                      9,
                      11,
                      7,
                      9,
                      11,
                      8,
                      9,
                      12,
                      2,
                      3,
                      4,
                      3,
                      4,
                      5,
                      2,
                      3,
                      4,
                      11,
                      14,
                      18,
                      12,
                      15,
                      18,
                      12,
                      15,
                      19,
                      14,
                      18,
                      13,
                      20,
                      9,
                      12,
                      15,
                      8,
                      21,
                      10
                    ],
                    [
                      0.75,
                      0.77,
                      0.78,
                      0.86,
                      0.88,
                      0.96,
                      1.3,
                      1.41,
                      1.3,
                      1.42,
                      1.08,
                      1.19,
                      1.17,
                      1.28,
                      1.18,
                      1.29,
                      1.18,
                      1.29,
                      1.47,
                      1.25,
                      1.25,
                      1.03,
                      1.32,
                      1.32,
                      1.48,
                      1.48,
                      1.51,
                      1.56,
                      1.68,
                      1.59,
                      1.7,
                      2.15,
                      2.26,
                      2.17,
                      2.29,
                      0.59,
                      0.93,
                      0.79,
                      0.31,
                      0.37,
                      0.16,
                      0.115,
                      0.96,
                      1.1,
                      1.44,
                      1.18,
                      0.96,
                      1.28,
                      0.48,
                      0.68,
                      1.04,
                      1.47,
                      0.84,
                      1.11,
                      0.76,
                      1.03,
                      0.98,
                      0.99,
                      0.82,
                      1.41,
                      1.25,
                      1.4,
                      1.23,
                      1.72,
                      1.56,
                      0.91,
                      0.8,
                      1.26,
                      1.26,
                      0.99,
                      1.54,
                      1.37,
                      1.34,
                      1.17,
                      1.48,
                      1.32,
                      1.26,
                      1.09,
                      0.36,
                      0.54,
                      0.9,
                      1.8,
                      3.6,
                      0.59,
                      0.3,
                      0.86,
                      0.69,
                      0.15,
                      0.85,
                      0.68,
                      0.78,
                      0.7,
                      0.73,
                      0.65,
                      0.81,
                      0.72,
                      0.13,
                      0.19,
                      0.29,
                      0.065,
                      0.01,
                      0,
                      0.07,
                      0.17,
                      0.09,
                      0.135,
                      0.02,
                      0.17,
                      0.15,
                      0.085,
                      0,
                      0.005,
                      0.005,
                      0,
                      0.01,
                      0.02,
                      0.035,
                      0.015,
                      0.045,
                      0.065,
                      0.09,
                      0.03,
                      0.07,
                      0.1,
                      0.14,
                      0.05,
                      0.03,
                      0.045,
                      0.06,
                      0.025,
                      0.125,
                      0.135,
                      0.015,
                      0,
                      0,
                      0.005,
                      0,
                      0.01,
                      0.01,
                      0.015,
                      0.005,
                      0.01,
                      0.01,
                      0.01,
                      0.005,
                      0,
                      0,
                      0,
                      0.115,
                      0.14,
                      0.18,
                      0.115,
                      0.14,
                      0.18,
                      0.115,
                      0.14,
                      0.18,
                      0.115,
                      0.14,
                      0.19,
                      0.15,
                      0.19,
                      0.24,
                      0.11,
                      0.135,
                      0.18,
                      0.11,
                      0.135,
                      0.18,
                      0.11,
                      0.135,
                      0.18,
                      0.115,
                      0.14,
                      0.18,
                      0.15,
                      0.18,
                      0.24,
                      0.15,
                      0.19,
                      0.24,
                      0.15,
                      0.19,
                      0.24,
                      0.17,
                      0.22,
                      0.27,
                      0.17,
                      0.21,
                      0.27,
                      0.18,
                      0.22,
                      0.28,
                      0.18,
                      0.22,
                      0.28,
                      0.035,
                      0.05,
                      0.075,
                      0.035,
                      0.05,
                      0.065,
                      0.035,
                      0.05,
                      0.075,
                      0.04,
                      0.055,
                      0.08,
                      0.065,
                      0.09,
                      0.135,
                      0.125,
                      0.15,
                      0.22,
                      0.125,
                      0.15,
                      0.22,
                      0.14,
                      0.17,
                      0.25,
                      0.14,
                      0.17,
                      0.25,
                      0.125,
                      0.16,
                      0.19,
                      0.125,
                      0.16,
                      0.19,
                      0.135,
                      0.16,
                      0.2,
                      0.04,
                      0.05,
                      0.065,
                      0.05,
                      0.06,
                      0.08,
                      0.04,
                      0.045,
                      0.06,
                      0.16,
                      0.2,
                      0.26,
                      0.16,
                      0.21,
                      0.26,
                      0.24,
                      0.3,
                      0.38,
                      0.21,
                      0.26,
                      0.18,
                      0.26,
                      0.12,
                      0.28,
                      0.38,
                      0.19,
                      0.4,
                      0.2
                    ]
                  ],
                  "x": [
                    "Total Fat",
                    "Saturated Fat",
                    "Carbohydrates",
                    "Sugars",
                    "Protein",
                    "Sodium"
                  ],
                  "type": "bar",
                  "error_y": {
                    "symmetric": false,
                    "array": [
                      [
                        57,
                        62,
                        47,
                        42,
                        47,
                        47,
                        44,
                        40,
                        50,
                        45,
                        43,
                        39,
                        37,
                        33,
                        43,
                        38,
                        50,
                        46,
                        38,
                        49,
                        55,
                        48,
                        39,
                        44,
                        39,
                        45,
                        35,
                        22,
                        18,
                        33,
                        29,
                        14,
                        10,
                        24,
                        20,
                        61,
                        46,
                        54,
                        61,
                        51,
                        66,
                        66,
                        43,
                        44,
                        41,
                        39,
                        43,
                        27,
                        62,
                        59,
                        49,
                        30,
                        53,
                        48,
                        48,
                        47,
                        44,
                        48,
                        61,
                        37,
                        50,
                        42,
                        55,
                        32,
                        45,
                        51,
                        54,
                        46,
                        49,
                        54,
                        38,
                        51,
                        39,
                        52,
                        37,
                        50,
                        47,
                        60,
                        58,
                        52,
                        40,
                        11,
                        -48,
                        51,
                        63,
                        49,
                        62,
                        65.5,
                        48,
                        62,
                        55,
                        62,
                        55,
                        62,
                        50,
                        57,
                        59,
                        54,
                        46,
                        65,
                        70,
                        70,
                        68,
                        57,
                        62,
                        64,
                        68.5,
                        61,
                        62,
                        64,
                        70,
                        70,
                        70,
                        70,
                        70,
                        70,
                        70,
                        70,
                        70,
                        70,
                        70,
                        70,
                        70,
                        70,
                        70,
                        70,
                        70,
                        70,
                        70,
                        70,
                        67.5,
                        70,
                        70,
                        70,
                        70,
                        70,
                        70,
                        70,
                        70,
                        70,
                        70,
                        70,
                        70,
                        70,
                        70,
                        70,
                        70,
                        70,
                        61,
                        60,
                        56,
                        61,
                        60,
                        56,
                        61,
                        60,
                        56,
                        61,
                        60,
                        56,
                        61,
                        60,
                        56,
                        70,
                        70,
                        69.5,
                        70,
                        70,
                        69.5,
                        70,
                        70,
                        69.5,
                        70,
                        70,
                        69.5,
                        70,
                        70,
                        69.5,
                        59,
                        56,
                        53,
                        66.5,
                        66.5,
                        66,
                        59,
                        56,
                        53,
                        66.5,
                        66.5,
                        66.5,
                        57,
                        54,
                        50,
                        66.5,
                        66.5,
                        66.5,
                        65.5,
                        63,
                        61,
                        65.5,
                        63,
                        61,
                        65.5,
                        63,
                        61,
                        65.5,
                        63,
                        61,
                        65.5,
                        63,
                        61,
                        59,
                        57,
                        54,
                        65,
                        65,
                        64,
                        59,
                        57,
                        54,
                        65,
                        65,
                        64,
                        52,
                        48,
                        44,
                        51,
                        47,
                        43,
                        47,
                        44,
                        39,
                        69.5,
                        69,
                        69,
                        69.5,
                        69,
                        69,
                        69.5,
                        69,
                        69,
                        55,
                        51,
                        47,
                        54,
                        50,
                        46,
                        54,
                        50,
                        47,
                        51,
                        47,
                        47,
                        37,
                        55,
                        53,
                        47,
                        59,
                        38,
                        54
                      ],
                      [
                        15,
                        17,
                        12,
                        10,
                        12,
                        11,
                        7,
                        6,
                        9,
                        8,
                        8,
                        7,
                        6,
                        5,
                        8,
                        7,
                        12,
                        11,
                        4,
                        11,
                        13,
                        12,
                        8,
                        10,
                        9,
                        11,
                        7,
                        3,
                        2,
                        6,
                        6,
                        1,
                        0,
                        4,
                        4,
                        18,
                        13,
                        13,
                        18.5,
                        11,
                        18.5,
                        18.5,
                        10,
                        8,
                        7,
                        7,
                        9,
                        1,
                        17,
                        15,
                        10,
                        5,
                        12,
                        10,
                        11,
                        11,
                        10,
                        16.5,
                        18,
                        11,
                        13,
                        14,
                        15.5,
                        10,
                        12,
                        17,
                        17,
                        13,
                        15,
                        17,
                        11,
                        13,
                        12,
                        14,
                        12,
                        14,
                        15.5,
                        17,
                        18,
                        17,
                        15,
                        10,
                        0,
                        16,
                        16.5,
                        14,
                        16,
                        18,
                        15.5,
                        17.5,
                        15.5,
                        16.5,
                        15.5,
                        16.5,
                        15,
                        15.5,
                        18.5,
                        17.5,
                        16.5,
                        19,
                        20,
                        20,
                        19,
                        13,
                        16.5,
                        17.5,
                        19,
                        13,
                        15,
                        16,
                        20,
                        20,
                        20,
                        20,
                        20,
                        20,
                        20,
                        20,
                        20,
                        20,
                        20,
                        20,
                        20,
                        20,
                        20,
                        20,
                        20,
                        20,
                        20,
                        20,
                        18.5,
                        20,
                        20,
                        20,
                        20,
                        20,
                        20,
                        20,
                        20,
                        20,
                        20,
                        20,
                        20,
                        20,
                        20,
                        20,
                        20,
                        20,
                        15,
                        14,
                        12,
                        15,
                        14,
                        12,
                        15,
                        14,
                        12,
                        15,
                        14,
                        12,
                        15,
                        14,
                        12,
                        20,
                        20,
                        20,
                        20,
                        20,
                        20,
                        20,
                        20,
                        20,
                        20,
                        20,
                        20,
                        20,
                        20,
                        20,
                        13,
                        12,
                        10,
                        18,
                        18,
                        17.5,
                        13,
                        12,
                        10,
                        18,
                        18,
                        17.5,
                        12,
                        11,
                        8,
                        18,
                        18,
                        17.5,
                        17,
                        15.5,
                        14,
                        17,
                        15.5,
                        14,
                        17,
                        15.5,
                        14,
                        17,
                        15.5,
                        14,
                        17,
                        15.5,
                        14,
                        13,
                        12,
                        10,
                        17,
                        16.5,
                        16.5,
                        13,
                        13,
                        10,
                        17,
                        17,
                        16.5,
                        8,
                        6,
                        3,
                        8,
                        5,
                        3,
                        6,
                        3,
                        0,
                        20,
                        20,
                        19.5,
                        20,
                        20,
                        19.5,
                        20,
                        20,
                        19.5,
                        10,
                        8,
                        5,
                        10,
                        7,
                        5,
                        10,
                        8,
                        5,
                        8,
                        5,
                        6,
                        0,
                        10,
                        11,
                        8,
                        14,
                        5,
                        12
                      ],
                      0,
                      [
                        97,
                        97,
                        98,
                        98,
                        98,
                        97,
                        97,
                        96,
                        97,
                        96,
                        98,
                        97,
                        98,
                        97,
                        97,
                        97,
                        97,
                        96,
                        97,
                        85,
                        84,
                        85,
                        85,
                        85,
                        93,
                        92,
                        93,
                        97,
                        97,
                        97,
                        96,
                        83,
                        83,
                        83,
                        82,
                        86,
                        86,
                        98,
                        100,
                        68,
                        68,
                        82,
                        91,
                        90,
                        88,
                        90,
                        91,
                        90,
                        94,
                        93,
                        93,
                        86,
                        93,
                        93,
                        93,
                        94,
                        89,
                        90,
                        92,
                        89,
                        91,
                        89,
                        91,
                        84,
                        86,
                        93,
                        95,
                        94,
                        94,
                        95,
                        93,
                        94,
                        92,
                        94,
                        88,
                        90,
                        86,
                        88,
                        100,
                        100,
                        100,
                        100,
                        99,
                        95,
                        96,
                        95,
                        96,
                        94,
                        88,
                        90,
                        92,
                        93,
                        97,
                        98,
                        97,
                        98,
                        100,
                        100,
                        100,
                        100,
                        98,
                        97,
                        77,
                        87,
                        85,
                        87,
                        94,
                        52,
                        57,
                        55,
                        61,
                        45,
                        24,
                        72,
                        100,
                        100,
                        100,
                        100,
                        65,
                        49,
                        30,
                        74,
                        100,
                        100,
                        100,
                        100,
                        63,
                        46,
                        26,
                        73,
                        88,
                        78,
                        81,
                        70,
                        61,
                        42,
                        100,
                        100,
                        100,
                        100,
                        100,
                        64,
                        55,
                        46,
                        73,
                        100,
                        100,
                        100,
                        88,
                        85,
                        80,
                        62,
                        52,
                        41,
                        62,
                        53,
                        42,
                        64,
                        55,
                        44,
                        88,
                        85,
                        80,
                        87,
                        84,
                        79,
                        61,
                        52,
                        41,
                        62,
                        52,
                        41,
                        63,
                        54,
                        44,
                        87,
                        84,
                        79,
                        58,
                        47,
                        37,
                        57,
                        47,
                        36,
                        60,
                        50,
                        40,
                        59,
                        49,
                        39,
                        55,
                        44,
                        32,
                        54,
                        43,
                        31,
                        78,
                        70,
                        55,
                        79,
                        72,
                        58,
                        80,
                        72,
                        59,
                        81,
                        74,
                        61,
                        99,
                        98,
                        98,
                        66,
                        57,
                        38,
                        65,
                        57,
                        38,
                        67,
                        59,
                        41,
                        67,
                        59,
                        41,
                        43,
                        29,
                        12,
                        43,
                        29,
                        12,
                        33,
                        19,
                        1,
                        56,
                        46,
                        30,
                        56,
                        46,
                        30,
                        54,
                        44,
                        28,
                        37,
                        19,
                        -1,
                        21,
                        0,
                        -23,
                        23,
                        3,
                        -20,
                        7,
                        -15,
                        11,
                        -28,
                        41,
                        36,
                        15,
                        57,
                        -3,
                        49
                      ],
                      [
                        38,
                        37,
                        41,
                        34,
                        34,
                        29,
                        36,
                        36,
                        35,
                        35,
                        44,
                        44,
                        37,
                        37,
                        37,
                        37,
                        38,
                        38,
                        30,
                        36,
                        35,
                        44,
                        35,
                        34,
                        25,
                        25,
                        22,
                        27,
                        27,
                        29,
                        29,
                        19,
                        19,
                        20,
                        20,
                        47,
                        40,
                        43,
                        54,
                        49,
                        50,
                        50,
                        31,
                        25,
                        18,
                        18,
                        26,
                        7,
                        43,
                        40,
                        31,
                        16,
                        33,
                        28,
                        33,
                        33,
                        33,
                        31,
                        27,
                        19,
                        15,
                        23,
                        19,
                        19,
                        15,
                        34,
                        41,
                        33,
                        35,
                        41,
                        23,
                        19,
                        28,
                        25,
                        28,
                        24,
                        32,
                        28,
                        46,
                        42,
                        33,
                        11,
                        -32,
                        40,
                        46,
                        30,
                        26,
                        49,
                        32,
                        28,
                        41,
                        39,
                        41,
                        39,
                        40,
                        39,
                        53,
                        51,
                        49,
                        54,
                        54,
                        55,
                        51,
                        53,
                        53,
                        53,
                        54,
                        47,
                        48,
                        49,
                        55,
                        55,
                        55,
                        55,
                        55,
                        55,
                        55,
                        55,
                        55,
                        55,
                        55,
                        55,
                        53,
                        52,
                        51,
                        54,
                        55,
                        55,
                        55,
                        55,
                        47,
                        46,
                        55,
                        53,
                        52,
                        51,
                        55,
                        55,
                        55,
                        55,
                        55,
                        54,
                        54,
                        54,
                        55,
                        55,
                        55,
                        55,
                        46,
                        44,
                        40,
                        46,
                        44,
                        40,
                        46,
                        44,
                        40,
                        46,
                        44,
                        40,
                        46,
                        43,
                        40,
                        45,
                        43,
                        39,
                        45,
                        43,
                        39,
                        45,
                        43,
                        39,
                        45,
                        43,
                        39,
                        45,
                        43,
                        39,
                        45,
                        42,
                        39,
                        44,
                        42,
                        38,
                        45,
                        43,
                        39,
                        45,
                        42,
                        38,
                        44,
                        41,
                        38,
                        43,
                        41,
                        36,
                        54,
                        54,
                        53,
                        54,
                        54,
                        53,
                        54,
                        54,
                        53,
                        54,
                        54,
                        53,
                        54,
                        54,
                        53,
                        47,
                        46,
                        41,
                        47,
                        45,
                        41,
                        47,
                        46,
                        42,
                        47,
                        45,
                        41,
                        48,
                        46,
                        44,
                        48,
                        46,
                        44,
                        47,
                        46,
                        43,
                        53,
                        52,
                        51,
                        52,
                        51,
                        50,
                        53,
                        52,
                        51,
                        44,
                        41,
                        37,
                        43,
                        40,
                        37,
                        43,
                        40,
                        36,
                        41,
                        37,
                        42,
                        35,
                        46,
                        43,
                        40,
                        47,
                        34,
                        45
                      ],
                      [
                        1.25,
                        1.23,
                        1.22,
                        1.1400000000000001,
                        1.12,
                        1.04,
                        0.7,
                        0.5900000000000001,
                        0.7,
                        0.5800000000000001,
                        0.9199999999999999,
                        0.81,
                        0.8300000000000001,
                        0.72,
                        0.8200000000000001,
                        0.71,
                        0.8200000000000001,
                        0.71,
                        0.53,
                        0.75,
                        0.75,
                        0.97,
                        0.6799999999999999,
                        0.6799999999999999,
                        0.52,
                        0.52,
                        0.49,
                        0.43999999999999995,
                        0.32000000000000006,
                        0.4099999999999999,
                        0.30000000000000004,
                        -0.1499999999999999,
                        -0.2599999999999998,
                        -0.16999999999999993,
                        -0.29000000000000004,
                        1.4100000000000001,
                        1.0699999999999998,
                        1.21,
                        1.69,
                        1.63,
                        1.84,
                        1.885,
                        1.04,
                        0.8999999999999999,
                        0.56,
                        0.8200000000000001,
                        1.04,
                        0.72,
                        1.52,
                        1.3199999999999998,
                        0.96,
                        0.53,
                        1.1600000000000001,
                        0.8899999999999999,
                        1.24,
                        0.97,
                        1.02,
                        1.01,
                        1.1800000000000002,
                        0.5900000000000001,
                        0.75,
                        0.6000000000000001,
                        0.77,
                        0.28,
                        0.43999999999999995,
                        1.0899999999999999,
                        1.2,
                        0.74,
                        0.74,
                        1.01,
                        0.45999999999999996,
                        0.6299999999999999,
                        0.6599999999999999,
                        0.8300000000000001,
                        0.52,
                        0.6799999999999999,
                        0.74,
                        0.9099999999999999,
                        1.6400000000000001,
                        1.46,
                        1.1,
                        0.19999999999999996,
                        -1.6,
                        1.4100000000000001,
                        1.7,
                        1.1400000000000001,
                        1.31,
                        1.85,
                        1.15,
                        1.3199999999999998,
                        1.22,
                        1.3,
                        1.27,
                        1.35,
                        1.19,
                        1.28,
                        1.87,
                        1.81,
                        1.71,
                        1.935,
                        1.99,
                        2,
                        1.93,
                        1.83,
                        1.91,
                        1.865,
                        1.98,
                        1.83,
                        1.85,
                        1.915,
                        2,
                        1.995,
                        1.995,
                        2,
                        1.99,
                        1.98,
                        1.965,
                        1.985,
                        1.955,
                        1.935,
                        1.91,
                        1.97,
                        1.93,
                        1.9,
                        1.8599999999999999,
                        1.95,
                        1.97,
                        1.955,
                        1.94,
                        1.975,
                        1.875,
                        1.865,
                        1.985,
                        2,
                        2,
                        1.995,
                        2,
                        1.99,
                        1.99,
                        1.985,
                        1.995,
                        1.99,
                        1.99,
                        1.99,
                        1.995,
                        2,
                        2,
                        2,
                        1.885,
                        1.8599999999999999,
                        1.82,
                        1.885,
                        1.8599999999999999,
                        1.82,
                        1.885,
                        1.8599999999999999,
                        1.82,
                        1.885,
                        1.8599999999999999,
                        1.81,
                        1.85,
                        1.81,
                        1.76,
                        1.89,
                        1.865,
                        1.82,
                        1.89,
                        1.865,
                        1.82,
                        1.89,
                        1.865,
                        1.82,
                        1.885,
                        1.8599999999999999,
                        1.82,
                        1.85,
                        1.82,
                        1.76,
                        1.85,
                        1.81,
                        1.76,
                        1.85,
                        1.81,
                        1.76,
                        1.83,
                        1.78,
                        1.73,
                        1.83,
                        1.79,
                        1.73,
                        1.82,
                        1.78,
                        1.72,
                        1.82,
                        1.78,
                        1.72,
                        1.965,
                        1.95,
                        1.925,
                        1.965,
                        1.95,
                        1.935,
                        1.965,
                        1.95,
                        1.925,
                        1.96,
                        1.945,
                        1.92,
                        1.935,
                        1.91,
                        1.865,
                        1.875,
                        1.85,
                        1.78,
                        1.875,
                        1.85,
                        1.78,
                        1.8599999999999999,
                        1.83,
                        1.75,
                        1.8599999999999999,
                        1.83,
                        1.75,
                        1.875,
                        1.84,
                        1.81,
                        1.875,
                        1.84,
                        1.81,
                        1.865,
                        1.84,
                        1.8,
                        1.96,
                        1.95,
                        1.935,
                        1.95,
                        1.94,
                        1.92,
                        1.96,
                        1.955,
                        1.94,
                        1.84,
                        1.8,
                        1.74,
                        1.84,
                        1.79,
                        1.74,
                        1.76,
                        1.7,
                        1.62,
                        1.79,
                        1.74,
                        1.82,
                        1.74,
                        1.88,
                        1.72,
                        1.62,
                        1.81,
                        1.6,
                        1.8
                      ]
                    ],
                    "type": "data",
                    "arrayminus": [
                      [
                        13,
                        8,
                        23,
                        28,
                        23,
                        23,
                        26,
                        30,
                        20,
                        25,
                        27,
                        31,
                        33,
                        37,
                        27,
                        32,
                        20,
                        24,
                        32,
                        21,
                        15,
                        22,
                        31,
                        26,
                        31,
                        25,
                        35,
                        48,
                        52,
                        37,
                        41,
                        56,
                        60,
                        46,
                        50,
                        9,
                        24,
                        16,
                        9,
                        19,
                        4,
                        4,
                        27,
                        26,
                        29,
                        31,
                        27,
                        43,
                        8,
                        11,
                        21,
                        40,
                        17,
                        22,
                        22,
                        23,
                        26,
                        22,
                        9,
                        33,
                        20,
                        28,
                        15,
                        38,
                        25,
                        19,
                        16,
                        24,
                        21,
                        16,
                        32,
                        19,
                        31,
                        18,
                        33,
                        20,
                        23,
                        10,
                        12,
                        18,
                        30,
                        59,
                        118,
                        19,
                        7,
                        21,
                        8,
                        4.5,
                        22,
                        8,
                        15,
                        8,
                        15,
                        8,
                        20,
                        13,
                        11,
                        16,
                        24,
                        5,
                        0,
                        0,
                        2,
                        13,
                        8,
                        6,
                        1.5,
                        9,
                        8,
                        6,
                        0,
                        0,
                        0,
                        0,
                        0,
                        0,
                        0,
                        0,
                        0,
                        0,
                        0,
                        0,
                        0,
                        0,
                        0,
                        0,
                        0,
                        0,
                        0,
                        0,
                        2.5,
                        0,
                        0,
                        0,
                        0,
                        0,
                        0,
                        0,
                        0,
                        0,
                        0,
                        0,
                        0,
                        0,
                        0,
                        0,
                        0,
                        0,
                        9,
                        10,
                        14,
                        9,
                        10,
                        14,
                        9,
                        10,
                        14,
                        9,
                        10,
                        14,
                        9,
                        10,
                        14,
                        0,
                        0,
                        0.5,
                        0,
                        0,
                        0.5,
                        0,
                        0,
                        0.5,
                        0,
                        0,
                        0.5,
                        0,
                        0,
                        0.5,
                        11,
                        14,
                        17,
                        3.5,
                        3.5,
                        4,
                        11,
                        14,
                        17,
                        3.5,
                        3.5,
                        3.5,
                        13,
                        16,
                        20,
                        3.5,
                        3.5,
                        3.5,
                        4.5,
                        7,
                        9,
                        4.5,
                        7,
                        9,
                        4.5,
                        7,
                        9,
                        4.5,
                        7,
                        9,
                        4.5,
                        7,
                        9,
                        11,
                        13,
                        16,
                        5,
                        5,
                        6,
                        11,
                        13,
                        16,
                        5,
                        5,
                        6,
                        18,
                        22,
                        26,
                        19,
                        23,
                        27,
                        23,
                        26,
                        31,
                        0.5,
                        1,
                        1,
                        0.5,
                        1,
                        1,
                        0.5,
                        1,
                        1,
                        15,
                        19,
                        23,
                        16,
                        20,
                        24,
                        16,
                        20,
                        23,
                        19,
                        23,
                        23,
                        33,
                        15,
                        17,
                        23,
                        11,
                        32,
                        16
                      ],
                      [
                        5,
                        3,
                        8,
                        10,
                        8,
                        9,
                        13,
                        14,
                        11,
                        12,
                        12,
                        13,
                        14,
                        15,
                        12,
                        13,
                        8,
                        9,
                        16,
                        9,
                        7,
                        8,
                        12,
                        10,
                        11,
                        9,
                        13,
                        17,
                        18,
                        14,
                        14,
                        19,
                        20,
                        16,
                        16,
                        2,
                        7,
                        7,
                        1.5,
                        9,
                        1.5,
                        1.5,
                        10,
                        12,
                        13,
                        13,
                        11,
                        19,
                        3,
                        5,
                        10,
                        15,
                        8,
                        10,
                        9,
                        9,
                        10,
                        3.5,
                        2,
                        9,
                        7,
                        6,
                        4.5,
                        10,
                        8,
                        3,
                        3,
                        7,
                        5,
                        3,
                        9,
                        7,
                        8,
                        6,
                        8,
                        6,
                        4.5,
                        3,
                        2,
                        3,
                        5,
                        10,
                        20,
                        4,
                        3.5,
                        6,
                        4,
                        2,
                        4.5,
                        2.5,
                        4.5,
                        3.5,
                        4.5,
                        3.5,
                        5,
                        4.5,
                        1.5,
                        2.5,
                        3.5,
                        1,
                        0,
                        0,
                        1,
                        7,
                        3.5,
                        2.5,
                        1,
                        7,
                        5,
                        4,
                        0,
                        0,
                        0,
                        0,
                        0,
                        0,
                        0,
                        0,
                        0,
                        0,
                        0,
                        0,
                        0,
                        0,
                        0,
                        0,
                        0,
                        0,
                        0,
                        0,
                        1.5,
                        0,
                        0,
                        0,
                        0,
                        0,
                        0,
                        0,
                        0,
                        0,
                        0,
                        0,
                        0,
                        0,
                        0,
                        0,
                        0,
                        0,
                        5,
                        6,
                        8,
                        5,
                        6,
                        8,
                        5,
                        6,
                        8,
                        5,
                        6,
                        8,
                        5,
                        6,
                        8,
                        0,
                        0,
                        0,
                        0,
                        0,
                        0,
                        0,
                        0,
                        0,
                        0,
                        0,
                        0,
                        0,
                        0,
                        0,
                        7,
                        8,
                        10,
                        2,
                        2,
                        2.5,
                        7,
                        8,
                        10,
                        2,
                        2,
                        2.5,
                        8,
                        9,
                        12,
                        2,
                        2,
                        2.5,
                        3,
                        4.5,
                        6,
                        3,
                        4.5,
                        6,
                        3,
                        4.5,
                        6,
                        3,
                        4.5,
                        6,
                        3,
                        4.5,
                        6,
                        7,
                        8,
                        10,
                        3,
                        3.5,
                        3.5,
                        7,
                        7,
                        10,
                        3,
                        3,
                        3.5,
                        12,
                        14,
                        17,
                        12,
                        15,
                        17,
                        14,
                        17,
                        20,
                        0,
                        0,
                        0.5,
                        0,
                        0,
                        0.5,
                        0,
                        0,
                        0.5,
                        10,
                        12,
                        15,
                        10,
                        13,
                        15,
                        10,
                        12,
                        15,
                        12,
                        15,
                        14,
                        20,
                        10,
                        9,
                        12,
                        6,
                        15,
                        8
                      ],
                      [
                        -229,
                        -230,
                        -231,
                        -230,
                        -230,
                        -229,
                        -222,
                        -217,
                        -224,
                        -218,
                        -226,
                        -221,
                        -224,
                        -218,
                        -226,
                        -220,
                        -219,
                        -214,
                        -222,
                        -212,
                        -213,
                        -216,
                        -212,
                        -214,
                        -203,
                        -205,
                        -204,
                        -209,
                        -204,
                        -210,
                        -205,
                        -149,
                        -144,
                        -150,
                        -145,
                        -200,
                        -199,
                        -234,
                        -245,
                        -194,
                        -202,
                        -211,
                        -213,
                        -219,
                        -212,
                        -214,
                        -215,
                        -218,
                        -228,
                        -227,
                        -225,
                        -209,
                        -226,
                        -225,
                        -226,
                        -225,
                        -216,
                        -205,
                        -218,
                        -202,
                        -216,
                        -203,
                        -217,
                        -195,
                        -209,
                        -217,
                        -220,
                        -217,
                        -219,
                        -220,
                        -204,
                        -218,
                        -204,
                        -218,
                        -192,
                        -205,
                        -199,
                        -213,
                        -248,
                        -242,
                        -230,
                        -201,
                        -142,
                        -221,
                        -250,
                        -238,
                        -252,
                        -240,
                        -218,
                        -232,
                        -223,
                        -230,
                        -226,
                        -233,
                        -228,
                        -235,
                        -230,
                        -216,
                        -193,
                        -245,
                        -256,
                        -256,
                        -230,
                        -228,
                        -239,
                        -238,
                        -253,
                        -207,
                        -200,
                        -211,
                        -221,
                        -205,
                        -184,
                        -232,
                        -260,
                        -260,
                        -260,
                        -260,
                        -223,
                        -207,
                        -188,
                        -233,
                        -260,
                        -260,
                        -260,
                        -260,
                        -223,
                        -206,
                        -186,
                        -233,
                        -248,
                        -237,
                        -239,
                        -226,
                        -216,
                        -195,
                        -260,
                        -260,
                        -260,
                        -260,
                        -260,
                        -224,
                        -215,
                        -206,
                        -233,
                        -260,
                        -260,
                        -260,
                        -245,
                        -242,
                        -236,
                        -220,
                        -210,
                        -198,
                        -220,
                        -210,
                        -198,
                        -222,
                        -212,
                        -200,
                        -236,
                        -231,
                        -223,
                        -245,
                        -241,
                        -235,
                        -219,
                        -209,
                        -197,
                        -220,
                        -209,
                        -197,
                        -221,
                        -211,
                        -200,
                        -236,
                        -230,
                        -222,
                        -211,
                        -200,
                        -188,
                        -211,
                        -200,
                        -187,
                        -215,
                        -205,
                        -194,
                        -215,
                        -204,
                        -193,
                        -210,
                        -199,
                        -187,
                        -210,
                        -199,
                        -186,
                        -237,
                        -229,
                        -213,
                        -238,
                        -231,
                        -217,
                        -239,
                        -231,
                        -217,
                        -240,
                        -233,
                        -219,
                        -251,
                        -248,
                        -242,
                        -219,
                        -210,
                        -190,
                        -219,
                        -210,
                        -189,
                        -222,
                        -214,
                        -195,
                        -222,
                        -213,
                        -195,
                        -195,
                        -180,
                        -162,
                        -196,
                        -181,
                        -164,
                        -184,
                        -169,
                        -149,
                        -210,
                        -198,
                        -181,
                        -213,
                        -202,
                        -186,
                        -210,
                        -199,
                        -182,
                        -174,
                        -151,
                        -125,
                        -170,
                        -146,
                        -120,
                        -169,
                        -146,
                        -119,
                        -151,
                        -125,
                        -164,
                        -121,
                        -196,
                        -180,
                        -154,
                        -207,
                        -146,
                        -203
                      ],
                      [
                        -77,
                        -77,
                        -78,
                        -78,
                        -78,
                        -77,
                        -77,
                        -76,
                        -77,
                        -76,
                        -78,
                        -77,
                        -78,
                        -77,
                        -77,
                        -77,
                        -77,
                        -76,
                        -77,
                        -65,
                        -64,
                        -65,
                        -65,
                        -65,
                        -73,
                        -72,
                        -73,
                        -77,
                        -77,
                        -77,
                        -76,
                        -63,
                        -63,
                        -63,
                        -62,
                        -66,
                        -66,
                        -78,
                        -80,
                        -48,
                        -48,
                        -62,
                        -71,
                        -70,
                        -68,
                        -70,
                        -71,
                        -70,
                        -74,
                        -73,
                        -73,
                        -66,
                        -73,
                        -73,
                        -73,
                        -74,
                        -69,
                        -70,
                        -72,
                        -69,
                        -71,
                        -69,
                        -71,
                        -64,
                        -66,
                        -73,
                        -75,
                        -74,
                        -74,
                        -75,
                        -73,
                        -74,
                        -72,
                        -74,
                        -68,
                        -70,
                        -66,
                        -68,
                        -80,
                        -80,
                        -80,
                        -80,
                        -79,
                        -75,
                        -76,
                        -75,
                        -76,
                        -74,
                        -68,
                        -70,
                        -72,
                        -73,
                        -77,
                        -78,
                        -77,
                        -78,
                        -80,
                        -80,
                        -80,
                        -80,
                        -78,
                        -77,
                        -57,
                        -67,
                        -65,
                        -67,
                        -74,
                        -32,
                        -37,
                        -35,
                        -41,
                        -25,
                        -4,
                        -52,
                        -80,
                        -80,
                        -80,
                        -80,
                        -45,
                        -29,
                        -10,
                        -54,
                        -80,
                        -80,
                        -80,
                        -80,
                        -43,
                        -26,
                        -6,
                        -53,
                        -68,
                        -58,
                        -61,
                        -50,
                        -41,
                        -22,
                        -80,
                        -80,
                        -80,
                        -80,
                        -80,
                        -44,
                        -35,
                        -26,
                        -53,
                        -80,
                        -80,
                        -80,
                        -68,
                        -65,
                        -60,
                        -42,
                        -32,
                        -21,
                        -42,
                        -33,
                        -22,
                        -44,
                        -35,
                        -24,
                        -68,
                        -65,
                        -60,
                        -67,
                        -64,
                        -59,
                        -41,
                        -32,
                        -21,
                        -42,
                        -32,
                        -21,
                        -43,
                        -34,
                        -24,
                        -67,
                        -64,
                        -59,
                        -38,
                        -27,
                        -17,
                        -37,
                        -27,
                        -16,
                        -40,
                        -30,
                        -20,
                        -39,
                        -29,
                        -19,
                        -35,
                        -24,
                        -12,
                        -34,
                        -23,
                        -11,
                        -58,
                        -50,
                        -35,
                        -59,
                        -52,
                        -38,
                        -60,
                        -52,
                        -39,
                        -61,
                        -54,
                        -41,
                        -79,
                        -78,
                        -78,
                        -46,
                        -37,
                        -18,
                        -45,
                        -37,
                        -18,
                        -47,
                        -39,
                        -21,
                        -47,
                        -39,
                        -21,
                        -23,
                        -9,
                        8,
                        -23,
                        -9,
                        8,
                        -13,
                        1,
                        19,
                        -36,
                        -26,
                        -10,
                        -36,
                        -26,
                        -10,
                        -34,
                        -24,
                        -8,
                        -17,
                        1,
                        21,
                        -1,
                        20,
                        43,
                        -3,
                        17,
                        40,
                        13,
                        35,
                        9,
                        48,
                        -21,
                        -16,
                        5,
                        -37,
                        23,
                        -29
                      ],
                      [
                        -28,
                        -27,
                        -31,
                        -24,
                        -24,
                        -19,
                        -26,
                        -26,
                        -25,
                        -25,
                        -34,
                        -34,
                        -27,
                        -27,
                        -27,
                        -27,
                        -28,
                        -28,
                        -20,
                        -26,
                        -25,
                        -34,
                        -25,
                        -24,
                        -15,
                        -15,
                        -12,
                        -17,
                        -17,
                        -19,
                        -19,
                        -9,
                        -9,
                        -10,
                        -10,
                        -37,
                        -30,
                        -33,
                        -44,
                        -39,
                        -40,
                        -40,
                        -21,
                        -15,
                        -8,
                        -8,
                        -16,
                        3,
                        -33,
                        -30,
                        -21,
                        -6,
                        -23,
                        -18,
                        -23,
                        -23,
                        -23,
                        -21,
                        -17,
                        -9,
                        -5,
                        -13,
                        -9,
                        -9,
                        -5,
                        -24,
                        -31,
                        -23,
                        -25,
                        -31,
                        -13,
                        -9,
                        -18,
                        -15,
                        -18,
                        -14,
                        -22,
                        -18,
                        -36,
                        -32,
                        -23,
                        -1,
                        42,
                        -30,
                        -36,
                        -20,
                        -16,
                        -39,
                        -22,
                        -18,
                        -31,
                        -29,
                        -31,
                        -29,
                        -30,
                        -29,
                        -43,
                        -41,
                        -39,
                        -44,
                        -44,
                        -45,
                        -41,
                        -43,
                        -43,
                        -43,
                        -44,
                        -37,
                        -38,
                        -39,
                        -45,
                        -45,
                        -45,
                        -45,
                        -45,
                        -45,
                        -45,
                        -45,
                        -45,
                        -45,
                        -45,
                        -45,
                        -43,
                        -42,
                        -41,
                        -44,
                        -45,
                        -45,
                        -45,
                        -45,
                        -37,
                        -36,
                        -45,
                        -43,
                        -42,
                        -41,
                        -45,
                        -45,
                        -45,
                        -45,
                        -45,
                        -44,
                        -44,
                        -44,
                        -45,
                        -45,
                        -45,
                        -45,
                        -36,
                        -34,
                        -30,
                        -36,
                        -34,
                        -30,
                        -36,
                        -34,
                        -30,
                        -36,
                        -34,
                        -30,
                        -36,
                        -33,
                        -30,
                        -35,
                        -33,
                        -29,
                        -35,
                        -33,
                        -29,
                        -35,
                        -33,
                        -29,
                        -35,
                        -33,
                        -29,
                        -35,
                        -33,
                        -29,
                        -35,
                        -32,
                        -29,
                        -34,
                        -32,
                        -28,
                        -35,
                        -33,
                        -29,
                        -35,
                        -32,
                        -28,
                        -34,
                        -31,
                        -28,
                        -33,
                        -31,
                        -26,
                        -44,
                        -44,
                        -43,
                        -44,
                        -44,
                        -43,
                        -44,
                        -44,
                        -43,
                        -44,
                        -44,
                        -43,
                        -44,
                        -44,
                        -43,
                        -37,
                        -36,
                        -31,
                        -37,
                        -35,
                        -31,
                        -37,
                        -36,
                        -32,
                        -37,
                        -35,
                        -31,
                        -38,
                        -36,
                        -34,
                        -38,
                        -36,
                        -34,
                        -37,
                        -36,
                        -33,
                        -43,
                        -42,
                        -41,
                        -42,
                        -41,
                        -40,
                        -43,
                        -42,
                        -41,
                        -34,
                        -31,
                        -27,
                        -33,
                        -30,
                        -27,
                        -33,
                        -30,
                        -26,
                        -31,
                        -27,
                        -32,
                        -25,
                        -36,
                        -33,
                        -30,
                        -37,
                        -24,
                        -35
                      ],
                      [
                        0.75,
                        0.77,
                        0.78,
                        0.86,
                        0.88,
                        0.96,
                        1.3,
                        1.41,
                        1.3,
                        1.42,
                        1.08,
                        1.19,
                        1.17,
                        1.28,
                        1.18,
                        1.29,
                        1.18,
                        1.29,
                        1.47,
                        1.25,
                        1.25,
                        1.03,
                        1.32,
                        1.32,
                        1.48,
                        1.48,
                        1.51,
                        1.56,
                        1.68,
                        1.59,
                        1.7,
                        2.15,
                        2.26,
                        2.17,
                        2.29,
                        0.59,
                        0.93,
                        0.79,
                        0.31,
                        0.37,
                        0.16,
                        0.115,
                        0.96,
                        1.1,
                        1.44,
                        1.18,
                        0.96,
                        1.28,
                        0.48,
                        0.68,
                        1.04,
                        1.47,
                        0.84,
                        1.11,
                        0.76,
                        1.03,
                        0.98,
                        0.99,
                        0.82,
                        1.41,
                        1.25,
                        1.4,
                        1.23,
                        1.72,
                        1.56,
                        0.91,
                        0.8,
                        1.26,
                        1.26,
                        0.99,
                        1.54,
                        1.37,
                        1.34,
                        1.17,
                        1.48,
                        1.32,
                        1.26,
                        1.09,
                        0.36,
                        0.54,
                        0.9,
                        1.8,
                        3.6,
                        0.59,
                        0.3,
                        0.86,
                        0.69,
                        0.15,
                        0.85,
                        0.68,
                        0.78,
                        0.7,
                        0.73,
                        0.65,
                        0.81,
                        0.72,
                        0.13,
                        0.19,
                        0.29,
                        0.065,
                        0.01,
                        0,
                        0.07,
                        0.17,
                        0.09,
                        0.135,
                        0.02,
                        0.17,
                        0.15,
                        0.085,
                        0,
                        0.005,
                        0.005,
                        0,
                        0.01,
                        0.02,
                        0.035,
                        0.015,
                        0.045,
                        0.065,
                        0.09,
                        0.03,
                        0.07,
                        0.1,
                        0.14,
                        0.05,
                        0.03,
                        0.045,
                        0.06,
                        0.025,
                        0.125,
                        0.135,
                        0.015,
                        0,
                        0,
                        0.005,
                        0,
                        0.01,
                        0.01,
                        0.015,
                        0.005,
                        0.01,
                        0.01,
                        0.01,
                        0.005,
                        0,
                        0,
                        0,
                        0.115,
                        0.14,
                        0.18,
                        0.115,
                        0.14,
                        0.18,
                        0.115,
                        0.14,
                        0.18,
                        0.115,
                        0.14,
                        0.19,
                        0.15,
                        0.19,
                        0.24,
                        0.11,
                        0.135,
                        0.18,
                        0.11,
                        0.135,
                        0.18,
                        0.11,
                        0.135,
                        0.18,
                        0.115,
                        0.14,
                        0.18,
                        0.15,
                        0.18,
                        0.24,
                        0.15,
                        0.19,
                        0.24,
                        0.15,
                        0.19,
                        0.24,
                        0.17,
                        0.22,
                        0.27,
                        0.17,
                        0.21,
                        0.27,
                        0.18,
                        0.22,
                        0.28,
                        0.18,
                        0.22,
                        0.28,
                        0.035,
                        0.05,
                        0.075,
                        0.035,
                        0.05,
                        0.065,
                        0.035,
                        0.05,
                        0.075,
                        0.04,
                        0.055,
                        0.08,
                        0.065,
                        0.09,
                        0.135,
                        0.125,
                        0.15,
                        0.22,
                        0.125,
                        0.15,
                        0.22,
                        0.14,
                        0.17,
                        0.25,
                        0.14,
                        0.17,
                        0.25,
                        0.125,
                        0.16,
                        0.19,
                        0.125,
                        0.16,
                        0.19,
                        0.135,
                        0.16,
                        0.2,
                        0.04,
                        0.05,
                        0.065,
                        0.05,
                        0.06,
                        0.08,
                        0.04,
                        0.045,
                        0.06,
                        0.16,
                        0.2,
                        0.26,
                        0.16,
                        0.21,
                        0.26,
                        0.24,
                        0.3,
                        0.38,
                        0.21,
                        0.26,
                        0.18,
                        0.26,
                        0.12,
                        0.28,
                        0.38,
                        0.19,
                        0.4,
                        0.2
                      ]
                    ]
                  },
                  "name": "Nutrition"
                }
              ],
              "config": {
                "plotlyServerURL": "https://plot.ly",
                "linkText": "Export to plot.ly",
                "showLink": false
              },
              "layout": {
                "barmode": "group",
                "template": {
                  "layout": {
                    "shapedefaults": {
                      "line": {
                        "color": "#2a3f5f"
                      }
                    },
                    "polar": {
                      "radialaxis": {
                        "ticks": "",
                        "gridcolor": "white",
                        "linecolor": "white"
                      },
                      "bgcolor": "#E5ECF6",
                      "angularaxis": {
                        "ticks": "",
                        "gridcolor": "white",
                        "linecolor": "white"
                      }
                    },
                    "colorway": [
                      "#636efa",
                      "#EF553B",
                      "#00cc96",
                      "#ab63fa",
                      "#FFA15A",
                      "#19d3f3",
                      "#FF6692",
                      "#B6E880",
                      "#FF97FF",
                      "#FECB52"
                    ],
                    "xaxis": {
                      "automargin": true,
                      "title": {
                        "standoff": 15
                      },
                      "zerolinewidth": 2,
                      "ticks": "",
                      "zerolinecolor": "white",
                      "gridcolor": "white",
                      "linecolor": "white"
                    },
                    "colorscale": {
                      "diverging": [
                        [
                          0,
                          "#8e0152"
                        ],
                        [
                          0.1,
                          "#c51b7d"
                        ],
                        [
                          0.2,
                          "#de77ae"
                        ],
                        [
                          0.3,
                          "#f1b6da"
                        ],
                        [
                          0.4,
                          "#fde0ef"
                        ],
                        [
                          0.5,
                          "#f7f7f7"
                        ],
                        [
                          0.6,
                          "#e6f5d0"
                        ],
                        [
                          0.7,
                          "#b8e186"
                        ],
                        [
                          0.8,
                          "#7fbc41"
                        ],
                        [
                          0.9,
                          "#4d9221"
                        ],
                        [
                          1,
                          "#276419"
                        ]
                      ],
                      "sequential": [
                        [
                          0,
                          "#0d0887"
                        ],
                        [
                          0.1111111111111111,
                          "#46039f"
                        ],
                        [
                          0.2222222222222222,
                          "#7201a8"
                        ],
                        [
                          0.3333333333333333,
                          "#9c179e"
                        ],
                        [
                          0.4444444444444444,
                          "#bd3786"
                        ],
                        [
                          0.5555555555555556,
                          "#d8576b"
                        ],
                        [
                          0.6666666666666666,
                          "#ed7953"
                        ],
                        [
                          0.7777777777777778,
                          "#fb9f3a"
                        ],
                        [
                          0.8888888888888888,
                          "#fdca26"
                        ],
                        [
                          1,
                          "#f0f921"
                        ]
                      ],
                      "sequentialminus": [
                        [
                          0,
                          "#0d0887"
                        ],
                        [
                          0.1111111111111111,
                          "#46039f"
                        ],
                        [
                          0.2222222222222222,
                          "#7201a8"
                        ],
                        [
                          0.3333333333333333,
                          "#9c179e"
                        ],
                        [
                          0.4444444444444444,
                          "#bd3786"
                        ],
                        [
                          0.5555555555555556,
                          "#d8576b"
                        ],
                        [
                          0.6666666666666666,
                          "#ed7953"
                        ],
                        [
                          0.7777777777777778,
                          "#fb9f3a"
                        ],
                        [
                          0.8888888888888888,
                          "#fdca26"
                        ],
                        [
                          1,
                          "#f0f921"
                        ]
                      ]
                    },
                    "paper_bgcolor": "white",
                    "plot_bgcolor": "#E5ECF6",
                    "title": {
                      "x": 0.05
                    },
                    "scene": {
                      "zaxis": {
                        "backgroundcolor": "#E5ECF6",
                        "ticks": "",
                        "gridwidth": 2,
                        "showbackground": true,
                        "zerolinecolor": "white",
                        "gridcolor": "white",
                        "linecolor": "white"
                      },
                      "xaxis": {
                        "backgroundcolor": "#E5ECF6",
                        "ticks": "",
                        "gridwidth": 2,
                        "showbackground": true,
                        "zerolinecolor": "white",
                        "gridcolor": "white",
                        "linecolor": "white"
                      },
                      "yaxis": {
                        "backgroundcolor": "#E5ECF6",
                        "ticks": "",
                        "gridwidth": 2,
                        "showbackground": true,
                        "zerolinecolor": "white",
                        "gridcolor": "white",
                        "linecolor": "white"
                      }
                    },
                    "yaxis": {
                      "automargin": true,
                      "title": {
                        "standoff": 15
                      },
                      "zerolinewidth": 2,
                      "ticks": "",
                      "zerolinecolor": "white",
                      "gridcolor": "white",
                      "linecolor": "white"
                    },
                    "annotationdefaults": {
                      "arrowwidth": 1,
                      "arrowhead": 0,
                      "arrowcolor": "#2a3f5f"
                    },
                    "hoverlabel": {
                      "align": "left"
                    },
                    "ternary": {
                      "bgcolor": "#E5ECF6",
                      "baxis": {
                        "ticks": "",
                        "gridcolor": "white",
                        "linecolor": "white"
                      },
                      "caxis": {
                        "ticks": "",
                        "gridcolor": "white",
                        "linecolor": "white"
                      },
                      "aaxis": {
                        "ticks": "",
                        "gridcolor": "white",
                        "linecolor": "white"
                      }
                    },
                    "mapbox": {
                      "style": "light"
                    },
                    "hovermode": "closest",
                    "font": {
                      "color": "#2a3f5f"
                    },
                    "geo": {
                      "showland": true,
                      "landcolor": "#E5ECF6",
                      "showlakes": true,
                      "bgcolor": "white",
                      "subunitcolor": "white",
                      "lakecolor": "white"
                    },
                    "coloraxis": {
                      "colorbar": {
                        "outlinewidth": 0,
                        "ticks": ""
                      }
                    }
                  },
                  "data": {
                    "mesh3d": [
                      {
                        "colorbar": {
                          "outlinewidth": 0,
                          "ticks": ""
                        },
                        "type": "mesh3d"
                      }
                    ],
                    "scattercarpet": [
                      {
                        "marker": {
                          "colorbar": {
                            "outlinewidth": 0,
                            "ticks": ""
                          }
                        },
                        "type": "scattercarpet"
                      }
                    ],
                    "pie": [
                      {
                        "automargin": true,
                        "type": "pie"
                      }
                    ],
                    "surface": [
                      {
                        "colorbar": {
                          "outlinewidth": 0,
                          "ticks": ""
                        },
                        "type": "surface",
                        "colorscale": [
                          [
                            0,
                            "#0d0887"
                          ],
                          [
                            0.1111111111111111,
                            "#46039f"
                          ],
                          [
                            0.2222222222222222,
                            "#7201a8"
                          ],
                          [
                            0.3333333333333333,
                            "#9c179e"
                          ],
                          [
                            0.4444444444444444,
                            "#bd3786"
                          ],
                          [
                            0.5555555555555556,
                            "#d8576b"
                          ],
                          [
                            0.6666666666666666,
                            "#ed7953"
                          ],
                          [
                            0.7777777777777778,
                            "#fb9f3a"
                          ],
                          [
                            0.8888888888888888,
                            "#fdca26"
                          ],
                          [
                            1,
                            "#f0f921"
                          ]
                        ]
                      }
                    ],
                    "table": [
                      {
                        "header": {
                          "line": {
                            "color": "white"
                          },
                          "fill": {
                            "color": "#C8D4E3"
                          }
                        },
                        "cells": {
                          "line": {
                            "color": "white"
                          },
                          "fill": {
                            "color": "#EBF0F8"
                          }
                        },
                        "type": "table"
                      }
                    ],
                    "scatterpolargl": [
                      {
                        "marker": {
                          "colorbar": {
                            "outlinewidth": 0,
                            "ticks": ""
                          }
                        },
                        "type": "scatterpolargl"
                      }
                    ],
                    "contour": [
                      {
                        "colorbar": {
                          "outlinewidth": 0,
                          "ticks": ""
                        },
                        "type": "contour",
                        "colorscale": [
                          [
                            0,
                            "#0d0887"
                          ],
                          [
                            0.1111111111111111,
                            "#46039f"
                          ],
                          [
                            0.2222222222222222,
                            "#7201a8"
                          ],
                          [
                            0.3333333333333333,
                            "#9c179e"
                          ],
                          [
                            0.4444444444444444,
                            "#bd3786"
                          ],
                          [
                            0.5555555555555556,
                            "#d8576b"
                          ],
                          [
                            0.6666666666666666,
                            "#ed7953"
                          ],
                          [
                            0.7777777777777778,
                            "#fb9f3a"
                          ],
                          [
                            0.8888888888888888,
                            "#fdca26"
                          ],
                          [
                            1,
                            "#f0f921"
                          ]
                        ]
                      }
                    ],
                    "carpet": [
                      {
                        "type": "carpet",
                        "baxis": {
                          "minorgridcolor": "white",
                          "gridcolor": "white",
                          "linecolor": "white",
                          "endlinecolor": "#2a3f5f",
                          "startlinecolor": "#2a3f5f"
                        },
                        "aaxis": {
                          "minorgridcolor": "white",
                          "gridcolor": "white",
                          "linecolor": "white",
                          "endlinecolor": "#2a3f5f",
                          "startlinecolor": "#2a3f5f"
                        }
                      }
                    ],
                    "contourcarpet": [
                      {
                        "colorbar": {
                          "outlinewidth": 0,
                          "ticks": ""
                        },
                        "type": "contourcarpet"
                      }
                    ],
                    "heatmap": [
                      {
                        "colorbar": {
                          "outlinewidth": 0,
                          "ticks": ""
                        },
                        "type": "heatmap",
                        "colorscale": [
                          [
                            0,
                            "#0d0887"
                          ],
                          [
                            0.1111111111111111,
                            "#46039f"
                          ],
                          [
                            0.2222222222222222,
                            "#7201a8"
                          ],
                          [
                            0.3333333333333333,
                            "#9c179e"
                          ],
                          [
                            0.4444444444444444,
                            "#bd3786"
                          ],
                          [
                            0.5555555555555556,
                            "#d8576b"
                          ],
                          [
                            0.6666666666666666,
                            "#ed7953"
                          ],
                          [
                            0.7777777777777778,
                            "#fb9f3a"
                          ],
                          [
                            0.8888888888888888,
                            "#fdca26"
                          ],
                          [
                            1,
                            "#f0f921"
                          ]
                        ]
                      }
                    ],
                    "scattermapbox": [
                      {
                        "marker": {
                          "colorbar": {
                            "outlinewidth": 0,
                            "ticks": ""
                          }
                        },
                        "type": "scattermapbox"
                      }
                    ],
                    "scatter3d": [
                      {
                        "marker": {
                          "colorbar": {
                            "outlinewidth": 0,
                            "ticks": ""
                          }
                        },
                        "line": {
                          "colorbar": {
                            "outlinewidth": 0,
                            "ticks": ""
                          }
                        },
                        "type": "scatter3d"
                      }
                    ],
                    "scattergl": [
                      {
                        "marker": {
                          "colorbar": {
                            "outlinewidth": 0,
                            "ticks": ""
                          }
                        },
                        "type": "scattergl"
                      }
                    ],
                    "scatterternary": [
                      {
                        "marker": {
                          "colorbar": {
                            "outlinewidth": 0,
                            "ticks": ""
                          }
                        },
                        "type": "scatterternary"
                      }
                    ],
                    "histogram": [
                      {
                        "marker": {
                          "colorbar": {
                            "outlinewidth": 0,
                            "ticks": ""
                          }
                        },
                        "type": "histogram"
                      }
                    ],
                    "heatmapgl": [
                      {
                        "colorbar": {
                          "outlinewidth": 0,
                          "ticks": ""
                        },
                        "type": "heatmapgl",
                        "colorscale": [
                          [
                            0,
                            "#0d0887"
                          ],
                          [
                            0.1111111111111111,
                            "#46039f"
                          ],
                          [
                            0.2222222222222222,
                            "#7201a8"
                          ],
                          [
                            0.3333333333333333,
                            "#9c179e"
                          ],
                          [
                            0.4444444444444444,
                            "#bd3786"
                          ],
                          [
                            0.5555555555555556,
                            "#d8576b"
                          ],
                          [
                            0.6666666666666666,
                            "#ed7953"
                          ],
                          [
                            0.7777777777777778,
                            "#fb9f3a"
                          ],
                          [
                            0.8888888888888888,
                            "#fdca26"
                          ],
                          [
                            1,
                            "#f0f921"
                          ]
                        ]
                      }
                    ],
                    "scatterpolar": [
                      {
                        "marker": {
                          "colorbar": {
                            "outlinewidth": 0,
                            "ticks": ""
                          }
                        },
                        "type": "scatterpolar"
                      }
                    ],
                    "histogram2d": [
                      {
                        "colorbar": {
                          "outlinewidth": 0,
                          "ticks": ""
                        },
                        "type": "histogram2d",
                        "colorscale": [
                          [
                            0,
                            "#0d0887"
                          ],
                          [
                            0.1111111111111111,
                            "#46039f"
                          ],
                          [
                            0.2222222222222222,
                            "#7201a8"
                          ],
                          [
                            0.3333333333333333,
                            "#9c179e"
                          ],
                          [
                            0.4444444444444444,
                            "#bd3786"
                          ],
                          [
                            0.5555555555555556,
                            "#d8576b"
                          ],
                          [
                            0.6666666666666666,
                            "#ed7953"
                          ],
                          [
                            0.7777777777777778,
                            "#fb9f3a"
                          ],
                          [
                            0.8888888888888888,
                            "#fdca26"
                          ],
                          [
                            1,
                            "#f0f921"
                          ]
                        ]
                      }
                    ],
                    "scattergeo": [
                      {
                        "marker": {
                          "colorbar": {
                            "outlinewidth": 0,
                            "ticks": ""
                          }
                        },
                        "type": "scattergeo"
                      }
                    ],
                    "bar": [
                      {
                        "marker": {
                          "line": {
                            "color": "#E5ECF6",
                            "width": 0.5
                          }
                        },
                        "type": "bar",
                        "error_x": {
                          "color": "#2a3f5f"
                        },
                        "error_y": {
                          "color": "#2a3f5f"
                        }
                      }
                    ],
                    "choropleth": [
                      {
                        "colorbar": {
                          "outlinewidth": 0,
                          "ticks": ""
                        },
                        "type": "choropleth"
                      }
                    ],
                    "parcoords": [
                      {
                        "line": {
                          "colorbar": {
                            "outlinewidth": 0,
                            "ticks": ""
                          }
                        },
                        "type": "parcoords"
                      }
                    ],
                    "barpolar": [
                      {
                        "marker": {
                          "line": {
                            "color": "#E5ECF6",
                            "width": 0.5
                          }
                        },
                        "type": "barpolar"
                      }
                    ],
                    "histogram2dcontour": [
                      {
                        "colorbar": {
                          "outlinewidth": 0,
                          "ticks": ""
                        },
                        "type": "histogram2dcontour",
                        "colorscale": [
                          [
                            0,
                            "#0d0887"
                          ],
                          [
                            0.1111111111111111,
                            "#46039f"
                          ],
                          [
                            0.2222222222222222,
                            "#7201a8"
                          ],
                          [
                            0.3333333333333333,
                            "#9c179e"
                          ],
                          [
                            0.4444444444444444,
                            "#bd3786"
                          ],
                          [
                            0.5555555555555556,
                            "#d8576b"
                          ],
                          [
                            0.6666666666666666,
                            "#ed7953"
                          ],
                          [
                            0.7777777777777778,
                            "#fb9f3a"
                          ],
                          [
                            0.8888888888888888,
                            "#fdca26"
                          ],
                          [
                            1,
                            "#f0f921"
                          ]
                        ]
                      }
                    ],
                    "scatter": [
                      {
                        "marker": {
                          "colorbar": {
                            "outlinewidth": 0,
                            "ticks": ""
                          }
                        },
                        "type": "scatter"
                      }
                    ]
                  }
                }
              }
            }
          },
          "metadata": {
            "tags": []
          }
        }
      ]
    },
    {
      "cell_type": "code",
      "metadata": {
        "id": "vBL2_DRjIHOI"
      },
      "source": [
        ""
      ],
      "execution_count": null,
      "outputs": []
    }
  ]
}
